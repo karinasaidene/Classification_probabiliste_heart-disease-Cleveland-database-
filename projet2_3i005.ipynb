{
  "cells": [
    {
      "cell_type": "markdown",
      "metadata": {
        "id": "i49Vl7SR2IZi"
      },
      "source": [
        "# 3i005 - projet 2 - 2022oct\n",
        "# CLASSIFICATIONS PROBABILISTES\n",
        "\n",
        "Le but de ce projet est d'étudier les méthodes de classifications auxquelles les statistiques donnent accès naturellement. Il s'agira donc d'étudier les outils de classifications probabilistes. C'est bien évidemment une petite partie de l'ensemble des méthodes de classification existant.\n",
        "\n",
        "### Évaluation du projet\n",
        "<font color=\"red\">L'ensemble des codes que vous réaliserez seront accessible à partir du ficher `projet.py`.  L'évaluation de votre code se fera à l'aide de données autres que celles du projet dans un programme qui commencera par importer votre `projet.py`. **il faudra donc une vigilance particulière à respecter les noms et la signature des classes, fonctions et méthodes ! Le code dans ce notebook ne doit pas être modifié, votre code dans `projet.py` doit permettre d'exécuter ce notebook et d'avoir les mêmes résultats que ceux de la version originale**.</font>\n",
        "\n",
        "* Si des questions méritent des réponses ouvertes, ces réponses seront insérées dans ce notebook dans une cellule immédiatement en dessous de celle contenant la question (visible par <img src=\"question.png\"  align=\"bottom\">) et nulle part ailleurs (la cellule existe et contient le texte `(votre réponse ici)`).\n",
        "\n",
        "* Une attention soutenue sera demandée à la documentation de votre code et à sa qualité ainsi qu'à la qualité des réponses ouvertes dans ce notebook.\n",
        "\n",
        "* Enfin, tous nos classifieurs seront codés dans des classes, sous-classes de `AbstractClassifier` dans le fichier `utils.py`. Pour rappel de la programmation orientée object en python 3, par exemple : https://realpython.com/python3-object-oriented-programming/#dog-park-example. \n",
        "\n",
        "* Vous soumettrez un fichier `projet2-GrX-Y.{zip|tgz}` où `X` est votre groupe, `Y` est votre (ou vos) noms. Le format `zip` ou `tgz` est au choix. (Par exemple : `projet2-Gr1-Nom1Prenom1-Nom2Prenom2.tgz`.)\n",
        "\n",
        "### Base utilisée : heart disease (Cleveland database)\n",
        "\n",
        "        This database contains 76 attributes, but all published experiments refer to using a subset of 14 of them. In particular, the Cleveland database is the only one that has been used by ML researchers to this date. \n",
        "        The `target` field refers to the presence of heart disease in the patient. It is integer valued from 0 (no presence) to 4. Experiments with the Cleveland database have concentrated on simply attempting to distinguish presence (values 1) from absence (value 0). \n",
        "\n",
        "| champs | definition |\n",
        "|--------|------------|\n",
        "|age|  age in years| \n",
        "|sex| (1 = male; 0 = female)| \n",
        "|cp|  chest pain type| \n",
        "|trestbps| resting blood pressure (in mm Hg on admission to the hospital)| \n",
        "|chol| serum cholestoral in mg/dl| \n",
        "|fbs| (fasting blood sugar > 120 mg/dl) (1 = true; 0 = false)| \n",
        "|restecg| resting electrocardiographic results| \n",
        "|thalach| maximum heart rate achieved| \n",
        "|exang| exercise induced angina (1 = yes; 0 = no)| \n",
        "|oldpeak| ST depression induced by exercise relative to rest| \n",
        "|slope|the slope of the peak exercise ST segment| \n",
        "|ca| number of major vessels (0-3) colored by flourosopy| \n",
        "|thal|3 = normal; 6 = fixed defect; 7 = reversable defect| \n",
        "|target| 1 or 0 | \n",
        "\n",
        "Notre but est donc de proposer des classifieurs qui tentent de prédire la valeur de `target` à partir des autres champs en utilisant des arguments probabilistes.\n",
        "\n",
        "## Simplification de la base (prélude au projet : pas de travail à faire dans cette partie)"
      ]
    },
    {
      "cell_type": "code",
      "execution_count": 53,
      "metadata": {
        "ExecuteTime": {
          "end_time": "2019-03-20T14:34:12.727164Z",
          "start_time": "2019-03-20T14:34:12.433514Z"
        },
        "id": "wEhErLqR2IZl"
      },
      "outputs": [],
      "source": [
        "import pandas as pd # package for high-performance, easy-to-use data structures and data analysis\n",
        "import numpy as np # fundamental package for scientific computing with Python"
      ]
    },
    {
      "cell_type": "code",
      "execution_count": 54,
      "metadata": {
        "ExecuteTime": {
          "end_time": "2019-03-20T14:34:13.083455Z",
          "start_time": "2019-03-20T14:34:12.729735Z"
        },
        "scrolled": true,
        "tags": [],
        "id": "94eFZLAc2IZm",
        "colab": {
          "base_uri": "https://localhost:8080/"
        },
        "outputId": "a9b26115-a642-4ed1-cf76-e073ce78629d"
      },
      "outputs": [
        {
          "output_type": "stream",
          "name": "stdout",
          "text": [
            "The autoreload extension is already loaded. To reload it, use:\n",
            "  %reload_ext autoreload\n"
          ]
        }
      ],
      "source": [
        "# Afin de vous simplifier la vie : à chaque modification de projet.py, il sera rechargé par la session jupyter.\n",
        "%load_ext autoreload\n",
        "%autoreload 2\n",
        "\n",
        "# utils.py contient des fonctions et des classes d'aide au projet. IL NE FAUT RIEN CHANGER DANS CE FICHIER\n",
        "import utils\n",
        "\n",
        "# Cette ligne importe vos codes. VOTRE CODE EST A ÉCRIRE DANS projet.py. \n",
        "import projet # votre code"
      ]
    },
    {
      "cell_type": "code",
      "execution_count": 55,
      "metadata": {
        "ExecuteTime": {
          "end_time": "2019-03-20T14:34:13.112738Z",
          "start_time": "2019-03-20T14:34:13.085833Z"
        },
        "colab": {
          "base_uri": "https://localhost:8080/",
          "height": 206
        },
        "id": "IOtABFDt2IZm",
        "outputId": "d03384ae-dcae-43cb-cb8f-c95d5ee4af18"
      },
      "outputs": [
        {
          "output_type": "execute_result",
          "data": {
            "text/plain": [
              "   age  sex  cp  trestbps  chol  fbs  restecg  thalach  exang  oldpeak  slope  \\\n",
              "0   63    1   3       145   233    1        0      150      0      2.3      0   \n",
              "1   37    1   2       130   250    0        1      187      0      3.5      0   \n",
              "2   41    0   1       130   204    0        0      172      0      1.4      2   \n",
              "3   56    1   1       120   236    0        1      178      0      0.8      2   \n",
              "4   57    0   0       120   354    0        1      163      1      0.6      2   \n",
              "\n",
              "   ca  thal  target  \n",
              "0   0     1       1  \n",
              "1   0     2       1  \n",
              "2   0     2       1  \n",
              "3   0     2       1  \n",
              "4   0     2       1  "
            ],
            "text/html": [
              "\n",
              "  <div id=\"df-b8486043-7afa-4cef-a726-115dc825f275\">\n",
              "    <div class=\"colab-df-container\">\n",
              "      <div>\n",
              "<style scoped>\n",
              "    .dataframe tbody tr th:only-of-type {\n",
              "        vertical-align: middle;\n",
              "    }\n",
              "\n",
              "    .dataframe tbody tr th {\n",
              "        vertical-align: top;\n",
              "    }\n",
              "\n",
              "    .dataframe thead th {\n",
              "        text-align: right;\n",
              "    }\n",
              "</style>\n",
              "<table border=\"1\" class=\"dataframe\">\n",
              "  <thead>\n",
              "    <tr style=\"text-align: right;\">\n",
              "      <th></th>\n",
              "      <th>age</th>\n",
              "      <th>sex</th>\n",
              "      <th>cp</th>\n",
              "      <th>trestbps</th>\n",
              "      <th>chol</th>\n",
              "      <th>fbs</th>\n",
              "      <th>restecg</th>\n",
              "      <th>thalach</th>\n",
              "      <th>exang</th>\n",
              "      <th>oldpeak</th>\n",
              "      <th>slope</th>\n",
              "      <th>ca</th>\n",
              "      <th>thal</th>\n",
              "      <th>target</th>\n",
              "    </tr>\n",
              "  </thead>\n",
              "  <tbody>\n",
              "    <tr>\n",
              "      <th>0</th>\n",
              "      <td>63</td>\n",
              "      <td>1</td>\n",
              "      <td>3</td>\n",
              "      <td>145</td>\n",
              "      <td>233</td>\n",
              "      <td>1</td>\n",
              "      <td>0</td>\n",
              "      <td>150</td>\n",
              "      <td>0</td>\n",
              "      <td>2.3</td>\n",
              "      <td>0</td>\n",
              "      <td>0</td>\n",
              "      <td>1</td>\n",
              "      <td>1</td>\n",
              "    </tr>\n",
              "    <tr>\n",
              "      <th>1</th>\n",
              "      <td>37</td>\n",
              "      <td>1</td>\n",
              "      <td>2</td>\n",
              "      <td>130</td>\n",
              "      <td>250</td>\n",
              "      <td>0</td>\n",
              "      <td>1</td>\n",
              "      <td>187</td>\n",
              "      <td>0</td>\n",
              "      <td>3.5</td>\n",
              "      <td>0</td>\n",
              "      <td>0</td>\n",
              "      <td>2</td>\n",
              "      <td>1</td>\n",
              "    </tr>\n",
              "    <tr>\n",
              "      <th>2</th>\n",
              "      <td>41</td>\n",
              "      <td>0</td>\n",
              "      <td>1</td>\n",
              "      <td>130</td>\n",
              "      <td>204</td>\n",
              "      <td>0</td>\n",
              "      <td>0</td>\n",
              "      <td>172</td>\n",
              "      <td>0</td>\n",
              "      <td>1.4</td>\n",
              "      <td>2</td>\n",
              "      <td>0</td>\n",
              "      <td>2</td>\n",
              "      <td>1</td>\n",
              "    </tr>\n",
              "    <tr>\n",
              "      <th>3</th>\n",
              "      <td>56</td>\n",
              "      <td>1</td>\n",
              "      <td>1</td>\n",
              "      <td>120</td>\n",
              "      <td>236</td>\n",
              "      <td>0</td>\n",
              "      <td>1</td>\n",
              "      <td>178</td>\n",
              "      <td>0</td>\n",
              "      <td>0.8</td>\n",
              "      <td>2</td>\n",
              "      <td>0</td>\n",
              "      <td>2</td>\n",
              "      <td>1</td>\n",
              "    </tr>\n",
              "    <tr>\n",
              "      <th>4</th>\n",
              "      <td>57</td>\n",
              "      <td>0</td>\n",
              "      <td>0</td>\n",
              "      <td>120</td>\n",
              "      <td>354</td>\n",
              "      <td>0</td>\n",
              "      <td>1</td>\n",
              "      <td>163</td>\n",
              "      <td>1</td>\n",
              "      <td>0.6</td>\n",
              "      <td>2</td>\n",
              "      <td>0</td>\n",
              "      <td>2</td>\n",
              "      <td>1</td>\n",
              "    </tr>\n",
              "  </tbody>\n",
              "</table>\n",
              "</div>\n",
              "      <button class=\"colab-df-convert\" onclick=\"convertToInteractive('df-b8486043-7afa-4cef-a726-115dc825f275')\"\n",
              "              title=\"Convert this dataframe to an interactive table.\"\n",
              "              style=\"display:none;\">\n",
              "        \n",
              "  <svg xmlns=\"http://www.w3.org/2000/svg\" height=\"24px\"viewBox=\"0 0 24 24\"\n",
              "       width=\"24px\">\n",
              "    <path d=\"M0 0h24v24H0V0z\" fill=\"none\"/>\n",
              "    <path d=\"M18.56 5.44l.94 2.06.94-2.06 2.06-.94-2.06-.94-.94-2.06-.94 2.06-2.06.94zm-11 1L8.5 8.5l.94-2.06 2.06-.94-2.06-.94L8.5 2.5l-.94 2.06-2.06.94zm10 10l.94 2.06.94-2.06 2.06-.94-2.06-.94-.94-2.06-.94 2.06-2.06.94z\"/><path d=\"M17.41 7.96l-1.37-1.37c-.4-.4-.92-.59-1.43-.59-.52 0-1.04.2-1.43.59L10.3 9.45l-7.72 7.72c-.78.78-.78 2.05 0 2.83L4 21.41c.39.39.9.59 1.41.59.51 0 1.02-.2 1.41-.59l7.78-7.78 2.81-2.81c.8-.78.8-2.07 0-2.86zM5.41 20L4 18.59l7.72-7.72 1.47 1.35L5.41 20z\"/>\n",
              "  </svg>\n",
              "      </button>\n",
              "      \n",
              "  <style>\n",
              "    .colab-df-container {\n",
              "      display:flex;\n",
              "      flex-wrap:wrap;\n",
              "      gap: 12px;\n",
              "    }\n",
              "\n",
              "    .colab-df-convert {\n",
              "      background-color: #E8F0FE;\n",
              "      border: none;\n",
              "      border-radius: 50%;\n",
              "      cursor: pointer;\n",
              "      display: none;\n",
              "      fill: #1967D2;\n",
              "      height: 32px;\n",
              "      padding: 0 0 0 0;\n",
              "      width: 32px;\n",
              "    }\n",
              "\n",
              "    .colab-df-convert:hover {\n",
              "      background-color: #E2EBFA;\n",
              "      box-shadow: 0px 1px 2px rgba(60, 64, 67, 0.3), 0px 1px 3px 1px rgba(60, 64, 67, 0.15);\n",
              "      fill: #174EA6;\n",
              "    }\n",
              "\n",
              "    [theme=dark] .colab-df-convert {\n",
              "      background-color: #3B4455;\n",
              "      fill: #D2E3FC;\n",
              "    }\n",
              "\n",
              "    [theme=dark] .colab-df-convert:hover {\n",
              "      background-color: #434B5C;\n",
              "      box-shadow: 0px 1px 3px 1px rgba(0, 0, 0, 0.15);\n",
              "      filter: drop-shadow(0px 1px 2px rgba(0, 0, 0, 0.3));\n",
              "      fill: #FFFFFF;\n",
              "    }\n",
              "  </style>\n",
              "\n",
              "      <script>\n",
              "        const buttonEl =\n",
              "          document.querySelector('#df-b8486043-7afa-4cef-a726-115dc825f275 button.colab-df-convert');\n",
              "        buttonEl.style.display =\n",
              "          google.colab.kernel.accessAllowed ? 'block' : 'none';\n",
              "\n",
              "        async function convertToInteractive(key) {\n",
              "          const element = document.querySelector('#df-b8486043-7afa-4cef-a726-115dc825f275');\n",
              "          const dataTable =\n",
              "            await google.colab.kernel.invokeFunction('convertToInteractive',\n",
              "                                                     [key], {});\n",
              "          if (!dataTable) return;\n",
              "\n",
              "          const docLinkHtml = 'Like what you see? Visit the ' +\n",
              "            '<a target=\"_blank\" href=https://colab.research.google.com/notebooks/data_table.ipynb>data table notebook</a>'\n",
              "            + ' to learn more about interactive tables.';\n",
              "          element.innerHTML = '';\n",
              "          dataTable['output_type'] = 'display_data';\n",
              "          await google.colab.output.renderOutput(dataTable, element);\n",
              "          const docLink = document.createElement('div');\n",
              "          docLink.innerHTML = docLinkHtml;\n",
              "          element.appendChild(docLink);\n",
              "        }\n",
              "      </script>\n",
              "    </div>\n",
              "  </div>\n",
              "  "
            ]
          },
          "metadata": {},
          "execution_count": 55
        }
      ],
      "source": [
        "data=pd.read_csv(\"heart.csv\")\n",
        "data.head()"
      ]
    },
    {
      "cell_type": "code",
      "execution_count": 56,
      "metadata": {
        "ExecuteTime": {
          "end_time": "2019-03-20T14:34:14.979903Z",
          "start_time": "2019-03-20T14:34:13.114459Z"
        },
        "colab": {
          "base_uri": "https://localhost:8080/",
          "height": 491
        },
        "id": "p37nnSGI2IZn",
        "outputId": "42a84fb7-eabb-4d16-8785-5b9eae63f98f"
      },
      "outputs": [
        {
          "output_type": "display_data",
          "data": {
            "text/plain": [
              "<Figure size 1152x576 with 14 Axes>"
            ],
            "image/png": "[encoded data removed]"
          },
          "metadata": {
            "needs_background": "light"
          }
        }
      ],
      "source": [
        "utils.viewData(data)"
      ]
    },
    {
      "cell_type": "markdown",
      "metadata": {
        "id": "fd4QfCEu2IZn"
      },
      "source": [
        "Certaines variabless comme `age`, `thalach`, etc. possèdent un grand nombre de modalités, rendant difficile le traitement. Nous simplifions donc la base en discrétisant au mieux toutes les variables qui ont plus de 5 valeurs."
      ]
    },
    {
      "cell_type": "code",
      "execution_count": 57,
      "metadata": {
        "ExecuteTime": {
          "end_time": "2019-03-20T14:34:17.180286Z",
          "start_time": "2019-03-20T14:34:14.982923Z"
        },
        "colab": {
          "base_uri": "https://localhost:8080/",
          "height": 491
        },
        "id": "gVqsZulC2IZn",
        "outputId": "dafb79a5-3de1-452f-a974-f51a4ff4db40"
      },
      "outputs": [
        {
          "output_type": "display_data",
          "data": {
            "text/plain": [
              "<Figure size 1152x576 with 14 Axes>"
            ],
            "image/png": "[encoded data removed]"
          },
          "metadata": {
            "needs_background": "light"
          }
        }
      ],
      "source": [
        "discretise=utils.discretizeData(data)\n",
        "utils.viewData(discretise,kde=False)"
      ]
    },
    {
      "cell_type": "markdown",
      "metadata": {
        "id": "6siBoucE2IZn"
      },
      "source": [
        "Nous utilisons maintenant 2 fichiers csv **préparés à l'avance pour ce projet** à partir de cette base afin de rendre les résultats plus intéressants (en particulier, les 2 classes sont un peu plus déséquilibrées)."
      ]
    },
    {
      "cell_type": "code",
      "execution_count": 58,
      "metadata": {
        "ExecuteTime": {
          "end_time": "2019-03-20T14:34:18.886098Z",
          "start_time": "2019-03-20T14:34:17.184548Z"
        },
        "colab": {
          "base_uri": "https://localhost:8080/",
          "height": 487
        },
        "id": "fOOZQh502IZn",
        "outputId": "f940e058-348a-4cad-cce4-14ab0500c830"
      },
      "outputs": [
        {
          "output_type": "display_data",
          "data": {
            "text/plain": [
              "<Figure size 1152x576 with 14 Axes>"
            ],
            "image/png": "[encoded data removed]"
          },
          "metadata": {
            "needs_background": "light"
          }
        }
      ],
      "source": [
        "train=pd.read_csv(\"train.csv\")\n",
        "test=pd.read_csv(\"test.csv\")\n",
        "utils.viewData(train,kde=False)   "
      ]
    },
    {
      "cell_type": "markdown",
      "metadata": {
        "id": "MLtx_9Fx2IZo"
      },
      "source": [
        "<img src=\"warning.png\"  align=\"middle\"> À partir de maintenant, nous utilisons le dataframe `train` qui contient les données pour l'apprentissage et `test` qui contient les données pour la validation.\n",
        "\n",
        "# Classification a priori\n",
        "\n",
        "## Question 1 \n",
        "Dans une fonction `getPrior`, calculer la probabilité a priori de la classe $1$ ainsi que l'intervalle de confiance à 95% pour l'estimation de cette probabilité."
      ]
    },
    {
      "cell_type": "code",
      "execution_count": 59,
      "metadata": {
        "ExecuteTime": {
          "end_time": "2019-03-20T14:34:18.938632Z",
          "start_time": "2019-03-20T14:34:18.889301Z"
        },
        "colab": {
          "base_uri": "https://localhost:8080/"
        },
        "id": "K3aCtASN2IZo",
        "outputId": "fc6ccc38-3c73-414d-c5bf-9e6a429276a7"
      },
      "outputs": [
        {
          "output_type": "execute_result",
          "data": {
            "text/plain": [
              "{'estimation': 0.7453874538745388,\n",
              " 'min5pourcent': 0.7086771163094081,\n",
              " 'max5pourcent': 0.7820977914396694}"
            ]
          },
          "metadata": {},
          "execution_count": 59
        }
      ],
      "source": [
        "# cette fonction doit donc rendre un dictionnaire contenant 3 clés 'estimation', 'min5pourcent', 'max5pourcent' (L'ORDRE DES CLES N'EST PAS IMPORTANTE DANS UN DICTIONNAIRE)\n",
        "projet.getPrior(train) "
      ]
    },
    {
      "cell_type": "code",
      "execution_count": 60,
      "metadata": {
        "colab": {
          "base_uri": "https://localhost:8080/"
        },
        "id": "hFEe8UE62IZo",
        "outputId": "1aa917f1-9438-47df-a231-670f864821d6"
      },
      "outputs": [
        {
          "output_type": "execute_result",
          "data": {
            "text/plain": [
              "{'estimation': 0.69,\n",
              " 'min5pourcent': 0.6257408575614747,\n",
              " 'max5pourcent': 0.7542591424385252}"
            ]
          },
          "metadata": {},
          "execution_count": 60
        }
      ],
      "source": [
        "projet.getPrior(test) "
      ]
    },
    {
      "cell_type": "markdown",
      "metadata": {
        "id": "v1o1dZrd2IZo"
      },
      "source": [
        "## Question 2 : programmation orientée objet dans la hiérarchie des `Classifier`"
      ]
    },
    {
      "cell_type": "markdown",
      "metadata": {
        "id": "mBome_1l2IZo"
      },
      "source": [
        "On propose de représenter les classifieurs en python par des classes d'une hiérarchie. Un classifieur répond à une question principale : étant donné un vecteur d'attributs, quelle est la classe proposée ?\n",
        "Nous proposons donc une classe de base qu'il s'agira d'**améliorer et de spécialiser en la sous-classant** : `AbstractClassifier` dans le fichier `utils.py` \n",
        "\n",
        "### Question 2a\n",
        "Ecrire dans `projet.py` un classifieur `APrioriClassifier` (enfant de `AbstractClassifier`) qui utilise le résultat de la question 1 pour estimer très simplement la classe de chaque individu par la classe majoritaire.  "
      ]
    },
    {
      "cell_type": "code",
      "execution_count": 61,
      "metadata": {
        "ExecuteTime": {
          "end_time": "2019-03-20T14:34:18.954885Z",
          "start_time": "2019-03-20T14:34:18.940459Z"
        },
        "id": "XvJm3TRR2IZp"
      },
      "outputs": [],
      "source": [
        "cl=projet.APrioriClassifier(train)\n",
        "clpredite=cl.estimClass(None) # n'importe quoi donne la même classe pour un classifieur a priori \n",
        "# la valeur prédite n'est pas affichée sciemment"
      ]
    },
    {
      "cell_type": "markdown",
      "metadata": {
        "id": "YNpE2ZH32IZp"
      },
      "source": [
        "<div style=\"float:right;margin:0 10px 10px 0\">\n",
        "    <img src=\"PrecisionRappel.png\">\n",
        "</div>\n",
        "\n",
        "### Question 2b : évaluation de classifieurs\n",
        "\n",
        "Implémenter également la méthode `statsOnDF` qui rendra les valeurs suivantes :\n",
        "\n",
        "- VP : nombre d'individus avec target=1 et classe prévue=1\n",
        "- VN : nombre d'individus avec target=0 et classe prévue=0\n",
        "- FP : nombre d'individus avec target=0 et classe prévue=1\n",
        "- FN : nombre d'individus avec target=1 et classe prévue=0\n",
        "- précision \n",
        "- rappel\n",
        "\n",
        "\n",
        "- <i>Petite aide : comment itérer sur un dataframe</i>\n",
        "\n",
        "`for t in train.itertuples():\n",
        "    dic=t._asdict()\n",
        "    print(\"ca={} oldpeak={} target={}\".format(dic['ca'],dic['oldpeak'],dic['target']))\n",
        "`\n",
        "\n",
        "- <i>Par ailleurs, dans utils, il y a une fonction `getNthDict(df,n)` qui rend le dictionnaire des attributs de la $n$ième ligne dans `df`.</i>\n",
        "    \n",
        "`\n",
        "getNthDict(train,0)\n",
        "{'age': 9, 'sex': 1, 'cp': 3, 'trestbps': 9, 'chol': 6, 'fbs': 1, 'restecg': 0, 'thalach': 9, 'exang': 0, 'oldpeak': 6, 'slope': 0, 'ca': 0, 'thal': 1, 'target': 1}\n",
        "`"
      ]
    },
    {
      "cell_type": "code",
      "execution_count": 62,
      "metadata": {
        "ExecuteTime": {
          "end_time": "2019-03-20T14:34:19.066092Z",
          "start_time": "2019-03-20T14:34:18.956737Z"
        },
        "id": "drR_JXf62IZp",
        "outputId": "a4f03444-26df-45db-d4f1-552955981b54",
        "colab": {
          "base_uri": "https://localhost:8080/"
        }
      },
      "outputs": [
        {
          "output_type": "stream",
          "name": "stdout",
          "text": [
            "test en apprentissage : {'VP': 404, 'VN': 0, 'FP': 138, 'FN': 0, 'Précision': 0.7453874538745388, 'Rappel': 1.0}\n",
            "test en validation: {'VP': 138, 'VN': 0, 'FP': 62, 'FN': 0, 'Précision': 0.69, 'Rappel': 1.0}\n"
          ]
        }
      ],
      "source": [
        "cl=projet.APrioriClassifier(train)\n",
        "print(\"test en apprentissage : {}\".format(cl.statsOnDF(train)))\n",
        "print(\"test en validation: {}\".format(cl.statsOnDF(test)))\n",
        "\n",
        "#test en apprentissage : {'VP': 404, 'VN': 0, 'FP': 138, 'FN': 0, 'Précision': 0.7453874538745388, 'Rappel': 1.0}\n",
        "#test en validation: {'VP': 138, 'VN': 0, 'FP': 62, 'FN': 0, 'Précision': 0.69, 'Rappel': 1.0}"
      ]
    },
    {
      "cell_type": "markdown",
      "metadata": {
        "id": "8xZKasas2IZp"
      },
      "source": [
        "## Question 3 : classification probabiliste à 2 dimensions\n",
        "\n",
        "La classification a priori ne donne pas d'excellents résultats puiqu'elle se contente de la règle majoritaire. On se propose donc maintenant essayer d'enrichir notre processus de décision en tenant compte d'une caractéristique de la base de données.\n",
        "\n",
        "### Question 3.a : probabilités conditionelles\n",
        "\n",
        "Écrire une fonction `P2D_l(df,attr)` qui calcule dans le dataframe la probabilité $P(attr|target)$ sous la forme d'un dictionnaire asssociant à la valeur $t$ un dictionnaire associant à la valeur $a$ la probabilité $P(attr=a|target=t)$."
      ]
    },
    {
      "cell_type": "markdown",
      "source": [],
      "metadata": {
        "id": "3qzUlpc--n6w"
      }
    },
    {
      "cell_type": "code",
      "execution_count": 63,
      "metadata": {
        "ExecuteTime": {
          "end_time": "2019-03-20T14:34:19.096627Z",
          "start_time": "2019-03-20T14:34:19.068048Z"
        },
        "id": "oxBuQ_UQ2IZq",
        "outputId": "0b83a557-ab8d-414f-8b38-83a9096f0242",
        "colab": {
          "base_uri": "https://localhost:8080/"
        }
      },
      "outputs": [
        {
          "output_type": "execute_result",
          "data": {
            "text/plain": [
              "{1: {1: 0.03217821782178218,\n",
              "  2: 0.7821782178217822,\n",
              "  3: 0.1782178217821782,\n",
              "  0: 0.007425742574257425},\n",
              " 0: {1: 0.08695652173913043,\n",
              "  2: 0.2608695652173913,\n",
              "  3: 0.644927536231884,\n",
              "  0: 0.007246376811594203}}"
            ]
          },
          "metadata": {},
          "execution_count": 63
        }
      ],
      "source": [
        "projet.P2D_l(train,'thal')\n",
        "\n",
        "#{1: {1: 0.03217821782178218,\n",
        "#  2: 0.7821782178217822,\n",
        "#  3: 0.1782178217821782,\n",
        "#  0: 0.007425742574257425},\n",
        "# 0: {1: 0.08695652173913043,\n",
        "#  2: 0.2608695652173913,\n",
        "#  3: 0.644927536231884,\n",
        "#  0: 0.007246376811594203}}"
      ]
    },
    {
      "cell_type": "markdown",
      "metadata": {
        "id": "zluUQ6cB2IZq"
      },
      "source": [
        "Écrire une fonction `P2D_p(df,attr)` qui calcule dans le dataframe la probabilité $P(target|attr)$ sous la forme d'un dictionnaire associant à la valeur $a$ un dictionnaire asssociant à la valeur $t$ la probabilité $P(target=t|attr=a)$."
      ]
    },
    {
      "cell_type": "code",
      "execution_count": 64,
      "metadata": {
        "ExecuteTime": {
          "end_time": "2019-03-20T14:34:19.125774Z",
          "start_time": "2019-03-20T14:34:19.098533Z"
        },
        "id": "ims2cKaT2IZq",
        "outputId": "9faa9180-8f59-401f-8022-ffde9ea0c167",
        "colab": {
          "base_uri": "https://localhost:8080/"
        }
      },
      "outputs": [
        {
          "output_type": "execute_result",
          "data": {
            "text/plain": [
              "{1: {1: 0.52, 0: 0.48},\n",
              " 2: {1: 0.8977272727272727, 0: 0.10227272727272728},\n",
              " 3: {1: 0.4472049689440994, 0: 0.5527950310559007},\n",
              " 0: {1: 0.75, 0: 0.25}}"
            ]
          },
          "metadata": {},
          "execution_count": 64
        }
      ],
      "source": [
        "projet.P2D_p(train,'thal')\n",
        "\n",
        "\n",
        "#{1: {1: 0.52, 0: 0.48},\n",
        "# 2: {1: 0.8977272727272727, 0: 0.10227272727272728},\n",
        "# 3: {1: 0.4472049689440994, 0: 0.5527950310559007},\n",
        "# 0: {1: 0.75, 0: 0.25}}"
      ]
    },
    {
      "cell_type": "markdown",
      "metadata": {
        "id": "rTTztFoq2IZq"
      },
      "source": [
        "### Question 3.b : classifieurs 2D par maximum de vraisemblance\n",
        "\n",
        "Supposons qu'un individu ait la valeur $a$ pour l'$attr$, un classifieur du type $P2D_l$ pourrrait donc utiliser  $P(attr=a|target=t)$ et sélectionner comme estimation de la classe de l'individu la valeur $t=0$ ou $t=1$ maximisant cette probabilité. $P(attr=a|target)$ est la vraisemblance d'observer $attr=a$ quand $target=0$ ou $target=1$. Un tel classifieur utilise donc le principe du **maximum de vraisemblance** (ML=Max Likelihood). \n",
        "\n",
        "Pour construire un tel classifieur, il faut initialiser l'attribut utilisé puis construire la table `P2Dl`. La fonction `estimClass` rendra la position du maximum trouvé dans cette table.\n",
        "\n",
        "\n",
        "> Supposons un individu dont $thal=3$, alors dans la table P2Dl, on trouve $0.178$ pour $target=1$ et $0.644$ pour $target=0$, la bonne classe d'après le critère du ML est donc $0$\n",
        "\n",
        "Écrire une classe `ML2DClassifier` qui utilise une telle procédure de maximum de vraisemblance pour estimer la classe d'un individu. Afin de ne pas avoir à réécrire la méthode `statsOnDF` qui ne devrait pas changer, `ML2DClassifier` aura pour parent la classe `APrioriClassifier`.\n",
        "\n",
        "**PS**- penser bien à calculer une seule fois la table `P2Dl` dans le constructeur de la classe afin de ne pas itérer sur toute la base à chaque fois que vous appelez la méthode `estimClass`.\n",
        "\n",
        "**PS2**- Dans les cas d'égalité des 2 probabilités, on choisira la classe 0."
      ]
    },
    {
      "cell_type": "code",
      "execution_count": 65,
      "metadata": {
        "ExecuteTime": {
          "end_time": "2019-03-20T14:34:19.158967Z",
          "start_time": "2019-03-20T14:34:19.127266Z"
        },
        "id": "mH6LYYK32IZr",
        "outputId": "bd5f6ed7-f826-4821-b361-342a8844f1ec",
        "colab": {
          "base_uri": "https://localhost:8080/"
        }
      },
      "outputs": [
        {
          "output_type": "stream",
          "name": "stdout",
          "text": [
            "Estimation de la classe de l'individu 0 par ML2DClassifier : 0\n",
            "Estimation de la classe de l'individu 1 par ML2DClassifier : 1\n",
            "Estimation de la classe de l'individu 2 par ML2DClassifier : 1\n"
          ]
        }
      ],
      "source": [
        "cl=projet.ML2DClassifier(train,\"thal\") # cette ligne appelle projet.P2Dl(train,\"thal\")\n",
        "for i in [0,1,2]:\n",
        "    print(\"Estimation de la classe de l'individu {} par ML2DClassifier : {}\".format(i,cl.estimClass(utils.getNthDict(train,i))))\n",
        "    \n",
        "    \n",
        "\n",
        "    \n",
        "#Estimation de la classe de l'individu 0 par ML2DClassifier : 0\n",
        "#Estimation de la classe de l'individu 1 par ML2DClassifier : 1\n",
        "#Estimation de la classe de l'individu 2 par ML2DClassifier : 1\n"
      ]
    },
    {
      "cell_type": "code",
      "execution_count": 66,
      "metadata": {
        "ExecuteTime": {
          "end_time": "2019-03-20T14:34:19.183309Z",
          "start_time": "2019-03-20T14:34:19.160703Z"
        },
        "id": "D5R0P_jU2IZr",
        "outputId": "81de750a-4ffe-4af4-8bf0-dfd25249108f",
        "colab": {
          "base_uri": "https://localhost:8080/"
        }
      },
      "outputs": [
        {
          "output_type": "stream",
          "name": "stdout",
          "text": [
            "test en apprentissage : {'VP': 319, 'VN': 101, 'FP': 37, 'FN': 85, 'Précision': 0.8960674157303371, 'Rappel': 0.7896039603960396}\n",
            "test en validation: {'VP': 113, 'VN': 48, 'FP': 14, 'FN': 25, 'Précision': 0.889763779527559, 'Rappel': 0.8188405797101449}\n"
          ]
        }
      ],
      "source": [
        "print(\"test en apprentissage : {}\".format(cl.statsOnDF(train)))\n",
        "print(\"test en validation: {}\".format(cl.statsOnDF(test)))\n",
        "\n",
        "\n",
        "#test en apprentissage : {'VP': 319, 'VN': 101, 'FP': 37, 'FN': 85, 'Précision': 0.8960674157303371, 'Rappel': 0.7896039603960396}\n",
        "#test en validation: {'VP': 113, 'VN': 48, 'FP': 14, 'FN': 25, 'Précision': 0.889763779527559, 'Rappel': 0.8188405797101449}\n",
        "\n",
        "#Cette fonction sur ce classifieurne marche malheureusement pas, mais nous avons quand même essayer \n",
        "#de l'implementer correctement plusieurs fois pour qu'elle fonctionne (en vain). La version la plus \"poussée\"\n",
        "#Est présente dans le code"
      ]
    },
    {
      "cell_type": "markdown",
      "metadata": {
        "id": "ZWquhBKf2IZr"
      },
      "source": [
        "### Question 3.c : classifieurs 2D par maximum a posteriori\n",
        "\n",
        "Supposons qu'un individu ait la valeur $a$ pour l'$attr$, un classifieur du type $P2D_p$ pourrrait donc utiliser  $P(target=t|attr=a)$ et sélectionner comme estimation de la classe de l'individu la valeur $t=0$ ou $t=1$ maximisant cette probabilité. $P(target|attr=a)$ est la distribution a posteriori de $target$ après avoir observé $attr=a$. Un tel classifieur utilise donc le principe du **maximum a posteriori** (MAP). \n",
        "\n",
        "Pour construire un tel classifieur, il faut initialiser l'attribut utilisé puis construire la table `P2Dp`. La fonction `estimClass` rendra la position du maximum trouvé dans cette table.\n",
        "\n",
        "> Supposons un individu dont $thal=3$, alors dans la table P2Dp, on trouve $0.447$ pour $target=1$ et $0.552$ pour $target=0$, la bonne classe d'après le critère du ML est donc $0$\n",
        "\n",
        "Écrire une classe `MAP2DClassifier` qui utilise une telle procédure de maximum de vraisemblance pour estimer la classe d'un individu. Afin de ne pas avoir à réécrire la méthode `statsOnDF` qui ne devrait pas changer, `MAP2DClassifier` héritera de `AprioriClassifier`.\n",
        "\n",
        "**PS**- penser bien à calculer une seule fois la table `P2Dp` dans le constructeur afin de ne pas itérer sur toute la base à chaque fois que vous appelez la méthode `estimClass`.\n",
        "\n",
        "**PS2**- Dans les cas d'égalité des 2 probabilités, on choisira la classe 0."
      ]
    },
    {
      "cell_type": "code",
      "execution_count": 67,
      "metadata": {
        "ExecuteTime": {
          "end_time": "2019-03-20T14:34:19.220544Z",
          "start_time": "2019-03-20T14:34:19.186304Z"
        },
        "id": "sv0n0eiV2IZr",
        "outputId": "29291b43-c855-4a1e-f56f-db8d154d05d0",
        "colab": {
          "base_uri": "https://localhost:8080/"
        }
      },
      "outputs": [
        {
          "output_type": "stream",
          "name": "stdout",
          "text": [
            "Estimation de la classe de l'individu 0 par MAP2DClasssifer) : 1\n",
            "Estimation de la classe de l'individu 1 par MAP2DClasssifer) : 1\n",
            "Estimation de la classe de l'individu 2 par MAP2DClasssifer) : 1\n"
          ]
        }
      ],
      "source": [
        "cl=projet.MAP2DClassifier(train,\"thal\") # cette ligne appelle projet.P2Dp(train,\"thal\")\n",
        "for i in [0,1,2]:\n",
        "    print(\"Estimation de la classe de l'individu {} par MAP2DClasssifer) : {}\".format(i,cl.estimClass(utils.getNthDict(train,i)))) "
      ]
    },
    {
      "cell_type": "code",
      "execution_count": 68,
      "metadata": {
        "ExecuteTime": {
          "end_time": "2019-03-20T14:34:19.244240Z",
          "start_time": "2019-03-20T14:34:19.223359Z"
        },
        "id": "giH29oLH2IZr",
        "outputId": "6390f5b2-ed4c-4cfd-f588-18f8a37f1360",
        "colab": {
          "base_uri": "https://localhost:8080/"
        }
      },
      "outputs": [
        {
          "output_type": "stream",
          "name": "stdout",
          "text": [
            "test en apprentissage : {'VP': 332, 'VN': 89, 'FP': 49, 'FN': 72, 'Précision': 0.8713910761154856, 'Rappel': 0.8217821782178217}\n",
            "test en validation: {'VP': 114, 'VN': 43, 'FP': 19, 'FN': 24, 'Précision': 0.8571428571428571, 'Rappel': 0.8260869565217391}\n"
          ]
        }
      ],
      "source": [
        "print(\"test en apprentissage : {}\".format(cl.statsOnDF(train)))\n",
        "print(\"test en validation: {}\".format(cl.statsOnDF(test)))"
      ]
    },
    {
      "cell_type": "markdown",
      "metadata": {
        "id": "5L0h-NT22IZs"
      },
      "source": [
        "### Question 3.d - comparaison\n",
        "\n",
        "<div style=\"float:left;margin:0 10px 10px 0\">\n",
        "    <img src=\"question.png\">\n",
        "</div>\n",
        "Quelle classifieur préférez-vous en théorie entre `APrioriClassifier`, `ML2DClassifier` et `MAP2DClassifier` ? Quels résultats vous semble-les plus intéressants ?"
      ]
    },
    {
      "cell_type": "markdown",
      "metadata": {
        "id": "cCQvLnUF2IZs"
      },
      "source": [
        "APrioriClassifier n'est pas fiable car il estime toujours la classe d'un individu à 1.\n",
        "\n",
        "En apprentissage: La précision de ML2DClassifier est ~0.9 contre ~0.87 pour MAP2DClassifier. Le rappel de MAP2DClassifier est supérieur à celui de ML2DClassifier (0.79 contre 0.82).\n",
        "\n",
        "En validation: Le rappel de ML2DClassifier est similaire à celui de MAP2DClassifier. Par contre le rappel de ML2DClassifier est supérieur à celui de ML2DClassifier (0.89 contre 0.86).\n",
        "\n",
        "Entre ML2DClassifier et MAP2DClassifier, on serait tenté de choisir ML2DClassifier car en apprentissage comme en validation, sa précision (ie. la proportion de vrais positifs parmis les personnes testées positives) ainsi que son rappel (la proportion de personnes testées positives parmi les malades) sont légèrement plus fortes que pour MAP2DClassifier.\n",
        "\n",
        "Néanmoins comme on s'interesse au coût de la prédiction, il sera préferable de dire qu'un patient est malade alors qu'il ne l'est pas (FP), que de dire qu'il n'est pas malade alors qu'il l'est (FN). Par conséquent, on choisira le classifieur qui fait diminuer le nombre de faux négatif, c'est à dire MAP2DClassifier."
      ]
    },
    {
      "cell_type": "markdown",
      "metadata": {
        "ExecuteTime": {
          "end_time": "2019-02-26T17:42:46.154475Z",
          "start_time": "2019-02-26T17:42:46.135618Z"
        },
        "id": "uQRhsfeM2IZs"
      },
      "source": [
        "## Question 4\n",
        "\n",
        "On peut bien sûr se dire que les classifieurs ont intérêt à utiliser le plus d'information possible. Il serait donc pertinent de construire les classifieurs `ML3DClassifier`, `MAP3DClassifier`, ..., `ML14DClassifier` et `MAP14DClassifier` où les \"$x$ `DClassifier`\" prendrait $x-1$ attributs pour construire la prédiction de `target`. Toutefois, un problème va nous arrêter : les tables $P14Da$ et $P14Db$ sont de bien trop grande taille. \n",
        "\n",
        "### Question 4.1 : complexité en mémoire\n",
        "\n",
        "Écrire une fonction `nbrParams` qui calcule la taille mémoire de ces tables $P(target|attr_1,..,attr_k)$ étant donné un dataframe et la liste $[target,attr_1,...,attr_l]$ en supposant qu'un float est représenté sur 8octets."
      ]
    },
    {
      "cell_type": "code",
      "execution_count": 69,
      "metadata": {
        "ExecuteTime": {
          "end_time": "2019-03-20T14:34:19.277873Z",
          "start_time": "2019-03-20T14:34:19.245949Z"
        },
        "id": "M9Xf16VW2IZs",
        "outputId": "cac4873c-d1e5-45f9-8d66-c5c7a51b8ef4",
        "colab": {
          "base_uri": "https://localhost:8080/"
        }
      },
      "outputs": [
        {
          "output_type": "stream",
          "name": "stdout",
          "text": [
            "1 variable(s) : 16 octets\n",
            "2 variable(s) : 64 octets\n",
            "2 variable(s) : 208 octets\n",
            "5 variable(s) : 3328 octets = 3ko 256o\n",
            "8 variable(s) : 798720 octets = 780ko 0o\n",
            "14 variable(s) : 58657996800 octets = 54go 644mo 640ko 0o\n"
          ]
        }
      ],
      "source": [
        "projet.nbParams(train,['target'])\n",
        "projet.nbParams(train,['target','thal'])\n",
        "projet.nbParams(train,['target','age'])\n",
        "projet.nbParams(train,['target','age','thal','sex','exang'])\n",
        "projet.nbParams(train,['target','age','thal','sex','exang','slope','ca','chol'])\n",
        "projet.nbParams(train)\n",
        "\n",
        "#1 variable(s) : 16 octets \n",
        "#2 variable(s) : 64 octets \n",
        "#2 variable(s) : 208 octets \n",
        "#5 variable(s) : 3328 octets = 3ko 256o \n",
        "#8 variable(s) : 798720 octets = 780ko 0o \n",
        "#14 variable(s) : 58657996800 octets = 54go 644mo 640ko 0o "
      ]
    },
    {
      "cell_type": "markdown",
      "metadata": {
        "ExecuteTime": {
          "end_time": "2019-02-26T18:01:27.881999Z",
          "start_time": "2019-02-26T18:01:27.849438Z"
        },
        "id": "Re1mUowj2IZs"
      },
      "source": [
        "On ne peut donc pas manipuler de telles tables et il faut trouver de nouvelles façon de représenter les distributions de probabilités, quitte à en faire des approximations. \n",
        "\n",
        "La meilleure façon de simplifier la représentation d'une distribution de probabilité est d'utiliser des hypothèses d'indépendances. Ainsi, dans une loi jointe des variables $A,B,C,D,E$, si on suppose l'indépendance de ces 5 variables, on sait qu'on pourra écrire que $$P(A,B,C,D,E)=P(A)*P(B)*P(C)*P(D)*P(E)$$ et donc remplacer un tableau à 5 dimensions par 5 tableaux monodimensionnels.\n",
        "\n",
        "### Question 4.2 : complexité en mémoire sous hypothèse d'indépendance complète\n",
        "\n",
        "Ecrire une fonction `nbrParamsIndep` qui calcule la taille mémoire nécessaire pour représenter les tables de probabilité étant donné un dataframe, en supposant qu'un float est représenté sur 8octets et **en supposant l'indépendance des variables**."
      ]
    },
    {
      "cell_type": "code",
      "execution_count": 70,
      "metadata": {
        "ExecuteTime": {
          "end_time": "2019-03-20T14:34:19.313186Z",
          "start_time": "2019-03-20T14:34:19.279650Z"
        },
        "id": "WdR5Td1I2IZs",
        "outputId": "9683f213-8843-4d1f-fcdf-355b71b64d72",
        "colab": {
          "base_uri": "https://localhost:8080/"
        }
      },
      "outputs": [
        {
          "output_type": "stream",
          "name": "stdout",
          "text": [
            "1 variable(s) : 16 octets\n",
            "2 variable(s) : 48 octets\n",
            "2 variable(s) : 120 octets\n",
            "5 variable(s) : 184 octets\n",
            "8 variable(s) : 376 octets\n",
            "14 variable(s) : 800 octets\n"
          ]
        }
      ],
      "source": [
        "projet.nbParamsIndep(train[['target']])\n",
        "projet.nbParamsIndep(train[['target','thal']])\n",
        "projet.nbParamsIndep(train[['target','age']])\n",
        "projet.nbParamsIndep(train[['target','age','thal','sex','exang']])\n",
        "projet.nbParamsIndep(train[['target','age','thal','sex','exang','slope','ca','chol']])\n",
        "projet.nbParamsIndep(train)\n",
        "\n",
        "\n",
        "#1 variable(s) : 16 octets \n",
        "#2 variable(s) : 48 octets \n",
        "#2 variable(s) : 120 octets \n",
        "#5 variable(s) : 184 octets \n",
        "#8 variable(s) : 376 octets \n",
        "#14 variable(s) : 800 octets \n"
      ]
    },
    {
      "cell_type": "markdown",
      "metadata": {
        "ExecuteTime": {
          "end_time": "2019-02-26T18:44:09.655041Z",
          "start_time": "2019-02-26T18:44:09.635967Z"
        },
        "id": "5eec81oe2IZt"
      },
      "source": [
        "### Question 4.3\n",
        "\n",
        "L'indépendance complète comme ci-dessus amène forcément à un classifier a priori (aucun attribut n'apporte d'information sur `target`).\n",
        "\n",
        "Nous allons donc essayer de trouver des modèles supposant une certaine forme d'indépendance partielle qui permettra d'alléger quand même la représentation en mémoire de la distribution de probabilités. Ce sont les indépendances conditionnelles. Si l'on sait par exemple que $A$ est indépendant de $C$ sachant $B$, on peut écrire la loi jointe :\n",
        "$$P(A,B,C)=P(A)*P(B|A)*P(C|B)$$\n",
        "\n",
        "\n",
        "<div style=\"float:left;margin:0 10px 10px 0\">\n",
        "    <img src=\"question.png\">\n",
        "</div>\n",
        "Pouvez vous le prouvez ?"
      ]
    },
    {
      "cell_type": "markdown",
      "metadata": {
        "id": "7SSqwULa2IZt"
      },
      "source": [
        "Comme $A$ est indépendant de $C$ sachant $B$, on a $P(A,C|B)=P(A|B)P(C|B)$\n",
        "\n",
        "De puis, on a $P(A,C|B)=P(A,B,C)/P(B)$. Donc,\n",
        "\\begin{equation}\n",
        "\\begin{aligned}\n",
        "    \\mathbb{P}(A,B,C)&=P(A,C|B)P(B)\\\\\n",
        "                     &=P(A|B)P(C|B)P(B)\\\\\n",
        "                     &=P(A,B)P(C|B)\\\\\n",
        "                     &=P(A)P(B|A)P(C|B)\n",
        "\\end{aligned}\n",
        "\\end{equation}"
      ]
    },
    {
      "cell_type": "markdown",
      "metadata": {
        "ExecuteTime": {
          "end_time": "2019-02-27T07:49:50.004708Z",
          "start_time": "2019-02-27T07:49:49.983730Z"
        },
        "id": "5TQf7Yub2IZt"
      },
      "source": [
        "<div style=\"float:left;margin:0 10px 10px 0\">\n",
        "    <img src=\"question.png\">\n",
        "</div>\n",
        "Si les 3 variables $A$, $B$ et $C$ ont $5$ valeurs, quelle est la taille mémoire en octet nécessaire pour représenter cette distribution avec et sans l'utilisation de l'indépendance conditionnelle ?"
      ]
    },
    {
      "cell_type": "markdown",
      "metadata": {
        "id": "odqFEzBN2IZt"
      },
      "source": [
        "<br>**Sans l'utilisation de l'indépendance conditionnelle :**\n",
        " \n",
        " somme = 8 * 5 * 5 * 5 = 1000\n",
        " \n",
        " **Avec l'utilisation de l'indépendance conditionnelle :**\n",
        " 1. Si A B C sont toutes indépendantes :\n",
        " somme = (5+5+5) * 8 = 120 \n",
        " 2. Si A est indépendant de C sachant B :\n",
        " somme = (5 * 5 +5 * 5 + 5) * 8 = 440"
      ]
    },
    {
      "cell_type": "markdown",
      "metadata": {
        "id": "e4KL1_OE2IZt"
      },
      "source": [
        "## Question 5 : Modèles graphiques\n",
        "\n",
        "Afin de représenter efficacement les indépendances conditionnelles utilisées pour représenter une distribution jointe de grande taille, on peut utiliser un graphe orienté qui se lit ainsi : dans la décomposition de la loi jointe, chaque variable $X$ apparaitra dans un facteur de la forme $P(X|Parents_X)$.  On note que cette factorisation n'a de sens que si le graphe n'a pas de circuit (c'est un DAG).\n",
        "\n",
        "Ainsi, on représente la factorisation $P(A,B,C)=P(A)*P(B|A)*P(C|B)$ par le graphe suivant : $A$ n'a pas de parent, $B$ a pour parent $A$ et $C$ a pour parent $B$."
      ]
    },
    {
      "cell_type": "code",
      "execution_count": 71,
      "metadata": {
        "ExecuteTime": {
          "end_time": "2019-03-20T14:34:21.834925Z",
          "start_time": "2019-03-20T14:34:19.315080Z"
        },
        "id": "A3-HdljN2IZt",
        "outputId": "cb2743f4-cdfe-4747-b94d-b2b664fc348e",
        "colab": {
          "base_uri": "https://localhost:8080/",
          "height": 53
        }
      },
      "outputs": [
        {
          "output_type": "execute_result",
          "data": {
            "image/png": "[encoded data removed]",
            "text/plain": [
              "<IPython.core.display.Image object>"
            ]
          },
          "metadata": {},
          "execution_count": 71
        }
      ],
      "source": [
        "utils.drawGraphHorizontal(\"A->B;B->C\")"
      ]
    },
    {
      "cell_type": "markdown",
      "metadata": {
        "ExecuteTime": {
          "end_time": "2019-02-27T08:15:37.441625Z",
          "start_time": "2019-02-27T08:15:35.340898Z"
        },
        "id": "Xpha_t-H2IZu"
      },
      "source": [
        "### Question 5.1\n",
        "\n",
        "<div style=\"float:left;margin:0 10px 10px 0\">\n",
        "    <img src=\"question.png\">\n",
        "</div>\n",
        "Dans les 2 cellules suivantes, dessiner les graphes pour 5 variables $A,B,C,D,E$ complètement indépendantes puis pour ces 5 même variables sans aucune indépendance."
      ]
    },
    {
      "cell_type": "code",
      "execution_count": 72,
      "metadata": {
        "ExecuteTime": {
          "end_time": "2019-03-20T14:34:24.113441Z",
          "start_time": "2019-03-20T14:34:21.837602Z"
        },
        "id": "xUcMWy0-2IZu",
        "colab": {
          "base_uri": "https://localhost:8080/",
          "height": 250
        },
        "outputId": "7c3e9959-bc77-41a7-df3f-9d43c2372b00"
      },
      "outputs": [
        {
          "output_type": "execute_result",
          "data": {
            "image/png": "[encoded data removed]",
            "text/plain": [
              "<IPython.core.display.Image object>"
            ]
          },
          "metadata": {},
          "execution_count": 72
        }
      ],
      "source": [
        "utils.drawGraphHorizontal(\"A;B;C;D;E\")"
      ]
    },
    {
      "cell_type": "code",
      "execution_count": 73,
      "metadata": {
        "ExecuteTime": {
          "end_time": "2019-03-20T14:34:26.390204Z",
          "start_time": "2019-03-20T14:34:24.116598Z"
        },
        "id": "SR9DAGR_2IZu",
        "colab": {
          "base_uri": "https://localhost:8080/",
          "height": 78
        },
        "outputId": "0b91d14c-6efe-4c0e-8bac-0bb7f9b22dc1"
      },
      "outputs": [
        {
          "output_type": "execute_result",
          "data": {
            "image/png": "[encoded data removed]",
            "text/plain": [
              "<IPython.core.display.Image object>"
            ]
          },
          "metadata": {},
          "execution_count": 73
        }
      ],
      "source": [
        "utils.drawGraphHorizontal(\"A->B->C->D->E->A\")"
      ]
    },
    {
      "cell_type": "markdown",
      "metadata": {
        "ExecuteTime": {
          "end_time": "2019-02-27T08:24:01.433601Z",
          "start_time": "2019-02-27T08:24:01.398968Z"
        },
        "id": "f1UvC8NF2IZu"
      },
      "source": [
        "### Question 5.2 : naïve Bayes\n",
        "\n",
        "Un modèle simple souvent utilisée est le **Naïve Bayes**. Il suppose que $2$ attributs sont toujours indépendants conditionnellement à `target`.\n",
        "\n",
        "Ce modèle est évidemment très simpliste et certainement faux. Toutefois, en classification, il donne souvent de bon résultats."
      ]
    },
    {
      "cell_type": "markdown",
      "metadata": {
        "ExecuteTime": {
          "end_time": "2019-02-27T08:25:22.215498Z",
          "start_time": "2019-02-27T08:25:22.195477Z"
        },
        "id": "cKdryJf62IZu"
      },
      "source": [
        "<div style=\"float:left;margin:0 10px 10px 0\">\n",
        "    <img src=\"question.png\">\n",
        "</div>\n",
        "Écrire comment se décompose la vraisemblance $P(attr1,attr2,attr3,\\cdots|target)$.\n",
        "\n",
        "Écrire comment se décompose la distribution a posteriori $P(target|attr1,attr2,attr3,\\cdots)$ <em>(ou du moins une fonction proportionnelle à cette distribution a posteriori)</em>."
      ]
    },
    {
      "cell_type": "markdown",
      "metadata": {
        "id": "hq6nWjul2IZu"
      },
      "source": [
        "<b style=\"color:blue\">Réponse:</b>\n",
        "\n",
        "---\n",
        "\n",
        "Dans le modèle Naïve Baye, 2 attributs sont toujours indépendants conditionnellement à `target`, c'est à dire que , $\\forall i,j, \\ i \\ne j$, on a $P(attr_i|attr_j, target) = P(attr_i|target)$\n",
        "\n",
        "1. La décomposition de la vraisemblance :\n",
        "$$\n",
        "\\begin{align*}\n",
        "  P(attr_1, attr_2, attr_3, \\cdots, attr_n | target) \n",
        " = & P(attr_1 | attr_2, attr_3, \\cdots, attr_n , target) \\cdot P(attr_2, attr_3, \\cdots, attr_n | target) \\\\\n",
        " = & P(attr_1 | attr_2, attr_3, \\cdots, attr_n , target) \\cdot P(attr_2 | attr_3, \\cdots, attr_n , target) \\cdot  P(attr_3, \\cdots, attr_n | target) \\\\\n",
        " = & P(attr_1 | \\bigcup_{j=2}^{n} attr_j , target) \\cdot P(attr_2 | \\bigcup_{j=3}^{n} attr_j , target) \\cdots P(attr_n | target) \\\\\n",
        "= & P(attr_1 | target) \\cdot P(attr_2 |  target) \\cdots P(attr_n | target) \\\\\n",
        " = & \\prod_{i=1}^{n} P(attr_i | target)\n",
        "\\end{align*}\n",
        "$$\n",
        "\n",
        "2. La décomposition de la distribution a posteriori\n",
        "$$\n",
        "\\begin{align*}\n",
        "P(target | attr_1, attr_2, attr_3, \\cdots, attr_n) \n",
        " = & \\frac{P(target) \\cdot P(attr_1, attr_2, attr_3, \\cdots, attr_n | target)}{P(attr_1, attr_2, attr_3, \\cdots, attr_n)} \\\\\n",
        " = & \\frac{P(target) \\cdot P(attr_1, attr_2, attr_3, \\cdots, attr_n | target)}{\\sum_{target} P(attr_1, attr_2, attr_3, \\cdots, attr_n | target)\\cdot P(target)}\\\\\n",
        " \\end{align*}\n",
        "$$\n",
        "Comme les attributs sont deux à deux indépendants :\n",
        "$$\n",
        "\\begin{align*}\n",
        " P(target | attr_1, attr_2, attr_3, \\cdots, attr_n) \n",
        " = & \\frac{P(target) \\cdot \\prod_{i=1}^{n} P(attr_i | target)} {\\sum_{target} \\left( P(target) \\cdot \\prod_{i=1}^{n} P(attr_i | target)  \\right)}  \\\\\n",
        "\\end{align*}\n",
        "$$\n",
        "\n",
        "---"
      ]
    },
    {
      "cell_type": "markdown",
      "metadata": {
        "ExecuteTime": {
          "end_time": "2019-02-27T08:33:49.190145Z",
          "start_time": "2019-02-27T08:33:49.168724Z"
        },
        "id": "MgwI3l6k2IZu"
      },
      "source": [
        "### Question 5.3 : modèle graphique et naïve bayes\n",
        "\n",
        "Un modèle naïve bayes se représente sous la forme d'un graphe où le noeud `target` est l'unique parent de tous les attributs. Construire une fonction `drawNaiveBayes` qui a partir d'un dataframe et du nom de la colonne qui est la classe, dessine le graphe. \n",
        "\n",
        "**Note** : une fonction qui dessine un graphe retourne un appel à `utils.drawGraph`, par exemple :\n",
        "\n",
        "```python\n",
        "def dessin_A_vers_B():\n",
        "  return utils.drawGraph(\"A->B\")\n",
        "```"
      ]
    },
    {
      "cell_type": "code",
      "execution_count": 74,
      "metadata": {
        "ExecuteTime": {
          "end_time": "2019-03-20T14:34:28.607233Z",
          "start_time": "2019-03-20T14:34:26.393362Z"
        },
        "id": "9BuMmI4R2IZu",
        "outputId": "69229974-4f68-420e-df26-9c311f43f4a0",
        "colab": {
          "base_uri": "https://localhost:8080/",
          "height": 126
        }
      },
      "outputs": [
        {
          "output_type": "execute_result",
          "data": {
            "image/png": "[encoded data removed]",
            "text/plain": [
              "<IPython.core.display.Image object>"
            ]
          },
          "metadata": {},
          "execution_count": 74
        }
      ],
      "source": [
        "projet.drawNaiveBayes(train,\"target\")"
      ]
    },
    {
      "cell_type": "markdown",
      "metadata": {
        "id": "tm3nm_zU2IZv"
      },
      "source": [
        "Écrire une fonction `nbrParamsNaiveBayes` qui calcule la taille mémoire nécessaire pour représenter les tables de probabilité étant donné un dataframe, en supposant qu'un float est représenté sur 8octets et **en utilisant l'hypothèse du Naive Bayes**."
      ]
    },
    {
      "cell_type": "code",
      "execution_count": 77,
      "metadata": {
        "ExecuteTime": {
          "end_time": "2019-03-20T14:34:28.656080Z",
          "start_time": "2019-03-20T14:34:28.611679Z"
        },
        "id": "hzI12qAw2IZv",
        "outputId": "b9434bde-a9c0-41b8-ca6c-942e19e0e98b",
        "colab": {
          "base_uri": "https://localhost:8080/"
        }
      },
      "outputs": [
        {
          "output_type": "stream",
          "name": "stdout",
          "text": [
            "0 variable(s) : 16 octets\n",
            "2 variable(s) : 80 octets\n",
            "2 variable(s) : 224 octets\n",
            "5 variable(s) : 352 octets\n",
            "8 variable(s) : 736 octets\n",
            "14 variable(s) : 1584 octets = 1ko 560o\n"
          ]
        }
      ],
      "source": [
        "projet.nbParamsNaiveBayes(train,'target',[])\n",
        "projet.nbParamsNaiveBayes(train,'target',['target','thal'])\n",
        "projet.nbParamsNaiveBayes(train,'target',['target','age'])\n",
        "projet.nbParamsNaiveBayes(train,'target',['target','age','thal','sex','exang'])\n",
        "projet.nbParamsNaiveBayes(train,'target',['target','age','thal','sex','exang','slope','ca','chol'])\n",
        "projet.nbParamsNaiveBayes(train,'target')\n",
        "\n",
        "\n",
        "#0 variable(s) : 16 octets \n",
        "#2 variable(s) : 80 octets \n",
        "#2 variable(s) : 224 octets \n",
        "#5 variable(s) : 352 octets \n",
        "#8 variable(s) : 736 octets \n",
        "#14 variable(s) : 1584 octets = 1ko 560o \n"
      ]
    },
    {
      "cell_type": "markdown",
      "metadata": {
        "id": "kHFyOapl2IZv"
      },
      "source": [
        "On voit que l'augmentation de la mémoire nécessaire est raisonnable."
      ]
    },
    {
      "cell_type": "markdown",
      "metadata": {
        "id": "fCp5_RU52IZv"
      },
      "source": [
        "### Question 5.4 : classifier naïve bayes\n",
        "\n",
        "Afin de ne pas avoir à réécrire la méthode `statsOnDF` qui ne devrait pas changer, écrire les classes `MLNaiveBayesClassifier` et `MAPNaiveBayesClassifier` qui hérite de `AprioriClassifier` et qui utilise le maximum de vraisemblance (ML) et le maximum a posteriori (MAP) pour estimer la classe d'un individu en utilisant l'hypothèse du Naïve Bayes.\n",
        "\n",
        "De la même façon que plus haut, penser à calculer tous les paramètres du Naïve Bayes dans le constructeur de la classe afin de ne pas les recalculer pour chaque classification.\n",
        "\n",
        "Décomposer la méthodes `estimClass` en 2 parties : `estimProbas` qui calcule la vraisemblance et `estimClass` qui utilise `estimProbas` pour choisir la classe comme dans les classifieurs précédents."
      ]
    },
    {
      "cell_type": "code",
      "execution_count": 78,
      "metadata": {
        "ExecuteTime": {
          "end_time": "2019-03-20T14:34:29.286193Z",
          "start_time": "2019-03-20T14:34:28.657903Z"
        },
        "id": "B739bG0-2IZv",
        "outputId": "47681a81-eef4-4d4a-b06a-0040116bb757",
        "colab": {
          "base_uri": "https://localhost:8080/"
        }
      },
      "outputs": [
        {
          "output_type": "stream",
          "name": "stdout",
          "text": [
            "Estimation de la proba de l'individu 0 par MLNaiveBayesClassifier : {0: 5.265474022893807e-11, 1: 8.779438846356187e-12}\n",
            "Estimation de la classe de l'individu 0 par MLNaiveBayesClassifier : 0\n",
            "Estimation de la proba de l'individu 1 par MLNaiveBayesClassifier : {0: 0.0, 1: 1.9903404816168002e-09}\n",
            "Estimation de la classe de l'individu 1 par MLNaiveBayesClassifier : 1\n",
            "Estimation de la proba de l'individu 2 par MLNaiveBayesClassifier : {0: 3.6835223975945704e-10, 1: 1.5920340255297033e-06}\n",
            "Estimation de la classe de l'individu 2 par MLNaiveBayesClassifier : 1\n",
            "test en apprentissage : {'VP': 350, 'VN': 116, 'FP': 22, 'FN': 54, 'Précision': 0.9408602150537635, 'Rappel': 0.8663366336633663}\n",
            "test en validation: {'VP': 49, 'VN': 60, 'FP': 2, 'FN': 89, 'Précision': 0.9607843137254902, 'Rappel': 0.35507246376811596}\n"
          ]
        }
      ],
      "source": [
        "cl=projet.MLNaiveBayesClassifier(train)\n",
        "\n",
        "for i in [0,1,2]:\n",
        "    print(\"Estimation de la proba de l'individu {} par MLNaiveBayesClassifier : {}\".format(i,cl.estimProbas(utils.getNthDict(train,i))))\n",
        "    print(\"Estimation de la classe de l'individu {} par MLNaiveBayesClassifier : {}\".format(i,cl.estimClass(utils.getNthDict(train,i)))) \n",
        "print(\"test en apprentissage : {}\".format(cl.statsOnDF(train)))\n",
        "print(\"test en validation: {}\".format(cl.statsOnDF(test)))\n",
        "\n",
        "#Estimation de la proba de l'individu 0 par MLNaiveBayesClassifier : {0: 5.265474022893807e-11, 1: 8.779438846356187e-12}\n",
        "#Estimation de la classe de l'individu 0 par MLNaiveBayesClassifier : 0\n",
        "#Estimation de la proba de l'individu 1 par MLNaiveBayesClassifier : {0: 0.0, 1: 1.9903404816168002e-09}\n",
        "#Estimation de la classe de l'individu 1 par MLNaiveBayesClassifier : 1\n",
        "#Estimation de la proba de l'individu 2 par MLNaiveBayesClassifier : {0: 3.6835223975945704e-10, 1: 1.5920340255297033e-06}\n",
        "#Estimation de la classe de l'individu 2 par MLNaiveBayesClassifier : 1\n",
        "#test en app rentissage : {'VP': 350, 'VN': 116, 'FP': 22, 'FN': 54, 'Précision': 0.9408602150537635, 'Rappel': 0.8663366336633663}\n",
        "#test en validation: {'VP': 49, 'VN': 60, 'FP': 2, 'FN': 89, 'Précision': 0.9607843137254902, 'Rappel': 0.35507246376811596}\n"
      ]
    },
    {
      "cell_type": "code",
      "execution_count": 79,
      "metadata": {
        "ExecuteTime": {
          "end_time": "2019-03-20T14:34:29.796791Z",
          "start_time": "2019-03-20T14:34:29.288179Z"
        },
        "id": "F1R-qKlX2IZv",
        "outputId": "25c94a53-e51e-40bb-94cf-0860dee8c51a",
        "colab": {
          "base_uri": "https://localhost:8080/"
        }
      },
      "outputs": [
        {
          "output_type": "stream",
          "name": "stdout",
          "text": [
            "Estimation de la proba de l'individu 0 par MAPNaiveBayesClassifier : {0: 0.6719863008964104, 1: 0.3280136991035896}\n",
            "Estimation de la classe de l'individu 0 par MAPNaiveBayesClassifier : 0\n",
            "Estimation de la proba de l'individu 1 par MAPNaiveBayesClassifier : {0: 0.0, 1: 1.0}\n",
            "Estimation de la classe de l'individu 1 par MAPNaiveBayesClassifier : 1\n",
            "Estimation de la proba de l'individu 2 par MAPNaiveBayesClassifier : {0: 7.902679489883747e-05, 1: 0.9999209732051012}\n",
            "Estimation de la classe de l'individu 2 par MAPNaiveBayesClassifier : 1\n",
            "test en apprentissage : {'VP': 382, 'VN': 111, 'FP': 27, 'FN': 22, 'Précision': 0.9339853300733496, 'Rappel': 0.9455445544554455}\n",
            "test en validation: {'VP': 53, 'VN': 57, 'FP': 5, 'FN': 85, 'Précision': 0.9137931034482759, 'Rappel': 0.38405797101449274}\n"
          ]
        }
      ],
      "source": [
        "cl=projet.MAPNaiveBayesClassifier(train)\n",
        "for i in [0,1,2]:\n",
        "    print(\"Estimation de la proba de l'individu {} par MAPNaiveBayesClassifier : {}\".format(i,cl.estimProbas(utils.getNthDict(train,i))))\n",
        "    print(\"Estimation de la classe de l'individu {} par MAPNaiveBayesClassifier : {}\".format(i,cl.estimClass(utils.getNthDict(train,i)))) \n",
        "print(\"test en apprentissage : {}\".format(cl.statsOnDF(train)))\n",
        "print(\"test en validation: {}\".format(cl.statsOnDF(test)))\n",
        "\n",
        "#Estimation de la proba de l'individu 0 par MAPNaiveBayesClassifier : {0: 0.6719863008964105, 1: 0.32801369910358946}\n",
        "#Estimation de la classe de l'individu 0 par MAPNaiveBayesClassifier : 0\n",
        "#Estimation de la proba de l'individu 1 par MAPNaiveBayesClassifier : {0: 0.0, 1: 1.0}\n",
        "#Estimation de la classe de l'individu 1 par MAPNaiveBayesClassifier : 1\n",
        "#Estimation de la proba de l'individu 2 par MAPNaiveBayesClassifier : {0: 7.90267948988375e-05, 1: 0.9999209732051012}\n",
        "#Estimation de la classe de l'individu 2 par MAPNaiveBayesClassifier : 1\n",
        "#test en apprentissage : {'VP': 382, 'VN': 111, 'FP': 27, 'FN': 22, 'Précision': 0.9339853300733496, 'Rappel': 0.9455445544554455}\n",
        "#test en validation: {'VP': 53, 'VN': 57, 'FP': 5, 'FN': 85, 'Précision': 0.9137931034482759, 'Rappel': 0.38405797101449274}\n"
      ]
    },
    {
      "cell_type": "markdown",
      "metadata": {
        "id": "v3gAmu-J2IZw"
      },
      "source": [
        "## Question 6 : <em>feature selection</em> dans le cadre du classifier naive bayes\n",
        "\n",
        "Il est possible qu'un attribut de la base ne soit pas important pour estimer la classe d'un individu. Dans le cadre du Naïve Bayes, un tel noeud se reconnaît car il est indépendant de `target`. Un tel noeud peut être supprimé du Naïve Bayes.\n",
        "\n",
        "Écrire une fonction `isIndepFromTarget(df,attr,x)` qui vérifie si `attr` est indépendant de `target` au seuil de x%.\n",
        "\n",
        "*Note* : vous avez le droit d'utiliser `scipy.stats.chi2_contingency` dans cette fonction."
      ]
    },
    {
      "cell_type": "code",
      "execution_count": 81,
      "metadata": {
        "ExecuteTime": {
          "end_time": "2019-03-20T14:34:29.963459Z",
          "start_time": "2019-03-20T14:34:29.798666Z"
        },
        "id": "dGyVFM252IZw",
        "outputId": "ceb0e125-a63d-4cd3-abe8-103d79b4878d",
        "colab": {
          "base_uri": "https://localhost:8080/"
        }
      },
      "outputs": [
        {
          "output_type": "stream",
          "name": "stdout",
          "text": [
            "target independant de age ? no\n",
            "target independant de sex ? no\n",
            "target independant de cp ? no\n",
            "target independant de trestbps ? **YES**\n",
            "target independant de chol ? no\n",
            "target independant de fbs ? **YES**\n",
            "target independant de restecg ? no\n",
            "target independant de thalach ? no\n",
            "target independant de exang ? no\n",
            "target independant de oldpeak ? no\n",
            "target independant de slope ? no\n",
            "target independant de ca ? no\n",
            "target independant de thal ? no\n"
          ]
        }
      ],
      "source": [
        "for attr in train.keys():\n",
        "    if attr!='target':\n",
        "        print(\"target independant de {} ? {}\".format(attr,\"**YES**\" if projet.isIndepFromTarget(train,attr,0.01) else \"no\"))\n",
        "        \n",
        "#target independant de age ? no\n",
        "#target independant de sex ? no\n",
        "#target independant de cp ? no\n",
        "#target independant de trestbps ? **YES**\n",
        "#target independant de chol ? no\n",
        "#target independant de fbs ? **YES**\n",
        "#target independant de restecg ? no\n",
        "#target independant de thalach ? no\n",
        "#target independant de exang ? no\n",
        "#target independant de oldpeak ? no\n",
        "#target independant de slope ? no\n",
        "#target independant de ca ? no\n",
        "#target independant de thal ? no\n"
      ]
    },
    {
      "cell_type": "code",
      "execution_count": 82,
      "metadata": {
        "ExecuteTime": {
          "end_time": "2019-03-20T14:34:32.374372Z",
          "start_time": "2019-03-20T14:34:29.965322Z"
        },
        "id": "w3O-1JDe2IZw",
        "outputId": "cabc0e52-bf9b-4bac-f92d-88c4817afd64",
        "colab": {
          "base_uri": "https://localhost:8080/",
          "height": 143
        }
      },
      "outputs": [
        {
          "output_type": "stream",
          "name": "stdout",
          "text": [
            "attributs independants de Target fbs\n"
          ]
        },
        {
          "output_type": "execute_result",
          "data": {
            "image/png": "[encoded data removed]",
            "text/plain": [
              "<IPython.core.display.Image object>"
            ]
          },
          "metadata": {},
          "execution_count": 82
        }
      ],
      "source": [
        "cl=projet.ReducedMLNaiveBayesClassifier(train,0.05)\n",
        "cl.draw()"
      ]
    },
    {
      "cell_type": "code",
      "execution_count": 83,
      "metadata": {
        "ExecuteTime": {
          "end_time": "2019-03-20T14:34:34.840737Z",
          "start_time": "2019-03-20T14:34:32.378082Z"
        },
        "scrolled": true,
        "id": "K7WjGJqY2IZw",
        "outputId": "a35a2d7b-612e-41e6-c14d-849a4f4e36e4",
        "colab": {
          "base_uri": "https://localhost:8080/",
          "height": 161
        }
      },
      "outputs": [
        {
          "output_type": "stream",
          "name": "stdout",
          "text": [
            "attributs independants de Target trestbps\n",
            "attributs independants de Target fbs\n"
          ]
        },
        {
          "output_type": "execute_result",
          "data": {
            "image/png": "[encoded data removed]",
            "text/plain": [
              "<IPython.core.display.Image object>"
            ]
          },
          "metadata": {},
          "execution_count": 83
        }
      ],
      "source": [
        "cl=projet.ReducedMLNaiveBayesClassifier(train,0.01)\n",
        "cl.draw()"
      ]
    },
    {
      "cell_type": "code",
      "execution_count": 84,
      "metadata": {
        "ExecuteTime": {
          "end_time": "2019-03-20T14:34:35.290620Z",
          "start_time": "2019-03-20T14:34:34.843815Z"
        },
        "id": "hDvl67pW2IZw",
        "outputId": "e4f72da7-3240-47a2-c6de-551ccd6f1f2c",
        "colab": {
          "base_uri": "https://localhost:8080/",
          "height": 504
        }
      },
      "outputs": [
        {
          "output_type": "stream",
          "name": "stdout",
          "text": [
            "Estimation de la proba de l'individu 0 par MAPNaiveBayesClassifier : {0: 5.697482232499412e-09, 1: 2.138723717532643e-09}\n",
            "Estimation de la classe de l'individu 0 par MAPNaiveBayesClassifier : 0\n",
            "Estimation de la proba de l'individu 1 par MAPNaiveBayesClassifier : {0: 0.0, 1: 1.1475745797921708e-08}\n",
            "Estimation de la classe de l'individu 1 par MAPNaiveBayesClassifier : 1\n",
            "Estimation de la proba de l'individu 2 par MAPNaiveBayesClassifier : {0: 2.7487852876093664e-09, 1: 9.179222322695213e-06}\n",
            "Estimation de la classe de l'individu 2 par MAPNaiveBayesClassifier : 1\n"
          ]
        },
        {
          "output_type": "error",
          "ename": "KeyboardInterrupt",
          "evalue": "ignored",
          "traceback": [
            "\u001b[0;31m---------------------------------------------------------------------------\u001b[0m",
            "\u001b[0;31mKeyboardInterrupt\u001b[0m                         Traceback (most recent call last)",
            "\u001b[0;32m<ipython-input-84-645fb3719156>\u001b[0m in \u001b[0;36m<module>\u001b[0;34m\u001b[0m\n\u001b[1;32m      2\u001b[0m     \u001b[0mprint\u001b[0m\u001b[0;34m(\u001b[0m\u001b[0;34m\"Estimation de la proba de l'individu {} par MAPNaiveBayesClassifier : {}\"\u001b[0m\u001b[0;34m.\u001b[0m\u001b[0mformat\u001b[0m\u001b[0;34m(\u001b[0m\u001b[0mi\u001b[0m\u001b[0;34m,\u001b[0m\u001b[0mcl\u001b[0m\u001b[0;34m.\u001b[0m\u001b[0mestimProbas\u001b[0m\u001b[0;34m(\u001b[0m\u001b[0mutils\u001b[0m\u001b[0;34m.\u001b[0m\u001b[0mgetNthDict\u001b[0m\u001b[0;34m(\u001b[0m\u001b[0mtrain\u001b[0m\u001b[0;34m,\u001b[0m\u001b[0mi\u001b[0m\u001b[0;34m)\u001b[0m\u001b[0;34m)\u001b[0m\u001b[0;34m)\u001b[0m\u001b[0;34m)\u001b[0m\u001b[0;34m\u001b[0m\u001b[0;34m\u001b[0m\u001b[0m\n\u001b[1;32m      3\u001b[0m     \u001b[0mprint\u001b[0m\u001b[0;34m(\u001b[0m\u001b[0;34m\"Estimation de la classe de l'individu {} par MAPNaiveBayesClassifier : {}\"\u001b[0m\u001b[0;34m.\u001b[0m\u001b[0mformat\u001b[0m\u001b[0;34m(\u001b[0m\u001b[0mi\u001b[0m\u001b[0;34m,\u001b[0m\u001b[0mcl\u001b[0m\u001b[0;34m.\u001b[0m\u001b[0mestimClass\u001b[0m\u001b[0;34m(\u001b[0m\u001b[0mutils\u001b[0m\u001b[0;34m.\u001b[0m\u001b[0mgetNthDict\u001b[0m\u001b[0;34m(\u001b[0m\u001b[0mtrain\u001b[0m\u001b[0;34m,\u001b[0m\u001b[0mi\u001b[0m\u001b[0;34m)\u001b[0m\u001b[0;34m)\u001b[0m\u001b[0;34m)\u001b[0m\u001b[0;34m)\u001b[0m\u001b[0;34m\u001b[0m\u001b[0;34m\u001b[0m\u001b[0m\n\u001b[0;32m----> 4\u001b[0;31m \u001b[0mprint\u001b[0m\u001b[0;34m(\u001b[0m\u001b[0;34m\"test en apprentissage : {}\"\u001b[0m\u001b[0;34m.\u001b[0m\u001b[0mformat\u001b[0m\u001b[0;34m(\u001b[0m\u001b[0mcl\u001b[0m\u001b[0;34m.\u001b[0m\u001b[0mstatsOnDF\u001b[0m\u001b[0;34m(\u001b[0m\u001b[0mtrain\u001b[0m\u001b[0;34m)\u001b[0m\u001b[0;34m)\u001b[0m\u001b[0;34m)\u001b[0m\u001b[0;34m\u001b[0m\u001b[0;34m\u001b[0m\u001b[0m\n\u001b[0m\u001b[1;32m      5\u001b[0m \u001b[0mprint\u001b[0m\u001b[0;34m(\u001b[0m\u001b[0;34m\"test en validation: {}\"\u001b[0m\u001b[0;34m.\u001b[0m\u001b[0mformat\u001b[0m\u001b[0;34m(\u001b[0m\u001b[0mcl\u001b[0m\u001b[0;34m.\u001b[0m\u001b[0mstatsOnDF\u001b[0m\u001b[0;34m(\u001b[0m\u001b[0mtest\u001b[0m\u001b[0;34m)\u001b[0m\u001b[0;34m)\u001b[0m\u001b[0;34m)\u001b[0m\u001b[0;34m\u001b[0m\u001b[0;34m\u001b[0m\u001b[0m\n",
            "\u001b[0;32m/content/projet.py\u001b[0m in \u001b[0;36mstatsOnDF\u001b[0;34m(self, df)\u001b[0m\n\u001b[1;32m     43\u001b[0m     \u001b[0;32mfor\u001b[0m \u001b[0mi\u001b[0m \u001b[0;32min\u001b[0m \u001b[0mrange\u001b[0m\u001b[0;34m(\u001b[0m\u001b[0mdf\u001b[0m\u001b[0;34m.\u001b[0m\u001b[0mshape\u001b[0m\u001b[0;34m[\u001b[0m\u001b[0;36m0\u001b[0m\u001b[0;34m]\u001b[0m\u001b[0;34m)\u001b[0m\u001b[0;34m:\u001b[0m\u001b[0;34m\u001b[0m\u001b[0;34m\u001b[0m\u001b[0m\n\u001b[1;32m     44\u001b[0m       \u001b[0mdict\u001b[0m \u001b[0;34m=\u001b[0m \u001b[0mutils\u001b[0m\u001b[0;34m.\u001b[0m\u001b[0mgetNthDict\u001b[0m\u001b[0;34m(\u001b[0m\u001b[0mdf\u001b[0m\u001b[0;34m,\u001b[0m\u001b[0mi\u001b[0m\u001b[0;34m)\u001b[0m\u001b[0;34m\u001b[0m\u001b[0;34m\u001b[0m\u001b[0m\n\u001b[0;32m---> 45\u001b[0;31m       \u001b[0;32mif\u001b[0m\u001b[0;34m(\u001b[0m\u001b[0mself\u001b[0m\u001b[0;34m.\u001b[0m\u001b[0mestimClass\u001b[0m\u001b[0;34m(\u001b[0m\u001b[0mdict\u001b[0m\u001b[0;34m)\u001b[0m \u001b[0;34m==\u001b[0m \u001b[0;36m1\u001b[0m\u001b[0;34m)\u001b[0m\u001b[0;34m:\u001b[0m\u001b[0;34m\u001b[0m\u001b[0;34m\u001b[0m\u001b[0m\n\u001b[0m\u001b[1;32m     46\u001b[0m         \u001b[0;32mif\u001b[0m \u001b[0mdict\u001b[0m\u001b[0;34m[\u001b[0m\u001b[0;34m'target'\u001b[0m\u001b[0;34m]\u001b[0m \u001b[0;34m==\u001b[0m\u001b[0;36m1\u001b[0m \u001b[0;34m:\u001b[0m\u001b[0;34m\u001b[0m\u001b[0;34m\u001b[0m\u001b[0m\n\u001b[1;32m     47\u001b[0m           \u001b[0mVP\u001b[0m \u001b[0;34m+=\u001b[0m\u001b[0;36m1\u001b[0m\u001b[0;34m\u001b[0m\u001b[0;34m\u001b[0m\u001b[0m\n",
            "\u001b[0;32m/content/projet.py\u001b[0m in \u001b[0;36mestimClass\u001b[0;34m(self, attrs)\u001b[0m\n\u001b[1;32m    381\u001b[0m \u001b[0;34m\u001b[0m\u001b[0m\n\u001b[1;32m    382\u001b[0m   \u001b[0;32mdef\u001b[0m \u001b[0mestimClass\u001b[0m\u001b[0;34m(\u001b[0m\u001b[0mself\u001b[0m\u001b[0;34m,\u001b[0m \u001b[0mattrs\u001b[0m\u001b[0;34m)\u001b[0m\u001b[0;34m:\u001b[0m\u001b[0;34m\u001b[0m\u001b[0;34m\u001b[0m\u001b[0m\n\u001b[0;32m--> 383\u001b[0;31m     \u001b[0mprobas\u001b[0m \u001b[0;34m=\u001b[0m \u001b[0mself\u001b[0m\u001b[0;34m.\u001b[0m\u001b[0mestimProbas\u001b[0m\u001b[0;34m(\u001b[0m\u001b[0mattrs\u001b[0m\u001b[0;34m)\u001b[0m\u001b[0;34m\u001b[0m\u001b[0;34m\u001b[0m\u001b[0m\n\u001b[0m\u001b[1;32m    384\u001b[0m     \u001b[0;32mif\u001b[0m \u001b[0mprobas\u001b[0m\u001b[0;34m[\u001b[0m\u001b[0;36m0\u001b[0m\u001b[0;34m]\u001b[0m \u001b[0;34m>=\u001b[0m \u001b[0mprobas\u001b[0m\u001b[0;34m[\u001b[0m\u001b[0;36m1\u001b[0m\u001b[0;34m]\u001b[0m\u001b[0;34m:\u001b[0m\u001b[0;34m\u001b[0m\u001b[0;34m\u001b[0m\u001b[0m\n\u001b[1;32m    385\u001b[0m       \u001b[0;32mreturn\u001b[0m \u001b[0;36m0\u001b[0m\u001b[0;34m\u001b[0m\u001b[0;34m\u001b[0m\u001b[0m\n",
            "\u001b[0;32m/content/projet.py\u001b[0m in \u001b[0;36mestimProbas\u001b[0;34m(self, attrs)\u001b[0m\n\u001b[1;32m    361\u001b[0m \u001b[0;34m\u001b[0m\u001b[0m\n\u001b[1;32m    362\u001b[0m       \u001b[0;32mfor\u001b[0m \u001b[0mattr\u001b[0m \u001b[0;32min\u001b[0m \u001b[0mattrs\u001b[0m\u001b[0;34m.\u001b[0m\u001b[0mkeys\u001b[0m\u001b[0;34m(\u001b[0m\u001b[0;34m)\u001b[0m\u001b[0;34m:\u001b[0m\u001b[0;34m\u001b[0m\u001b[0;34m\u001b[0m\u001b[0m\n\u001b[0;32m--> 363\u001b[0;31m         \u001b[0;32mif\u001b[0m \u001b[0;32mnot\u001b[0m \u001b[0misIndepFromTarget\u001b[0m\u001b[0;34m(\u001b[0m\u001b[0mself\u001b[0m\u001b[0;34m.\u001b[0m\u001b[0mdf\u001b[0m\u001b[0;34m,\u001b[0m \u001b[0mattr\u001b[0m\u001b[0;34m,\u001b[0m \u001b[0mself\u001b[0m\u001b[0;34m.\u001b[0m\u001b[0mx\u001b[0m\u001b[0;34m)\u001b[0m\u001b[0;34m:\u001b[0m\u001b[0;34m\u001b[0m\u001b[0;34m\u001b[0m\u001b[0m\n\u001b[0m\u001b[1;32m    364\u001b[0m           \u001b[0mattr_dep\u001b[0m\u001b[0;34m[\u001b[0m\u001b[0mattr\u001b[0m\u001b[0;34m]\u001b[0m \u001b[0;34m=\u001b[0m \u001b[0mattrs\u001b[0m\u001b[0;34m[\u001b[0m\u001b[0mattr\u001b[0m\u001b[0;34m]\u001b[0m\u001b[0;34m\u001b[0m\u001b[0;34m\u001b[0m\u001b[0m\n\u001b[1;32m    365\u001b[0m \u001b[0;34m\u001b[0m\u001b[0m\n",
            "\u001b[0;32m/content/projet.py\u001b[0m in \u001b[0;36misIndepFromTarget\u001b[0;34m(df, attr, x)\u001b[0m\n\u001b[1;32m    341\u001b[0m   \u001b[0;34m@\u001b[0m\u001b[0;32mreturn\u001b[0m  \u001b[0;34m:\u001b[0m \u001b[0mverifie\u001b[0m \u001b[0msi\u001b[0m \u001b[0mattr\u001b[0m \u001b[0mest\u001b[0m \u001b[0mindependante\u001b[0m \u001b[0mde\u001b[0m \u001b[0mtarget\u001b[0m \u001b[0mau\u001b[0m \u001b[0mseuil\u001b[0m \u001b[0mde\u001b[0m \u001b[0mx\u001b[0m\u001b[0;34m\u001b[0m\u001b[0;34m\u001b[0m\u001b[0m\n\u001b[1;32m    342\u001b[0m   \"\"\"\n\u001b[0;32m--> 343\u001b[0;31m   \u001b[0mcontingency_table\u001b[0m \u001b[0;34m=\u001b[0m \u001b[0mpd\u001b[0m\u001b[0;34m.\u001b[0m\u001b[0mcrosstab\u001b[0m\u001b[0;34m(\u001b[0m\u001b[0mdf\u001b[0m\u001b[0;34m[\u001b[0m\u001b[0;34m'target'\u001b[0m\u001b[0;34m]\u001b[0m\u001b[0;34m,\u001b[0m \u001b[0mdf\u001b[0m\u001b[0;34m[\u001b[0m\u001b[0mattr\u001b[0m\u001b[0;34m]\u001b[0m\u001b[0;34m)\u001b[0m\u001b[0;34m\u001b[0m\u001b[0;34m\u001b[0m\u001b[0m\n\u001b[0m\u001b[1;32m    344\u001b[0m   \u001b[0mchi2\u001b[0m\u001b[0;34m,\u001b[0m \u001b[0mp_value\u001b[0m\u001b[0;34m,\u001b[0m \u001b[0mdegree_o_freedom\u001b[0m\u001b[0;34m,\u001b[0m \u001b[0mexpected_freq\u001b[0m \u001b[0;34m=\u001b[0m \u001b[0mscipy\u001b[0m\u001b[0;34m.\u001b[0m\u001b[0mstats\u001b[0m\u001b[0;34m.\u001b[0m\u001b[0mchi2_contingency\u001b[0m\u001b[0;34m(\u001b[0m\u001b[0mcontingency_table\u001b[0m\u001b[0;34m,\u001b[0m \u001b[0mcorrection\u001b[0m \u001b[0;34m=\u001b[0m\u001b[0;32mFalse\u001b[0m\u001b[0;34m)\u001b[0m\u001b[0;34m\u001b[0m\u001b[0;34m\u001b[0m\u001b[0m\n\u001b[1;32m    345\u001b[0m   \u001b[0;32mreturn\u001b[0m \u001b[0mp_value\u001b[0m\u001b[0;34m>=\u001b[0m\u001b[0mx\u001b[0m\u001b[0;34m\u001b[0m\u001b[0;34m\u001b[0m\u001b[0m\n",
            "\u001b[0;32m/usr/local/lib/python3.7/dist-packages/pandas/core/reshape/pivot.py\u001b[0m in \u001b[0;36mcrosstab\u001b[0;34m(index, columns, values, rownames, colnames, aggfunc, margins, margins_name, dropna, normalize)\u001b[0m\n\u001b[1;32m    668\u001b[0m         \u001b[0mmargins_name\u001b[0m\u001b[0;34m=\u001b[0m\u001b[0mmargins_name\u001b[0m\u001b[0;34m,\u001b[0m\u001b[0;34m\u001b[0m\u001b[0;34m\u001b[0m\u001b[0m\n\u001b[1;32m    669\u001b[0m         \u001b[0mdropna\u001b[0m\u001b[0;34m=\u001b[0m\u001b[0mdropna\u001b[0m\u001b[0;34m,\u001b[0m\u001b[0;34m\u001b[0m\u001b[0;34m\u001b[0m\u001b[0m\n\u001b[0;32m--> 670\u001b[0;31m         \u001b[0;34m**\u001b[0m\u001b[0mkwargs\u001b[0m\u001b[0;34m,\u001b[0m\u001b[0;34m\u001b[0m\u001b[0;34m\u001b[0m\u001b[0m\n\u001b[0m\u001b[1;32m    671\u001b[0m     )\n\u001b[1;32m    672\u001b[0m \u001b[0;34m\u001b[0m\u001b[0m\n",
            "\u001b[0;32m/usr/local/lib/python3.7/dist-packages/pandas/core/frame.py\u001b[0m in \u001b[0;36mpivot_table\u001b[0;34m(self, values, index, columns, aggfunc, fill_value, margins, dropna, margins_name, observed, sort)\u001b[0m\n\u001b[1;32m   7960\u001b[0m             \u001b[0mmargins_name\u001b[0m\u001b[0;34m=\u001b[0m\u001b[0mmargins_name\u001b[0m\u001b[0;34m,\u001b[0m\u001b[0;34m\u001b[0m\u001b[0;34m\u001b[0m\u001b[0m\n\u001b[1;32m   7961\u001b[0m             \u001b[0mobserved\u001b[0m\u001b[0;34m=\u001b[0m\u001b[0mobserved\u001b[0m\u001b[0;34m,\u001b[0m\u001b[0;34m\u001b[0m\u001b[0;34m\u001b[0m\u001b[0m\n\u001b[0;32m-> 7962\u001b[0;31m             \u001b[0msort\u001b[0m\u001b[0;34m=\u001b[0m\u001b[0msort\u001b[0m\u001b[0;34m,\u001b[0m\u001b[0;34m\u001b[0m\u001b[0;34m\u001b[0m\u001b[0m\n\u001b[0m\u001b[1;32m   7963\u001b[0m         )\n\u001b[1;32m   7964\u001b[0m \u001b[0;34m\u001b[0m\u001b[0m\n",
            "\u001b[0;32m/usr/local/lib/python3.7/dist-packages/pandas/core/reshape/pivot.py\u001b[0m in \u001b[0;36mpivot_table\u001b[0;34m(data, values, index, columns, aggfunc, fill_value, margins, dropna, margins_name, observed, sort)\u001b[0m\n\u001b[1;32m    104\u001b[0m         \u001b[0mmargins_name\u001b[0m\u001b[0;34m,\u001b[0m\u001b[0;34m\u001b[0m\u001b[0;34m\u001b[0m\u001b[0m\n\u001b[1;32m    105\u001b[0m         \u001b[0mobserved\u001b[0m\u001b[0;34m,\u001b[0m\u001b[0;34m\u001b[0m\u001b[0;34m\u001b[0m\u001b[0m\n\u001b[0;32m--> 106\u001b[0;31m         \u001b[0msort\u001b[0m\u001b[0;34m,\u001b[0m\u001b[0;34m\u001b[0m\u001b[0;34m\u001b[0m\u001b[0m\n\u001b[0m\u001b[1;32m    107\u001b[0m     )\n\u001b[1;32m    108\u001b[0m     \u001b[0;32mreturn\u001b[0m \u001b[0mtable\u001b[0m\u001b[0;34m.\u001b[0m\u001b[0m__finalize__\u001b[0m\u001b[0;34m(\u001b[0m\u001b[0mdata\u001b[0m\u001b[0;34m,\u001b[0m \u001b[0mmethod\u001b[0m\u001b[0;34m=\u001b[0m\u001b[0;34m\"pivot_table\"\u001b[0m\u001b[0;34m)\u001b[0m\u001b[0;34m\u001b[0m\u001b[0;34m\u001b[0m\u001b[0m\n",
            "\u001b[0;32m/usr/local/lib/python3.7/dist-packages/pandas/core/reshape/pivot.py\u001b[0m in \u001b[0;36m__internal_pivot_table\u001b[0;34m(data, values, index, columns, aggfunc, fill_value, margins, dropna, margins_name, observed, sort)\u001b[0m\n\u001b[1;32m    249\u001b[0m     \u001b[0;31m# GH 15193 Make sure empty columns are removed if dropna=True\u001b[0m\u001b[0;34m\u001b[0m\u001b[0;34m\u001b[0m\u001b[0;34m\u001b[0m\u001b[0m\n\u001b[1;32m    250\u001b[0m     \u001b[0;32mif\u001b[0m \u001b[0misinstance\u001b[0m\u001b[0;34m(\u001b[0m\u001b[0mtable\u001b[0m\u001b[0;34m,\u001b[0m \u001b[0mABCDataFrame\u001b[0m\u001b[0;34m)\u001b[0m \u001b[0;32mand\u001b[0m \u001b[0mdropna\u001b[0m\u001b[0;34m:\u001b[0m\u001b[0;34m\u001b[0m\u001b[0;34m\u001b[0m\u001b[0m\n\u001b[0;32m--> 251\u001b[0;31m         \u001b[0mtable\u001b[0m \u001b[0;34m=\u001b[0m \u001b[0mtable\u001b[0m\u001b[0;34m.\u001b[0m\u001b[0mdropna\u001b[0m\u001b[0;34m(\u001b[0m\u001b[0mhow\u001b[0m\u001b[0;34m=\u001b[0m\u001b[0;34m\"all\"\u001b[0m\u001b[0;34m,\u001b[0m \u001b[0maxis\u001b[0m\u001b[0;34m=\u001b[0m\u001b[0;36m1\u001b[0m\u001b[0;34m)\u001b[0m\u001b[0;34m\u001b[0m\u001b[0;34m\u001b[0m\u001b[0m\n\u001b[0m\u001b[1;32m    252\u001b[0m \u001b[0;34m\u001b[0m\u001b[0m\n\u001b[1;32m    253\u001b[0m     \u001b[0;32mreturn\u001b[0m \u001b[0mtable\u001b[0m\u001b[0;34m\u001b[0m\u001b[0;34m\u001b[0m\u001b[0m\n",
            "\u001b[0;32m/usr/local/lib/python3.7/dist-packages/pandas/util/_decorators.py\u001b[0m in \u001b[0;36mwrapper\u001b[0;34m(*args, **kwargs)\u001b[0m\n\u001b[1;32m    309\u001b[0m                     \u001b[0mstacklevel\u001b[0m\u001b[0;34m=\u001b[0m\u001b[0mstacklevel\u001b[0m\u001b[0;34m,\u001b[0m\u001b[0;34m\u001b[0m\u001b[0;34m\u001b[0m\u001b[0m\n\u001b[1;32m    310\u001b[0m                 )\n\u001b[0;32m--> 311\u001b[0;31m             \u001b[0;32mreturn\u001b[0m \u001b[0mfunc\u001b[0m\u001b[0;34m(\u001b[0m\u001b[0;34m*\u001b[0m\u001b[0margs\u001b[0m\u001b[0;34m,\u001b[0m \u001b[0;34m**\u001b[0m\u001b[0mkwargs\u001b[0m\u001b[0;34m)\u001b[0m\u001b[0;34m\u001b[0m\u001b[0;34m\u001b[0m\u001b[0m\n\u001b[0m\u001b[1;32m    312\u001b[0m \u001b[0;34m\u001b[0m\u001b[0m\n\u001b[1;32m    313\u001b[0m         \u001b[0;32mreturn\u001b[0m \u001b[0mwrapper\u001b[0m\u001b[0;34m\u001b[0m\u001b[0;34m\u001b[0m\u001b[0m\n",
            "\u001b[0;32m/usr/local/lib/python3.7/dist-packages/pandas/core/frame.py\u001b[0m in \u001b[0;36mdropna\u001b[0;34m(self, axis, how, thresh, subset, inplace)\u001b[0m\n\u001b[1;32m   5961\u001b[0m             \u001b[0mmask\u001b[0m \u001b[0;34m=\u001b[0m \u001b[0mcount\u001b[0m \u001b[0;34m==\u001b[0m \u001b[0mlen\u001b[0m\u001b[0;34m(\u001b[0m\u001b[0magg_obj\u001b[0m\u001b[0;34m.\u001b[0m\u001b[0m_get_axis\u001b[0m\u001b[0;34m(\u001b[0m\u001b[0magg_axis\u001b[0m\u001b[0;34m)\u001b[0m\u001b[0;34m)\u001b[0m\u001b[0;34m\u001b[0m\u001b[0;34m\u001b[0m\u001b[0m\n\u001b[1;32m   5962\u001b[0m         \u001b[0;32melif\u001b[0m \u001b[0mhow\u001b[0m \u001b[0;34m==\u001b[0m \u001b[0;34m\"all\"\u001b[0m\u001b[0;34m:\u001b[0m\u001b[0;34m\u001b[0m\u001b[0;34m\u001b[0m\u001b[0m\n\u001b[0;32m-> 5963\u001b[0;31m             \u001b[0mmask\u001b[0m \u001b[0;34m=\u001b[0m \u001b[0mcount\u001b[0m \u001b[0;34m>\u001b[0m \u001b[0;36m0\u001b[0m\u001b[0;34m\u001b[0m\u001b[0;34m\u001b[0m\u001b[0m\n\u001b[0m\u001b[1;32m   5964\u001b[0m         \u001b[0;32melse\u001b[0m\u001b[0;34m:\u001b[0m\u001b[0;34m\u001b[0m\u001b[0;34m\u001b[0m\u001b[0m\n\u001b[1;32m   5965\u001b[0m             \u001b[0;32mif\u001b[0m \u001b[0mhow\u001b[0m \u001b[0;32mis\u001b[0m \u001b[0;32mnot\u001b[0m \u001b[0;32mNone\u001b[0m\u001b[0;34m:\u001b[0m\u001b[0;34m\u001b[0m\u001b[0;34m\u001b[0m\u001b[0m\n",
            "\u001b[0;32m/usr/local/lib/python3.7/dist-packages/pandas/core/ops/common.py\u001b[0m in \u001b[0;36mnew_method\u001b[0;34m(self, other)\u001b[0m\n\u001b[1;32m     67\u001b[0m         \u001b[0mother\u001b[0m \u001b[0;34m=\u001b[0m \u001b[0mitem_from_zerodim\u001b[0m\u001b[0;34m(\u001b[0m\u001b[0mother\u001b[0m\u001b[0;34m)\u001b[0m\u001b[0;34m\u001b[0m\u001b[0;34m\u001b[0m\u001b[0m\n\u001b[1;32m     68\u001b[0m \u001b[0;34m\u001b[0m\u001b[0m\n\u001b[0;32m---> 69\u001b[0;31m         \u001b[0;32mreturn\u001b[0m \u001b[0mmethod\u001b[0m\u001b[0;34m(\u001b[0m\u001b[0mself\u001b[0m\u001b[0;34m,\u001b[0m \u001b[0mother\u001b[0m\u001b[0;34m)\u001b[0m\u001b[0;34m\u001b[0m\u001b[0;34m\u001b[0m\u001b[0m\n\u001b[0m\u001b[1;32m     70\u001b[0m \u001b[0;34m\u001b[0m\u001b[0m\n\u001b[1;32m     71\u001b[0m     \u001b[0;32mreturn\u001b[0m \u001b[0mnew_method\u001b[0m\u001b[0;34m\u001b[0m\u001b[0;34m\u001b[0m\u001b[0m\n",
            "\u001b[0;32m/usr/local/lib/python3.7/dist-packages/pandas/core/arraylike.py\u001b[0m in \u001b[0;36m__gt__\u001b[0;34m(self, other)\u001b[0m\n\u001b[1;32m     46\u001b[0m     \u001b[0;34m@\u001b[0m\u001b[0munpack_zerodim_and_defer\u001b[0m\u001b[0;34m(\u001b[0m\u001b[0;34m\"__gt__\"\u001b[0m\u001b[0;34m)\u001b[0m\u001b[0;34m\u001b[0m\u001b[0;34m\u001b[0m\u001b[0m\n\u001b[1;32m     47\u001b[0m     \u001b[0;32mdef\u001b[0m \u001b[0m__gt__\u001b[0m\u001b[0;34m(\u001b[0m\u001b[0mself\u001b[0m\u001b[0;34m,\u001b[0m \u001b[0mother\u001b[0m\u001b[0;34m)\u001b[0m\u001b[0;34m:\u001b[0m\u001b[0;34m\u001b[0m\u001b[0;34m\u001b[0m\u001b[0m\n\u001b[0;32m---> 48\u001b[0;31m         \u001b[0;32mreturn\u001b[0m \u001b[0mself\u001b[0m\u001b[0;34m.\u001b[0m\u001b[0m_cmp_method\u001b[0m\u001b[0;34m(\u001b[0m\u001b[0mother\u001b[0m\u001b[0;34m,\u001b[0m \u001b[0moperator\u001b[0m\u001b[0;34m.\u001b[0m\u001b[0mgt\u001b[0m\u001b[0;34m)\u001b[0m\u001b[0;34m\u001b[0m\u001b[0;34m\u001b[0m\u001b[0m\n\u001b[0m\u001b[1;32m     49\u001b[0m \u001b[0;34m\u001b[0m\u001b[0m\n\u001b[1;32m     50\u001b[0m     \u001b[0;34m@\u001b[0m\u001b[0munpack_zerodim_and_defer\u001b[0m\u001b[0;34m(\u001b[0m\u001b[0;34m\"__ge__\"\u001b[0m\u001b[0;34m)\u001b[0m\u001b[0;34m\u001b[0m\u001b[0;34m\u001b[0m\u001b[0m\n",
            "\u001b[0;32m/usr/local/lib/python3.7/dist-packages/pandas/core/series.py\u001b[0m in \u001b[0;36m_cmp_method\u001b[0;34m(self, other, op)\u001b[0m\n\u001b[1;32m   5502\u001b[0m             \u001b[0mres_values\u001b[0m \u001b[0;34m=\u001b[0m \u001b[0mops\u001b[0m\u001b[0;34m.\u001b[0m\u001b[0mcomparison_op\u001b[0m\u001b[0;34m(\u001b[0m\u001b[0mlvalues\u001b[0m\u001b[0;34m,\u001b[0m \u001b[0mrvalues\u001b[0m\u001b[0;34m,\u001b[0m \u001b[0mop\u001b[0m\u001b[0;34m)\u001b[0m\u001b[0;34m\u001b[0m\u001b[0;34m\u001b[0m\u001b[0m\n\u001b[1;32m   5503\u001b[0m \u001b[0;34m\u001b[0m\u001b[0m\n\u001b[0;32m-> 5504\u001b[0;31m         \u001b[0;32mreturn\u001b[0m \u001b[0mself\u001b[0m\u001b[0;34m.\u001b[0m\u001b[0m_construct_result\u001b[0m\u001b[0;34m(\u001b[0m\u001b[0mres_values\u001b[0m\u001b[0;34m,\u001b[0m \u001b[0mname\u001b[0m\u001b[0;34m=\u001b[0m\u001b[0mres_name\u001b[0m\u001b[0;34m)\u001b[0m\u001b[0;34m\u001b[0m\u001b[0;34m\u001b[0m\u001b[0m\n\u001b[0m\u001b[1;32m   5505\u001b[0m \u001b[0;34m\u001b[0m\u001b[0m\n\u001b[1;32m   5506\u001b[0m     \u001b[0;32mdef\u001b[0m \u001b[0m_logical_method\u001b[0m\u001b[0;34m(\u001b[0m\u001b[0mself\u001b[0m\u001b[0;34m,\u001b[0m \u001b[0mother\u001b[0m\u001b[0;34m,\u001b[0m \u001b[0mop\u001b[0m\u001b[0;34m)\u001b[0m\u001b[0;34m:\u001b[0m\u001b[0;34m\u001b[0m\u001b[0;34m\u001b[0m\u001b[0m\n",
            "\u001b[0;32m/usr/local/lib/python3.7/dist-packages/pandas/core/series.py\u001b[0m in \u001b[0;36m_construct_result\u001b[0;34m(self, result, name)\u001b[0m\n\u001b[1;32m   2943\u001b[0m         \u001b[0;31m# We do not pass dtype to ensure that the Series constructor\u001b[0m\u001b[0;34m\u001b[0m\u001b[0;34m\u001b[0m\u001b[0;34m\u001b[0m\u001b[0m\n\u001b[1;32m   2944\u001b[0m         \u001b[0;31m#  does inference in the case where `result` has object-dtype.\u001b[0m\u001b[0;34m\u001b[0m\u001b[0;34m\u001b[0m\u001b[0;34m\u001b[0m\u001b[0m\n\u001b[0;32m-> 2945\u001b[0;31m         \u001b[0mout\u001b[0m \u001b[0;34m=\u001b[0m \u001b[0mself\u001b[0m\u001b[0;34m.\u001b[0m\u001b[0m_constructor\u001b[0m\u001b[0;34m(\u001b[0m\u001b[0mresult\u001b[0m\u001b[0;34m,\u001b[0m \u001b[0mindex\u001b[0m\u001b[0;34m=\u001b[0m\u001b[0mself\u001b[0m\u001b[0;34m.\u001b[0m\u001b[0mindex\u001b[0m\u001b[0;34m)\u001b[0m\u001b[0;34m\u001b[0m\u001b[0;34m\u001b[0m\u001b[0m\n\u001b[0m\u001b[1;32m   2946\u001b[0m         \u001b[0mout\u001b[0m \u001b[0;34m=\u001b[0m \u001b[0mout\u001b[0m\u001b[0;34m.\u001b[0m\u001b[0m__finalize__\u001b[0m\u001b[0;34m(\u001b[0m\u001b[0mself\u001b[0m\u001b[0;34m)\u001b[0m\u001b[0;34m\u001b[0m\u001b[0;34m\u001b[0m\u001b[0m\n\u001b[1;32m   2947\u001b[0m \u001b[0;34m\u001b[0m\u001b[0m\n",
            "\u001b[0;32m/usr/local/lib/python3.7/dist-packages/pandas/core/series.py\u001b[0m in \u001b[0;36m__init__\u001b[0;34m(self, data, index, dtype, name, copy, fastpath)\u001b[0m\n\u001b[1;32m    351\u001b[0m         \u001b[0;32melse\u001b[0m\u001b[0;34m:\u001b[0m\u001b[0;34m\u001b[0m\u001b[0;34m\u001b[0m\u001b[0m\n\u001b[1;32m    352\u001b[0m \u001b[0;34m\u001b[0m\u001b[0m\n\u001b[0;32m--> 353\u001b[0;31m             \u001b[0mname\u001b[0m \u001b[0;34m=\u001b[0m \u001b[0mibase\u001b[0m\u001b[0;34m.\u001b[0m\u001b[0mmaybe_extract_name\u001b[0m\u001b[0;34m(\u001b[0m\u001b[0mname\u001b[0m\u001b[0;34m,\u001b[0m \u001b[0mdata\u001b[0m\u001b[0;34m,\u001b[0m \u001b[0mtype\u001b[0m\u001b[0;34m(\u001b[0m\u001b[0mself\u001b[0m\u001b[0;34m)\u001b[0m\u001b[0;34m)\u001b[0m\u001b[0;34m\u001b[0m\u001b[0;34m\u001b[0m\u001b[0m\n\u001b[0m\u001b[1;32m    354\u001b[0m \u001b[0;34m\u001b[0m\u001b[0m\n\u001b[1;32m    355\u001b[0m             \u001b[0;32mif\u001b[0m \u001b[0mis_empty_data\u001b[0m\u001b[0;34m(\u001b[0m\u001b[0mdata\u001b[0m\u001b[0;34m)\u001b[0m \u001b[0;32mand\u001b[0m \u001b[0mdtype\u001b[0m \u001b[0;32mis\u001b[0m \u001b[0;32mNone\u001b[0m\u001b[0;34m:\u001b[0m\u001b[0;34m\u001b[0m\u001b[0;34m\u001b[0m\u001b[0m\n",
            "\u001b[0;31mKeyboardInterrupt\u001b[0m: "
          ]
        }
      ],
      "source": [
        "for i in [0,1,2]:\n",
        "    print(\"Estimation de la proba de l'individu {} par MAPNaiveBayesClassifier : {}\".format(i,cl.estimProbas(utils.getNthDict(train,i))))\n",
        "    print(\"Estimation de la classe de l'individu {} par MAPNaiveBayesClassifier : {}\".format(i,cl.estimClass(utils.getNthDict(train,i)))) \n",
        "print(\"test en apprentissage : {}\".format(cl.statsOnDF(train)))\n",
        "print(\"test en validation: {}\".format(cl.statsOnDF(test)))"
      ]
    },
    {
      "cell_type": "code",
      "execution_count": 51,
      "metadata": {
        "ExecuteTime": {
          "end_time": "2019-03-20T14:34:37.740782Z",
          "start_time": "2019-03-20T14:34:35.293364Z"
        },
        "id": "CCTyXiMa2IZw",
        "colab": {
          "base_uri": "https://localhost:8080/",
          "height": 161
        },
        "outputId": "34806981-f248-4d31-a24f-febd910dec1b"
      },
      "outputs": [
        {
          "output_type": "stream",
          "name": "stdout",
          "text": [
            "attributs independants de Target trestbps\n",
            "attributs independants de Target fbs\n"
          ]
        },
        {
          "output_type": "execute_result",
          "data": {
            "image/png": "[encoded data removed]",
            "text/plain": [
              "<IPython.core.display.Image object>"
            ]
          },
          "metadata": {},
          "execution_count": 51
        }
      ],
      "source": [
        "cl=projet.ReducedMAPNaiveBayesClassifier(train,0.01)\n",
        "cl.draw()"
      ]
    },
    {
      "cell_type": "code",
      "execution_count": 52,
      "metadata": {
        "ExecuteTime": {
          "end_time": "2019-03-20T14:34:38.169179Z",
          "start_time": "2019-03-20T14:34:37.744534Z"
        },
        "id": "c1Sd5hAq2IZx",
        "colab": {
          "base_uri": "https://localhost:8080/"
        },
        "outputId": "a15f12e1-9dd3-40a2-f7e1-7d2236a112d1"
      },
      "outputs": [
        {
          "output_type": "stream",
          "name": "stdout",
          "text": [
            "Estimation de la proba de l'individu 0 par MAPNaiveBayesClassifier : {0: 0.47643095845795086, 1: 0.5235690415420491}\n",
            "Estimation de la classe de l'individu 0 par MAPNaiveBayesClassifier : 1\n",
            "Estimation de la proba de l'individu 1 par MAPNaiveBayesClassifier : {0: 0.0, 1: 1.0}\n",
            "Estimation de la classe de l'individu 1 par MAPNaiveBayesClassifier : 1\n",
            "Estimation de la proba de l'individu 2 par MAPNaiveBayesClassifier : {0: 0.00010227941341238207, 1: 0.9998977205865877}\n",
            "Estimation de la classe de l'individu 2 par MAPNaiveBayesClassifier : 1\n",
            "test en apprentissage : {'VP': 375, 'VN': 110, 'FP': 28, 'FN': 29, 'Précision': 0.9305210918114144, 'Rappel': 0.9282178217821783}\n",
            "test en validation: {'VP': 53, 'VN': 56, 'FP': 6, 'FN': 85, 'Précision': 0.8983050847457628, 'Rappel': 0.38405797101449274}\n"
          ]
        }
      ],
      "source": [
        "for i in [0,1,2]:\n",
        "    print(\"Estimation de la proba de l'individu {} par MAPNaiveBayesClassifier : {}\".format(i,cl.estimProbas(utils.getNthDict(train,i))))\n",
        "    print(\"Estimation de la classe de l'individu {} par MAPNaiveBayesClassifier : {}\".format(i,cl.estimClass(utils.getNthDict(train,i)))) \n",
        "print(\"test en apprentissage : {}\".format(cl.statsOnDF(train)))\n",
        "print(\"test en validation: {}\".format(cl.statsOnDF(test)))"
      ]
    },
    {
      "cell_type": "markdown",
      "metadata": {
        "id": "DBLBU7yj2IZx"
      },
      "source": [
        "## Question 7 : évaluation des classifieurs\n",
        "\n",
        "Nous commençons à avoir pas mal de classifieurs. Pour les comparer, une possibilité est d'utiliser la représentation graphique des points $(précision,rappel)$ de chacun."
      ]
    },
    {
      "cell_type": "markdown",
      "metadata": {
        "id": "b8CrQ47u2IZx"
      },
      "source": [
        "### Question 7.1\n",
        "\n",
        "<div style=\"float:left;margin:0 10px 10px 0\">\n",
        "    <img src=\"question.png\">\n",
        "</div>\n",
        "Où se trouve à votre avis le point idéal ? Comment pourriez-vous proposer de comparer les différents classifieurs dans cette représentation graphique ?"
      ]
    },
    {
      "cell_type": "markdown",
      "metadata": {
        "id": "cQNUi4RC2IZx"
      },
      "source": [
        "Pour qu'un classificateur soit parfait (c'est-à-dire sans faux positifs (FP) ni faux négatifs (FN)) la valeur de précision et rappel doivent étre égale à 1, donc le point idéal est (1.0, 1.0).\n",
        "\n",
        "Ainsi,pour comparer chaque classificateur, nous pouvons calculer la distance entre le point correspondant à chaque classificateur sur le graphique et le point idéal. Plus la distance est petite plus le classificateur est meilleure."
      ]
    },
    {
      "cell_type": "markdown",
      "metadata": {
        "ExecuteTime": {
          "end_time": "2019-03-06T13:28:47.631486Z",
          "start_time": "2019-03-06T13:28:47.605743Z"
        },
        "tags": [],
        "id": "XArOh4bu2IZx"
      },
      "source": [
        "### Question 7.2 \n",
        "\n",
        "Écrire une fonction `mapClassifiers(dic,df)` qui, à partir d'un dictionnaire `dic` de `{nom:instance de classifier}` et d'un dataframe `df`, représente graphiquement ces classifiers dans l'espace $(précision,rappel)$."
      ]
    },
    {
      "cell_type": "code",
      "execution_count": 85,
      "metadata": {
        "ExecuteTime": {
          "end_time": "2019-03-20T14:34:40.084655Z",
          "start_time": "2019-03-20T14:34:38.171114Z"
        },
        "id": "-8Yf8pi12IZx",
        "colab": {
          "base_uri": "https://localhost:8080/",
          "height": 265
        },
        "outputId": "9ca8e6dd-acd5-4c24-8c70-9037515999b5"
      },
      "outputs": [
        {
          "output_type": "display_data",
          "data": {
            "text/plain": [
              "<Figure size 432x288 with 1 Axes>"
            ],
            "image/png": "[encoded data removed]"
          },
          "metadata": {
            "needs_background": "light"
          }
        }
      ],
      "source": [
        "projet.mapClassifiers({\"1\":projet.APrioriClassifier(train),\n",
        "                \"2\":projet.ML2DClassifier(train,\"exang\"),\n",
        "                \"3\":projet.MAP2DClassifier(train,\"exang\"),\n",
        "                \"4\":projet.MAPNaiveBayesClassifier(train),\n",
        "                \"5\":projet.MLNaiveBayesClassifier(train),\n",
        "                \"6\":projet.ReducedMAPNaiveBayesClassifier(train,0.01),\n",
        "                \"7\":projet.ReducedMLNaiveBayesClassifier(train,0.01),\n",
        "               },train)"
      ]
    },
    {
      "cell_type": "code",
      "execution_count": 86,
      "metadata": {
        "ExecuteTime": {
          "end_time": "2019-03-20T14:34:41.073173Z",
          "start_time": "2019-03-20T14:34:40.087878Z"
        },
        "id": "t-ag2vaa2IZy",
        "outputId": "8e017d36-b41f-429a-f40d-acf89bf0a249",
        "colab": {
          "base_uri": "https://localhost:8080/",
          "height": 265
        }
      },
      "outputs": [
        {
          "output_type": "display_data",
          "data": {
            "text/plain": [
              "<Figure size 432x288 with 1 Axes>"
            ],
            "image/png": "[encoded data removed]"
          },
          "metadata": {
            "needs_background": "light"
          }
        }
      ],
      "source": [
        "projet.mapClassifiers({\"1\":projet.APrioriClassifier(train),\n",
        "                \"2\":projet.ML2DClassifier(train,\"exang\"),\n",
        "                \"3\":projet.MAP2DClassifier(train,\"exang\"),\n",
        "                \"4\":projet.MAPNaiveBayesClassifier(train),\n",
        "                \"5\":projet.MLNaiveBayesClassifier(train),\n",
        "                \"6\":projet.ReducedMAPNaiveBayesClassifier(train,0.01),\n",
        "                \"7\":projet.ReducedMLNaiveBayesClassifier(train,0.01),\n",
        "               },test)"
      ]
    },
    {
      "cell_type": "markdown",
      "metadata": {
        "id": "1Pi9smF62IZy"
      },
      "source": [
        "### Conclusion\n",
        "\n",
        "<div style=\"float:left;margin:0 10px 10px 0\">\n",
        "    <img src=\"question.png\">\n",
        "</div>\n"
      ]
    },
    {
      "cell_type": "markdown",
      "metadata": {
        "id": "t_SQsKjS2IZy"
      },
      "source": [
        "1. Les points 2 et 3 sont très proches.\n",
        "donc on peut conclure que la différence entre les algorithmes MLE et MAP n'est pas très grande.\n",
        "2. Dans la classification bayésienne classique, on considére que toutes les attributs sont indépendantes les unes des autres sachant target. En réalité, ce n'est pas le cas, et cette hypothèse permet juste de faciliter le traitement des données. Cela démontre également que les expériences menées en utilisant séparément les données du 'test' et du 'train' ont donné une grande différence entre les deux résultats.\n",
        "3. En ce qui concerne l'algorithme Reduced__NaiveBayesClassifier()\n",
        "La distance entre point 4,6 et point 5,7 est petite. On peut dire que la précision de classifier est presque la même. Par conséquent, notre amélioration de l'algorithme est efficace et nous économisons du temps de calcul (la complexité du temp) sans changer le résultat."
      ]
    },
    {
      "cell_type": "markdown",
      "metadata": {
        "id": "BCd3BSoS2IZy"
      },
      "source": [
        "## Question 8 : Sophistication du modèle (question BONUS)\n",
        "\n",
        "Utiliser un arbre pour représenter la factorisation de la loi jointe est bien sûr une simplification : beaucoup de distribution ne peuvent être représentées avec un seul parent par variable.\n",
        "\n",
        "Un modèle plus sophisitiqué existe donc : le TAN (Tree-augmented Naïve Bayes). Il consiste à rajouter au plus un parent à chaque attribut parmi les autres attributs (sans créer de cycle). En plus des arcs les reliant à la classe, un TABN induit donc un arbre (plus exactement une forêt) parmi les attributs.\n",
        "\n",
        "Ci-dessous un TAN dont la classe est $T$."
      ]
    },
    {
      "cell_type": "code",
      "execution_count": 87,
      "metadata": {
        "ExecuteTime": {
          "end_time": "2019-03-20T14:34:43.305568Z",
          "start_time": "2019-03-20T14:34:41.075350Z"
        },
        "id": "kUNBHhpj2IZy",
        "outputId": "b858579e-78d7-48c1-c049-5df575c2209f",
        "colab": {
          "base_uri": "https://localhost:8080/",
          "height": 273
        }
      },
      "outputs": [
        {
          "output_type": "execute_result",
          "data": {
            "image/png": "[encoded data removed]",
            "text/plain": [
              "<IPython.core.display.Image object>"
            ]
          },
          "metadata": {},
          "execution_count": 87
        }
      ],
      "source": [
        "utils.drawGraph(\"T->X1;T->X2;T->X3;T->X4;T->X5;X1->X2;X1->X3;X3->X5\")"
      ]
    },
    {
      "cell_type": "markdown",
      "metadata": {
        "ExecuteTime": {
          "end_time": "2019-03-20T08:57:38.069802Z",
          "start_time": "2019-03-20T08:57:38.018803Z"
        },
        "id": "v24-C-WW2IZy"
      },
      "source": [
        "et dont l'arbre (la forêt) sur les attributs est bien :"
      ]
    },
    {
      "cell_type": "code",
      "execution_count": 88,
      "metadata": {
        "ExecuteTime": {
          "end_time": "2019-03-20T14:34:45.515465Z",
          "start_time": "2019-03-20T14:34:43.308094Z"
        },
        "id": "k8hprVQg2IZy",
        "outputId": "6d0b2039-27e8-457b-8515-468b2ee30700",
        "colab": {
          "base_uri": "https://localhost:8080/",
          "height": 200
        }
      },
      "outputs": [
        {
          "output_type": "execute_result",
          "data": {
            "image/png": "[encoded data removed]",
            "text/plain": [
              "<IPython.core.display.Image object>"
            ]
          },
          "metadata": {},
          "execution_count": 88
        }
      ],
      "source": [
        "utils.drawGraph(\"X1->X2;X1->X3;X3->X5;X4\")"
      ]
    },
    {
      "cell_type": "markdown",
      "metadata": {
        "id": "JjGCFwY42IZz"
      },
      "source": [
        "L'algorithme pour générer cette structure se base sur une autre façon de tester l'indépendance entre deux variables aléatoires : l'information mutuelle qui calcule une distance entre la distribution des 2 variables et la distribution si ces 2 variables étaient indépendantes (voir https://fr.wikipedia.org/wiki/Information_mutuelle). Pour construire l'arbre (la forêt) entre les attributs, sachant qu'on garde les arcs issus de la classe, il faut tester des indépendances conditionnelles et donc calculer des informations mutuelles conditionnelles (https://en.wikipedia.org/wiki/Conditional_mutual_information).\n",
        "\n",
        "On gardera de ces pages les deux formules :\n",
        "$$I(X;Y)=\\sum_{x,y} P(x,y)\\log_2\\frac{P(x,y)}{P(x)P(y)}$$\n",
        "\n",
        "$$I(X;Y|Z)=\\sum_{z,x,y} P(x,y,z)\\log_2\\frac{P(z)P(x,y,z)}{P(x,z)P(y,z)}$$\n",
        "\n",
        "Et on remarquera que :\n",
        "- $P(x,z)=\\sum_y P(x,y,z)$, \n",
        "- $P(y,z)=\\sum_x P(x,y,z)$, \n",
        "- $P(z)=\\sum_{x,y} P(x,y,z)$, \n",
        "- etc.\n",
        "\n",
        "### Question 8.1 : calcul des informations mutuelles\n",
        "Écrire des fonctions `projet.MutualInformation(df,x,y)` et `projet.ConditionalMutualInformation(df,x,y,z)` qui calcule ces informations mutuelles"
      ]
    },
    {
      "cell_type": "code",
      "execution_count": 91,
      "metadata": {
        "ExecuteTime": {
          "end_time": "2019-03-20T14:34:45.772416Z",
          "start_time": "2019-03-20T14:34:45.519445Z"
        },
        "id": "1aXNPtxQ2IZz",
        "outputId": "53989251-ca49-4789-da4b-20dd57b0225f",
        "colab": {
          "base_uri": "https://localhost:8080/"
        }
      },
      "outputs": [
        {
          "output_type": "stream",
          "name": "stdout",
          "text": [
            "target->age : 0.059090666566536325\n",
            "target->sex : 0.03594453596720204\n",
            "target->cp : 0.15995396264990083\n",
            "target->trestbps : 0.041198012161015304\n",
            "target->chol : 0.04058243330573428\n",
            "target->fbs : 4.1345596878308855e-05\n",
            "target->restecg : 0.016139208672462976\n",
            "target->thalach : 0.14015721668140796\n",
            "target->exang : 0.10148366175826354\n",
            "target->oldpeak : 0.1393573451783276\n",
            "target->slope : 0.0938837825561079\n",
            "target->ca : 0.14051038130632754\n",
            "target->thal : 0.16255361669359983\n"
          ]
        }
      ],
      "source": [
        "for attr in train.keys():\n",
        "    if attr!='target':\n",
        "        print(\"{}->{} : {}\".format(\"target\",attr,projet.MutualInformation(train,\"target\",attr)))"
      ]
    },
    {
      "cell_type": "markdown",
      "metadata": {
        "id": "CYgGvG7I2IZz"
      },
      "source": [
        "(On retrouve au passage que trestbs et surtout fbs sont très peu dépendantes de la classe ...)"
      ]
    },
    {
      "cell_type": "code",
      "execution_count": 92,
      "metadata": {
        "ExecuteTime": {
          "end_time": "2019-03-20T14:34:49.849938Z",
          "start_time": "2019-03-20T14:34:45.774312Z"
        },
        "id": "D_dG-Uxa2IZz",
        "outputId": "c36bdc96-5366-4e91-a8e0-ba61ff895f1b",
        "colab": {
          "base_uri": "https://localhost:8080/"
        }
      },
      "outputs": [
        {
          "output_type": "execute_result",
          "data": {
            "text/plain": [
              "array([[0.        , 0.07172827, 0.20250622, 0.6417183 , 0.55128095],\n",
              "       [0.07172827, 0.        , 0.01672381, 0.06361231, 0.12140024],\n",
              "       [0.20250622, 0.01672381, 0.        , 0.22413205, 0.18890573],\n",
              "       [0.6417183 , 0.06361231, 0.22413205, 0.        , 0.68149423],\n",
              "       [0.55128095, 0.12140024, 0.18890573, 0.68149423, 0.        ]])"
            ]
          },
          "metadata": {},
          "execution_count": 92
        }
      ],
      "source": [
        "cmis=np.array([[0 if x==y else projet.ConditionalMutualInformation(train,x,y,\"target\") \n",
        "                for x in train.keys() if x!=\"target\"]\n",
        "               for y in train.keys() if y!=\"target\"])\n",
        "cmis[0:5,0:5]"
      ]
    },
    {
      "cell_type": "markdown",
      "metadata": {
        "ExecuteTime": {
          "end_time": "2019-03-20T09:27:35.421093Z",
          "start_time": "2019-03-20T09:27:35.392605Z"
        },
        "id": "UsbOLrcf2IZz"
      },
      "source": [
        "(on remarque que, évidemment, la matrice `cmis` est symétrique)"
      ]
    },
    {
      "cell_type": "markdown",
      "metadata": {
        "id": "SyhyoLLR2IZz"
      },
      "source": [
        "### Question 8.2 : calcul de la matrice des poids\n",
        "La matrice `cmis` calculé ci-dessus représente l'ensemble des arcs possibles entre les attributs et leur poids. Pour trouver un arbre dans ces arcs, on commence par simplifier cette matrice en supprimant les poids faibles. Par exemple, en retirant la moyenne.\n",
        "\n",
        "Faites une fonction `projet.MeanForSymetricWeights(a)` qui calcule la moyenne des poids pour une matrice `a` symétrique de diagonale nulle.\n",
        "\n",
        "Puis écrire une fonction `projet.simplifyContitionalMutualInformationMatrix(a)` qui annule toutes les valeurs plus petites que cette moyenne dans une matrice  `a` symétrique de diagonale nulle."
      ]
    },
    {
      "cell_type": "code",
      "execution_count": 93,
      "metadata": {
        "ExecuteTime": {
          "end_time": "2019-03-20T14:34:49.869445Z",
          "start_time": "2019-03-20T14:34:49.852448Z"
        },
        "id": "9LG4rAq42IZz",
        "outputId": "ee7aa3a4-fafa-4faa-b5e5-3ffff758bfb0",
        "colab": {
          "base_uri": "https://localhost:8080/"
        }
      },
      "outputs": [
        {
          "output_type": "execute_result",
          "data": {
            "text/plain": [
              "0.14490408192274776"
            ]
          },
          "metadata": {},
          "execution_count": 93
        }
      ],
      "source": [
        "projet.MeanForSymetricWeights(cmis)"
      ]
    },
    {
      "cell_type": "code",
      "execution_count": 94,
      "metadata": {
        "ExecuteTime": {
          "end_time": "2019-03-20T14:34:49.884420Z",
          "start_time": "2019-03-20T14:34:49.871160Z"
        },
        "id": "HYX60EBK2IZz",
        "outputId": "70ece172-00d1-4ca8-94b9-1395d9943713",
        "colab": {
          "base_uri": "https://localhost:8080/"
        }
      },
      "outputs": [
        {
          "output_type": "execute_result",
          "data": {
            "text/plain": [
              "array([[0.        , 0.        , 0.20250622, 0.6417183 , 0.55128095],\n",
              "       [0.        , 0.        , 0.        , 0.        , 0.        ],\n",
              "       [0.20250622, 0.        , 0.        , 0.22413205, 0.18890573],\n",
              "       [0.6417183 , 0.        , 0.22413205, 0.        , 0.68149423],\n",
              "       [0.55128095, 0.        , 0.18890573, 0.68149423, 0.        ]])"
            ]
          },
          "metadata": {},
          "execution_count": 94
        }
      ],
      "source": [
        "projet.SimplifyConditionalMutualInformationMatrix(cmis)\n",
        "cmis[0:5,0:5]"
      ]
    },
    {
      "cell_type": "markdown",
      "metadata": {
        "id": "4K9KmDaU2IZ0"
      },
      "source": [
        "### Question 8.3 : Arbre (forêt) optimal entre les attributs\n",
        "\n",
        "Un algorithme pour trouver un arbre de poids maximal est l'algorithm de Kruskal (https://fr.wikipedia.org/wiki/Algorithme_de_Kruskal). En se souvenant qu'on veut relier les attributs si ils sont très dépendants, écrire la fonction `projet.Kruskal(df,a)` qui propose la liste des arcs (non orientés pour l'instant) à ajouter dans notre classifieur sous la forme d'une liste de triplet $(attr1,attr2,poids)$. \n",
        "\n",
        "<b>Remarque</b> : `df` ne sert ici qu'à retrouver le nom des attributs à partir de leur indice grâce à `train.keys()[i]`."
      ]
    },
    {
      "cell_type": "code",
      "execution_count": 99,
      "metadata": {
        "ExecuteTime": {
          "end_time": "2019-03-20T14:34:49.899065Z",
          "start_time": "2019-03-20T14:34:49.886026Z"
        },
        "id": "YvacYwBk2IZ0",
        "outputId": "a9c64848-01df-4752-e1c6-f1061924bb6a",
        "colab": {
          "base_uri": "https://localhost:8080/"
        }
      },
      "outputs": [
        {
          "output_type": "execute_result",
          "data": {
            "text/plain": [
              "[('trestbps', 'chol', 0.6814942282235205),\n",
              " ('age', 'trestbps', 0.6417182959085127),\n",
              " ('age', 'thalach', 0.6365766485465842),\n",
              " ('chol', 'oldpeak', 0.5246930555244584),\n",
              " ('oldpeak', 'slope', 0.25839871090530625),\n",
              " ('chol', 'ca', 0.25283279561816646),\n",
              " ('cp', 'trestbps', 0.22413205121660507),\n",
              " ('thalach', 'thal', 0.1552894181915478)]"
            ]
          },
          "metadata": {},
          "execution_count": 99
        }
      ],
      "source": [
        "liste_arcs=projet.Kruskal(train,cmis)\n",
        "liste_arcs"
      ]
    },
    {
      "cell_type": "markdown",
      "metadata": {
        "ExecuteTime": {
          "end_time": "2019-03-20T10:19:02.386792Z",
          "start_time": "2019-03-20T10:19:02.365286Z"
        },
        "id": "ln25YuJo2IZ0"
      },
      "source": [
        "### Question 8.4: Orientation des arcs entre attributs.\n",
        "\n",
        "Il s'agit maintenant d'orienter l'arbre (la forêt) entre les attributs. On choisit la (ou les) racine(s) en maximisant l'information mutuelle entre ces attributs et la classe (donc en utilisant `projet.MutualInformation`.\n",
        "\n",
        "Créer une fonction `projet.ConnexSet(list_arcs)` qui rend une liste d'ensemble d'attributs connectés, "
      ]
    },
    {
      "cell_type": "code",
      "execution_count": 100,
      "metadata": {
        "ExecuteTime": {
          "end_time": "2019-03-20T14:34:49.921114Z",
          "start_time": "2019-03-20T14:34:49.902053Z"
        },
        "id": "HKmauxpQ2IZ0",
        "outputId": "c78b3ebd-dcd7-4e8f-984c-38bf492c8399",
        "colab": {
          "base_uri": "https://localhost:8080/"
        }
      },
      "outputs": [
        {
          "output_type": "execute_result",
          "data": {
            "text/plain": [
              "[{'a', 'b', 'c'}, {'d', 'e'}]"
            ]
          },
          "metadata": {},
          "execution_count": 100
        }
      ],
      "source": [
        "# 3 arcs de poids 1 dans le graphe a--b--c   d--e\n",
        "projet.ConnexSets([('a','b',1),\n",
        "                   ('a','c',1),\n",
        "                   ('d','e',1)])"
      ]
    },
    {
      "cell_type": "code",
      "execution_count": 101,
      "metadata": {
        "ExecuteTime": {
          "end_time": "2019-03-20T14:34:49.940912Z",
          "start_time": "2019-03-20T14:34:49.926617Z"
        },
        "id": "fRTJJ2yL2IZ0",
        "outputId": "ec0ff79e-b744-40b0-abbe-15b6c4827122",
        "colab": {
          "base_uri": "https://localhost:8080/"
        }
      },
      "outputs": [
        {
          "output_type": "execute_result",
          "data": {
            "text/plain": [
              "[{'age',\n",
              "  'ca',\n",
              "  'chol',\n",
              "  'cp',\n",
              "  'oldpeak',\n",
              "  'slope',\n",
              "  'thal',\n",
              "  'thalach',\n",
              "  'trestbps'}]"
            ]
          },
          "metadata": {},
          "execution_count": 101
        }
      ],
      "source": [
        "projet.ConnexSets(liste_arcs)"
      ]
    },
    {
      "cell_type": "markdown",
      "metadata": {
        "ExecuteTime": {
          "end_time": "2019-03-20T10:19:02.386792Z",
          "start_time": "2019-03-20T10:19:02.365286Z"
        },
        "id": "A2ajuDeJ2IZ0"
      },
      "source": [
        "Puis écrire une fonction `projet.OrientConnexSets(df,arcs,classe)` qui utilise l'information mutuelle (entre chaque attribut et la `classe`) pour proposer pour chaque ensemble d'attributs connexes une racine et qui rend la liste des arcs orientés."
      ]
    },
    {
      "cell_type": "code",
      "execution_count": 102,
      "metadata": {
        "ExecuteTime": {
          "end_time": "2019-03-20T14:34:50.079990Z",
          "start_time": "2019-03-20T14:34:49.943267Z"
        },
        "id": "TJ-vHnKp2IZ0",
        "outputId": "7d99c7fb-4c07-44a8-f4c1-ba6fb719e01c",
        "colab": {
          "base_uri": "https://localhost:8080/",
          "height": 271
        }
      },
      "outputs": [
        {
          "output_type": "error",
          "ename": "TypeError",
          "evalue": "ignored",
          "traceback": [
            "\u001b[0;31m---------------------------------------------------------------------------\u001b[0m",
            "\u001b[0;31mTypeError\u001b[0m                                 Traceback (most recent call last)",
            "\u001b[0;32m<ipython-input-102-f7bbf2cbe072>\u001b[0m in \u001b[0;36m<module>\u001b[0;34m\u001b[0m\n\u001b[0;32m----> 1\u001b[0;31m \u001b[0mprojet\u001b[0m\u001b[0;34m.\u001b[0m\u001b[0mOrientConnexSets\u001b[0m\u001b[0;34m(\u001b[0m\u001b[0mtrain\u001b[0m\u001b[0;34m,\u001b[0m\u001b[0mliste_arcs\u001b[0m\u001b[0;34m,\u001b[0m\u001b[0;34m'target'\u001b[0m\u001b[0;34m)\u001b[0m\u001b[0;34m\u001b[0m\u001b[0;34m\u001b[0m\u001b[0m\n\u001b[0m",
            "\u001b[0;32m/content/projet.py\u001b[0m in \u001b[0;36mOrientConnexSets\u001b[0;34m(df, liste_arcs, classe)\u001b[0m\n\u001b[1;32m    665\u001b[0m       \u001b[0mmi\u001b[0m \u001b[0;34m=\u001b[0m  \u001b[0mnp\u001b[0m\u001b[0;34m.\u001b[0m\u001b[0marray\u001b[0m\u001b[0;34m(\u001b[0m\u001b[0;34m[\u001b[0m\u001b[0mMutualInformation\u001b[0m\u001b[0;34m(\u001b[0m\u001b[0mdf\u001b[0m\u001b[0;34m,\u001b[0m\u001b[0mv\u001b[0m\u001b[0;34m,\u001b[0m \u001b[0mclasse\u001b[0m\u001b[0;34m)\u001b[0m\u001b[0;32mfor\u001b[0m \u001b[0mv\u001b[0m \u001b[0;32min\u001b[0m \u001b[0mlist_connex\u001b[0m\u001b[0;34m]\u001b[0m\u001b[0;34m)\u001b[0m\u001b[0;34m\u001b[0m\u001b[0;34m\u001b[0m\u001b[0m\n\u001b[1;32m    666\u001b[0m       \u001b[0mroot\u001b[0m \u001b[0;34m=\u001b[0m \u001b[0mlist_connex\u001b[0m\u001b[0;34m[\u001b[0m\u001b[0mnp\u001b[0m\u001b[0;34m.\u001b[0m\u001b[0margmax\u001b[0m\u001b[0;34m(\u001b[0m\u001b[0mmi\u001b[0m\u001b[0;34m)\u001b[0m\u001b[0;34m]\u001b[0m\u001b[0;34m\u001b[0m\u001b[0;34m\u001b[0m\u001b[0m\n\u001b[0;32m--> 667\u001b[0;31m       \u001b[0mexplore\u001b[0m\u001b[0;34m(\u001b[0m\u001b[0mroot\u001b[0m\u001b[0;34m)\u001b[0m\u001b[0;34m\u001b[0m\u001b[0;34m\u001b[0m\u001b[0m\n\u001b[0m\u001b[1;32m    668\u001b[0m     \u001b[0;32mreturn\u001b[0m \u001b[0mforet\u001b[0m\u001b[0;34m\u001b[0m\u001b[0;34m\u001b[0m\u001b[0m\n",
            "\u001b[0;31mTypeError\u001b[0m: explore() missing 1 required positional argument: 'connex'"
          ]
        }
      ],
      "source": [
        "projet.OrientConnexSets(train,liste_arcs,'target')"
      ]
    },
    {
      "cell_type": "markdown",
      "metadata": {
        "ExecuteTime": {
          "end_time": "2019-03-20T11:29:59.990951Z",
          "start_time": "2019-03-20T11:29:59.971736Z"
        },
        "id": "rCFRv-zZ2IZ0"
      },
      "source": [
        "### Question 8.5: Classifieur TAN\n",
        "Écrire un `MAPTANClassifier(df)` qui construit un modèle TAN en suivant la procédure ci-dessus. Lui ajouter une procédure `Draw()`"
      ]
    },
    {
      "cell_type": "code",
      "execution_count": null,
      "metadata": {
        "ExecuteTime": {
          "end_time": "2019-03-20T14:34:57.425833Z",
          "start_time": "2019-03-20T14:34:50.081705Z"
        },
        "id": "XaBqyZvo2IZ1",
        "outputId": "e3f88beb-9be9-4401-d86a-a52ad390fa56"
      },
      "outputs": [
        {
          "name": "stdout",
          "output_type": "stream",
          "text": [
            "ca chol\n",
            "chol trestbps\n",
            "trestbps age\n",
            "age thalach\n",
            "chol oldpeak\n",
            "oldpeak slope\n"
          ]
        },
        {
          "data": {
            "image/png": "[encoded data removed]",
            "text/plain": [
              "<IPython.core.display.Image object>"
            ]
          },
          "execution_count": 42,
          "metadata": {},
          "output_type": "execute_result"
        }
      ],
      "source": [
        "tan=projet.MAPTANClassifier(train)\n",
        "tan.draw()"
      ]
    },
    {
      "cell_type": "code",
      "execution_count": null,
      "metadata": {
        "ExecuteTime": {
          "end_time": "2019-03-20T14:35:02.732770Z",
          "start_time": "2019-03-20T14:34:57.428893Z"
        },
        "id": "IpYZ70NF2IZ1",
        "outputId": "e2979b66-b837-4ead-b34b-3a0dfe9d8b09"
      },
      "outputs": [
        {
          "name": "stdout",
          "output_type": "stream",
          "text": [
            "Estimation de la proba de l'individu 0 par MAPTANClassifier : {0: 0.022097318917168225, 1: 0.9779026810828317}\n",
            "Estimation de la classe de l'individu 0 par MAPTANClassifier : 1\n",
            "Estimation de la proba de l'individu 1 par MAPTANClassifier : {0: 0.00025585738109411353, 1: 0.999744142618906}\n",
            "Estimation de la classe de l'individu 1 par MAPTANClassifier : 1\n",
            "Estimation de la proba de l'individu 2 par MAPTANClassifier : {0: 2.8906366364158223e-06, 1: 0.9999971093633636}\n",
            "Estimation de la classe de l'individu 2 par MAPTANClassifier : 1\n",
            "test en apprentissage : {'VP': 403, 'VN': 112, 'FP': 26, 'FN': 1, 'Précision': 0.9393939393939394, 'Rappel': 0.9975247524752475}\n",
            "test en validation: {'VP': 127, 'VN': 52, 'FP': 10, 'FN': 11, 'Précision': 0.927007299270073, 'Rappel': 0.9202898550724637}\n"
          ]
        }
      ],
      "source": [
        "for i in [0,1,2]:\n",
        "    print(\"Estimation de la proba de l'individu {} par MAPTANClassifier : {}\".format(i,tan.estimProbas(utils.getNthDict(train,i))))\n",
        "    print(\"Estimation de la classe de l'individu {} par MAPTANClassifier : {}\".format(i,tan.estimClass(utils.getNthDict(train,i)))) \n",
        "print(\"test en apprentissage : {}\".format(tan.statsOnDF(train)))\n",
        "print(\"test en validation: {}\".format(tan.statsOnDF(test)))"
      ]
    },
    {
      "cell_type": "code",
      "execution_count": null,
      "metadata": {
        "ExecuteTime": {
          "end_time": "2019-03-20T14:35:12.787115Z",
          "start_time": "2019-03-20T14:35:02.735455Z"
        },
        "id": "s5P5YpWH2IZ1",
        "outputId": "c3b23dc1-ef2a-436c-d063-e63b023099d2"
      },
      "outputs": [
        {
          "name": "stdout",
          "output_type": "stream",
          "text": [
            "ca chol\n",
            "chol trestbps\n",
            "trestbps age\n",
            "age thalach\n",
            "chol oldpeak\n",
            "oldpeak slope\n"
          ]
        },
        {
          "data": {
            "image/svg+xml": [
              "<?xml version=\"1.0\" encoding=\"utf-8\" standalone=\"no\"?>\n",
              "<!DOCTYPE svg PUBLIC \"-//W3C//DTD SVG 1.1//EN\"\n",
              "  \"http://www.w3.org/Graphics/SVG/1.1/DTD/svg11.dtd\">\n",
              "<svg xmlns:xlink=\"http://www.w3.org/1999/xlink\" width=\"410.21509pt\" height=\"297.190125pt\" viewBox=\"0 0 410.21509 297.190125\" xmlns=\"http://www.w3.org/2000/svg\" version=\"1.1\">\n",
              " <metadata>\n",
              "  <rdf:RDF xmlns:dc=\"http://purl.org/dc/elements/1.1/\" xmlns:cc=\"http://creativecommons.org/ns#\" xmlns:rdf=\"http://www.w3.org/1999/02/22-rdf-syntax-ns#\">\n",
              "   <cc:Work>\n",
              "    <dc:type rdf:resource=\"http://purl.org/dc/dcmitype/StillImage\"/>\n",
              "    <dc:date>2022-10-17T14:42:06.235719</dc:date>\n",
              "    <dc:format>image/svg+xml</dc:format>\n",
              "    <dc:creator>\n",
              "     <cc:Agent>\n",
              "      <dc:title>Matplotlib v3.6.1, https://matplotlib.org/</dc:title>\n",
              "     </cc:Agent>\n",
              "    </dc:creator>\n",
              "   </cc:Work>\n",
              "  </rdf:RDF>\n",
              " </metadata>\n",
              " <defs>\n",
              "  <style type=\"text/css\">*{stroke-linejoin: round; stroke-linecap: butt}</style>\n",
              " </defs>\n",
              " <g id=\"figure_1\">\n",
              "  <g id=\"patch_1\">\n",
              "   <path d=\"M 0 297.190125 \n",
              "L 410.21509 297.190125 \n",
              "L 410.21509 0 \n",
              "L 0 0 \n",
              "z\n",
              "\" style=\"fill: #e0e0e0\"/>\n",
              "  </g>\n",
              "  <g id=\"axes_1\">\n",
              "   <g id=\"patch_2\">\n",
              "    <path d=\"M 36.465625 273.312 \n",
              "L 393.585625 273.312 \n",
              "L 393.585625 7.2 \n",
              "L 36.465625 7.2 \n",
              "z\n",
              "\" style=\"fill: #ffffff\"/>\n",
              "   </g>\n",
              "   <g id=\"PathCollection_1\">\n",
              "    <defs>\n",
              "     <path id=\"m6e30aec76a\" d=\"M -3 3 \n",
              "L 3 -3 \n",
              "M -3 -3 \n",
              "L 3 3 \n",
              "\" style=\"stroke: #ff0000; stroke-width: 1.5\"/>\n",
              "    </defs>\n",
              "    <g clip-path=\"url(#pfeb3f751d6)\">\n",
              "     <use xlink:href=\"#m6e30aec76a\" x=\"52.698352\" y=\"19.296\" style=\"fill: #ff0000; stroke: #ff0000; stroke-width: 1.5\"/>\n",
              "    </g>\n",
              "   </g>\n",
              "   <g id=\"PathCollection_2\">\n",
              "    <g clip-path=\"url(#pfeb3f751d6)\">\n",
              "     <use xlink:href=\"#m6e30aec76a\" x=\"217.542538\" y=\"261.216\" style=\"fill: #ff0000; stroke: #ff0000; stroke-width: 1.5\"/>\n",
              "    </g>\n",
              "   </g>\n",
              "   <g id=\"PathCollection_3\">\n",
              "    <g clip-path=\"url(#pfeb3f751d6)\">\n",
              "     <use xlink:href=\"#m6e30aec76a\" x=\"217.542538\" y=\"261.216\" style=\"fill: #ff0000; stroke: #ff0000; stroke-width: 1.5\"/>\n",
              "    </g>\n",
              "   </g>\n",
              "   <g id=\"PathCollection_4\">\n",
              "    <g clip-path=\"url(#pfeb3f751d6)\">\n",
              "     <use xlink:href=\"#m6e30aec76a\" x=\"362.402679\" y=\"102.456\" style=\"fill: #ff0000; stroke: #ff0000; stroke-width: 1.5\"/>\n",
              "    </g>\n",
              "   </g>\n",
              "   <g id=\"PathCollection_5\">\n",
              "    <g clip-path=\"url(#pfeb3f751d6)\">\n",
              "     <use xlink:href=\"#m6e30aec76a\" x=\"373.692211\" y=\"223.416\" style=\"fill: #ff0000; stroke: #ff0000; stroke-width: 1.5\"/>\n",
              "    </g>\n",
              "   </g>\n",
              "   <g id=\"PathCollection_6\">\n",
              "    <g clip-path=\"url(#pfeb3f751d6)\">\n",
              "     <use xlink:href=\"#m6e30aec76a\" x=\"356.713911\" y=\"128.916\" style=\"fill: #ff0000; stroke: #ff0000; stroke-width: 1.5\"/>\n",
              "    </g>\n",
              "   </g>\n",
              "   <g id=\"PathCollection_7\">\n",
              "    <g clip-path=\"url(#pfeb3f751d6)\">\n",
              "     <use xlink:href=\"#m6e30aec76a\" x=\"377.352898\" y=\"230.976\" style=\"fill: #ff0000; stroke: #ff0000; stroke-width: 1.5\"/>\n",
              "    </g>\n",
              "   </g>\n",
              "   <g id=\"PathCollection_8\">\n",
              "    <g clip-path=\"url(#pfeb3f751d6)\">\n",
              "     <use xlink:href=\"#m6e30aec76a\" x=\"371.284379\" y=\"23.076\" style=\"fill: #ff0000; stroke: #ff0000; stroke-width: 1.5\"/>\n",
              "    </g>\n",
              "   </g>\n",
              "   <g id=\"matplotlib.axis_1\">\n",
              "    <g id=\"xtick_1\">\n",
              "     <g id=\"line2d_1\">\n",
              "      <defs>\n",
              "       <path id=\"maf01e902bd\" d=\"M 0 0 \n",
              "L 0 3.5 \n",
              "\" style=\"stroke: #000000; stroke-width: 0.8\"/>\n",
              "      </defs>\n",
              "      <g>\n",
              "       <use xlink:href=\"#maf01e902bd\" x=\"60.272804\" y=\"273.312\" style=\"stroke: #000000; stroke-width: 0.8\"/>\n",
              "      </g>\n",
              "     </g>\n",
              "     <g id=\"text_1\">\n",
              "      <!-- 0.750 -->\n",
              "      <g transform=\"translate(45.958741 287.910437) scale(0.1 -0.1)\">\n",
              "       <defs>\n",
              "        <path id=\"DejaVuSans-30\" d=\"M 2034 4250 \n",
              "Q 1547 4250 1301 3770 \n",
              "Q 1056 3291 1056 2328 \n",
              "Q 1056 1369 1301 889 \n",
              "Q 1547 409 2034 409 \n",
              "Q 2525 409 2770 889 \n",
              "Q 3016 1369 3016 2328 \n",
              "Q 3016 3291 2770 3770 \n",
              "Q 2525 4250 2034 4250 \n",
              "z\n",
              "M 2034 4750 \n",
              "Q 2819 4750 3233 4129 \n",
              "Q 3647 3509 3647 2328 \n",
              "Q 3647 1150 3233 529 \n",
              "Q 2819 -91 2034 -91 \n",
              "Q 1250 -91 836 529 \n",
              "Q 422 1150 422 2328 \n",
              "Q 422 3509 836 4129 \n",
              "Q 1250 4750 2034 4750 \n",
              "z\n",
              "\" transform=\"scale(0.015625)\"/>\n",
              "        <path id=\"DejaVuSans-2e\" d=\"M 684 794 \n",
              "L 1344 794 \n",
              "L 1344 0 \n",
              "L 684 0 \n",
              "L 684 794 \n",
              "z\n",
              "\" transform=\"scale(0.015625)\"/>\n",
              "        <path id=\"DejaVuSans-37\" d=\"M 525 4666 \n",
              "L 3525 4666 \n",
              "L 3525 4397 \n",
              "L 1831 0 \n",
              "L 1172 0 \n",
              "L 2766 4134 \n",
              "L 525 4134 \n",
              "L 525 4666 \n",
              "z\n",
              "\" transform=\"scale(0.015625)\"/>\n",
              "        <path id=\"DejaVuSans-35\" d=\"M 691 4666 \n",
              "L 3169 4666 \n",
              "L 3169 4134 \n",
              "L 1269 4134 \n",
              "L 1269 2991 \n",
              "Q 1406 3038 1543 3061 \n",
              "Q 1681 3084 1819 3084 \n",
              "Q 2600 3084 3056 2656 \n",
              "Q 3513 2228 3513 1497 \n",
              "Q 3513 744 3044 326 \n",
              "Q 2575 -91 1722 -91 \n",
              "Q 1428 -91 1123 -41 \n",
              "Q 819 9 494 109 \n",
              "L 494 744 \n",
              "Q 775 591 1075 516 \n",
              "Q 1375 441 1709 441 \n",
              "Q 2250 441 2565 725 \n",
              "Q 2881 1009 2881 1497 \n",
              "Q 2881 1984 2565 2268 \n",
              "Q 2250 2553 1709 2553 \n",
              "Q 1456 2553 1204 2497 \n",
              "Q 953 2441 691 2322 \n",
              "L 691 4666 \n",
              "z\n",
              "\" transform=\"scale(0.015625)\"/>\n",
              "       </defs>\n",
              "       <use xlink:href=\"#DejaVuSans-30\"/>\n",
              "       <use xlink:href=\"#DejaVuSans-2e\" x=\"63.623047\"/>\n",
              "       <use xlink:href=\"#DejaVuSans-37\" x=\"95.410156\"/>\n",
              "       <use xlink:href=\"#DejaVuSans-35\" x=\"159.033203\"/>\n",
              "       <use xlink:href=\"#DejaVuSans-30\" x=\"222.65625\"/>\n",
              "      </g>\n",
              "     </g>\n",
              "    </g>\n",
              "    <g id=\"xtick_2\">\n",
              "     <g id=\"line2d_2\">\n",
              "      <g>\n",
              "       <use xlink:href=\"#maf01e902bd\" x=\"101.326332\" y=\"273.312\" style=\"stroke: #000000; stroke-width: 0.8\"/>\n",
              "      </g>\n",
              "     </g>\n",
              "     <g id=\"text_2\">\n",
              "      <!-- 0.775 -->\n",
              "      <g transform=\"translate(87.012269 287.910437) scale(0.1 -0.1)\">\n",
              "       <use xlink:href=\"#DejaVuSans-30\"/>\n",
              "       <use xlink:href=\"#DejaVuSans-2e\" x=\"63.623047\"/>\n",
              "       <use xlink:href=\"#DejaVuSans-37\" x=\"95.410156\"/>\n",
              "       <use xlink:href=\"#DejaVuSans-37\" x=\"159.033203\"/>\n",
              "       <use xlink:href=\"#DejaVuSans-35\" x=\"222.65625\"/>\n",
              "      </g>\n",
              "     </g>\n",
              "    </g>\n",
              "    <g id=\"xtick_3\">\n",
              "     <g id=\"line2d_3\">\n",
              "      <g>\n",
              "       <use xlink:href=\"#maf01e902bd\" x=\"142.37986\" y=\"273.312\" style=\"stroke: #000000; stroke-width: 0.8\"/>\n",
              "      </g>\n",
              "     </g>\n",
              "     <g id=\"text_3\">\n",
              "      <!-- 0.800 -->\n",
              "      <g transform=\"translate(128.065797 287.910437) scale(0.1 -0.1)\">\n",
              "       <defs>\n",
              "        <path id=\"DejaVuSans-38\" d=\"M 2034 2216 \n",
              "Q 1584 2216 1326 1975 \n",
              "Q 1069 1734 1069 1313 \n",
              "Q 1069 891 1326 650 \n",
              "Q 1584 409 2034 409 \n",
              "Q 2484 409 2743 651 \n",
              "Q 3003 894 3003 1313 \n",
              "Q 3003 1734 2745 1975 \n",
              "Q 2488 2216 2034 2216 \n",
              "z\n",
              "M 1403 2484 \n",
              "Q 997 2584 770 2862 \n",
              "Q 544 3141 544 3541 \n",
              "Q 544 4100 942 4425 \n",
              "Q 1341 4750 2034 4750 \n",
              "Q 2731 4750 3128 4425 \n",
              "Q 3525 4100 3525 3541 \n",
              "Q 3525 3141 3298 2862 \n",
              "Q 3072 2584 2669 2484 \n",
              "Q 3125 2378 3379 2068 \n",
              "Q 3634 1759 3634 1313 \n",
              "Q 3634 634 3220 271 \n",
              "Q 2806 -91 2034 -91 \n",
              "Q 1263 -91 848 271 \n",
              "Q 434 634 434 1313 \n",
              "Q 434 1759 690 2068 \n",
              "Q 947 2378 1403 2484 \n",
              "z\n",
              "M 1172 3481 \n",
              "Q 1172 3119 1398 2916 \n",
              "Q 1625 2713 2034 2713 \n",
              "Q 2441 2713 2670 2916 \n",
              "Q 2900 3119 2900 3481 \n",
              "Q 2900 3844 2670 4047 \n",
              "Q 2441 4250 2034 4250 \n",
              "Q 1625 4250 1398 4047 \n",
              "Q 1172 3844 1172 3481 \n",
              "z\n",
              "\" transform=\"scale(0.015625)\"/>\n",
              "       </defs>\n",
              "       <use xlink:href=\"#DejaVuSans-30\"/>\n",
              "       <use xlink:href=\"#DejaVuSans-2e\" x=\"63.623047\"/>\n",
              "       <use xlink:href=\"#DejaVuSans-38\" x=\"95.410156\"/>\n",
              "       <use xlink:href=\"#DejaVuSans-30\" x=\"159.033203\"/>\n",
              "       <use xlink:href=\"#DejaVuSans-30\" x=\"222.65625\"/>\n",
              "      </g>\n",
              "     </g>\n",
              "    </g>\n",
              "    <g id=\"xtick_4\">\n",
              "     <g id=\"line2d_4\">\n",
              "      <g>\n",
              "       <use xlink:href=\"#maf01e902bd\" x=\"183.433388\" y=\"273.312\" style=\"stroke: #000000; stroke-width: 0.8\"/>\n",
              "      </g>\n",
              "     </g>\n",
              "     <g id=\"text_4\">\n",
              "      <!-- 0.825 -->\n",
              "      <g transform=\"translate(169.119325 287.910437) scale(0.1 -0.1)\">\n",
              "       <defs>\n",
              "        <path id=\"DejaVuSans-32\" d=\"M 1228 531 \n",
              "L 3431 531 \n",
              "L 3431 0 \n",
              "L 469 0 \n",
              "L 469 531 \n",
              "Q 828 903 1448 1529 \n",
              "Q 2069 2156 2228 2338 \n",
              "Q 2531 2678 2651 2914 \n",
              "Q 2772 3150 2772 3378 \n",
              "Q 2772 3750 2511 3984 \n",
              "Q 2250 4219 1831 4219 \n",
              "Q 1534 4219 1204 4116 \n",
              "Q 875 4013 500 3803 \n",
              "L 500 4441 \n",
              "Q 881 4594 1212 4672 \n",
              "Q 1544 4750 1819 4750 \n",
              "Q 2544 4750 2975 4387 \n",
              "Q 3406 4025 3406 3419 \n",
              "Q 3406 3131 3298 2873 \n",
              "Q 3191 2616 2906 2266 \n",
              "Q 2828 2175 2409 1742 \n",
              "Q 1991 1309 1228 531 \n",
              "z\n",
              "\" transform=\"scale(0.015625)\"/>\n",
              "       </defs>\n",
              "       <use xlink:href=\"#DejaVuSans-30\"/>\n",
              "       <use xlink:href=\"#DejaVuSans-2e\" x=\"63.623047\"/>\n",
              "       <use xlink:href=\"#DejaVuSans-38\" x=\"95.410156\"/>\n",
              "       <use xlink:href=\"#DejaVuSans-32\" x=\"159.033203\"/>\n",
              "       <use xlink:href=\"#DejaVuSans-35\" x=\"222.65625\"/>\n",
              "      </g>\n",
              "     </g>\n",
              "    </g>\n",
              "    <g id=\"xtick_5\">\n",
              "     <g id=\"line2d_5\">\n",
              "      <g>\n",
              "       <use xlink:href=\"#maf01e902bd\" x=\"224.486916\" y=\"273.312\" style=\"stroke: #000000; stroke-width: 0.8\"/>\n",
              "      </g>\n",
              "     </g>\n",
              "     <g id=\"text_5\">\n",
              "      <!-- 0.850 -->\n",
              "      <g transform=\"translate(210.172853 287.910437) scale(0.1 -0.1)\">\n",
              "       <use xlink:href=\"#DejaVuSans-30\"/>\n",
              "       <use xlink:href=\"#DejaVuSans-2e\" x=\"63.623047\"/>\n",
              "       <use xlink:href=\"#DejaVuSans-38\" x=\"95.410156\"/>\n",
              "       <use xlink:href=\"#DejaVuSans-35\" x=\"159.033203\"/>\n",
              "       <use xlink:href=\"#DejaVuSans-30\" x=\"222.65625\"/>\n",
              "      </g>\n",
              "     </g>\n",
              "    </g>\n",
              "    <g id=\"xtick_6\">\n",
              "     <g id=\"line2d_6\">\n",
              "      <g>\n",
              "       <use xlink:href=\"#maf01e902bd\" x=\"265.540444\" y=\"273.312\" style=\"stroke: #000000; stroke-width: 0.8\"/>\n",
              "      </g>\n",
              "     </g>\n",
              "     <g id=\"text_6\">\n",
              "      <!-- 0.875 -->\n",
              "      <g transform=\"translate(251.226381 287.910437) scale(0.1 -0.1)\">\n",
              "       <use xlink:href=\"#DejaVuSans-30\"/>\n",
              "       <use xlink:href=\"#DejaVuSans-2e\" x=\"63.623047\"/>\n",
              "       <use xlink:href=\"#DejaVuSans-38\" x=\"95.410156\"/>\n",
              "       <use xlink:href=\"#DejaVuSans-37\" x=\"159.033203\"/>\n",
              "       <use xlink:href=\"#DejaVuSans-35\" x=\"222.65625\"/>\n",
              "      </g>\n",
              "     </g>\n",
              "    </g>\n",
              "    <g id=\"xtick_7\">\n",
              "     <g id=\"line2d_7\">\n",
              "      <g>\n",
              "       <use xlink:href=\"#maf01e902bd\" x=\"306.593972\" y=\"273.312\" style=\"stroke: #000000; stroke-width: 0.8\"/>\n",
              "      </g>\n",
              "     </g>\n",
              "     <g id=\"text_7\">\n",
              "      <!-- 0.900 -->\n",
              "      <g transform=\"translate(292.279909 287.910437) scale(0.1 -0.1)\">\n",
              "       <defs>\n",
              "        <path id=\"DejaVuSans-39\" d=\"M 703 97 \n",
              "L 703 672 \n",
              "Q 941 559 1184 500 \n",
              "Q 1428 441 1663 441 \n",
              "Q 2288 441 2617 861 \n",
              "Q 2947 1281 2994 2138 \n",
              "Q 2813 1869 2534 1725 \n",
              "Q 2256 1581 1919 1581 \n",
              "Q 1219 1581 811 2004 \n",
              "Q 403 2428 403 3163 \n",
              "Q 403 3881 828 4315 \n",
              "Q 1253 4750 1959 4750 \n",
              "Q 2769 4750 3195 4129 \n",
              "Q 3622 3509 3622 2328 \n",
              "Q 3622 1225 3098 567 \n",
              "Q 2575 -91 1691 -91 \n",
              "Q 1453 -91 1209 -44 \n",
              "Q 966 3 703 97 \n",
              "z\n",
              "M 1959 2075 \n",
              "Q 2384 2075 2632 2365 \n",
              "Q 2881 2656 2881 3163 \n",
              "Q 2881 3666 2632 3958 \n",
              "Q 2384 4250 1959 4250 \n",
              "Q 1534 4250 1286 3958 \n",
              "Q 1038 3666 1038 3163 \n",
              "Q 1038 2656 1286 2365 \n",
              "Q 1534 2075 1959 2075 \n",
              "z\n",
              "\" transform=\"scale(0.015625)\"/>\n",
              "       </defs>\n",
              "       <use xlink:href=\"#DejaVuSans-30\"/>\n",
              "       <use xlink:href=\"#DejaVuSans-2e\" x=\"63.623047\"/>\n",
              "       <use xlink:href=\"#DejaVuSans-39\" x=\"95.410156\"/>\n",
              "       <use xlink:href=\"#DejaVuSans-30\" x=\"159.033203\"/>\n",
              "       <use xlink:href=\"#DejaVuSans-30\" x=\"222.65625\"/>\n",
              "      </g>\n",
              "     </g>\n",
              "    </g>\n",
              "    <g id=\"xtick_8\">\n",
              "     <g id=\"line2d_8\">\n",
              "      <g>\n",
              "       <use xlink:href=\"#maf01e902bd\" x=\"347.647499\" y=\"273.312\" style=\"stroke: #000000; stroke-width: 0.8\"/>\n",
              "      </g>\n",
              "     </g>\n",
              "     <g id=\"text_8\">\n",
              "      <!-- 0.925 -->\n",
              "      <g transform=\"translate(333.333437 287.910437) scale(0.1 -0.1)\">\n",
              "       <use xlink:href=\"#DejaVuSans-30\"/>\n",
              "       <use xlink:href=\"#DejaVuSans-2e\" x=\"63.623047\"/>\n",
              "       <use xlink:href=\"#DejaVuSans-39\" x=\"95.410156\"/>\n",
              "       <use xlink:href=\"#DejaVuSans-32\" x=\"159.033203\"/>\n",
              "       <use xlink:href=\"#DejaVuSans-35\" x=\"222.65625\"/>\n",
              "      </g>\n",
              "     </g>\n",
              "    </g>\n",
              "    <g id=\"xtick_9\">\n",
              "     <g id=\"line2d_9\">\n",
              "      <g>\n",
              "       <use xlink:href=\"#maf01e902bd\" x=\"388.701027\" y=\"273.312\" style=\"stroke: #000000; stroke-width: 0.8\"/>\n",
              "      </g>\n",
              "     </g>\n",
              "     <g id=\"text_9\">\n",
              "      <!-- 0.950 -->\n",
              "      <g transform=\"translate(374.386965 287.910437) scale(0.1 -0.1)\">\n",
              "       <use xlink:href=\"#DejaVuSans-30\"/>\n",
              "       <use xlink:href=\"#DejaVuSans-2e\" x=\"63.623047\"/>\n",
              "       <use xlink:href=\"#DejaVuSans-39\" x=\"95.410156\"/>\n",
              "       <use xlink:href=\"#DejaVuSans-35\" x=\"159.033203\"/>\n",
              "       <use xlink:href=\"#DejaVuSans-30\" x=\"222.65625\"/>\n",
              "      </g>\n",
              "     </g>\n",
              "    </g>\n",
              "   </g>\n",
              "   <g id=\"matplotlib.axis_2\">\n",
              "    <g id=\"ytick_1\">\n",
              "     <g id=\"line2d_10\">\n",
              "      <defs>\n",
              "       <path id=\"m8517988edd\" d=\"M 0 0 \n",
              "L -3.5 0 \n",
              "\" style=\"stroke: #000000; stroke-width: 0.8\"/>\n",
              "      </defs>\n",
              "      <g>\n",
              "       <use xlink:href=\"#m8517988edd\" x=\"36.465625\" y=\"263.6352\" style=\"stroke: #000000; stroke-width: 0.8\"/>\n",
              "      </g>\n",
              "     </g>\n",
              "     <g id=\"text_10\">\n",
              "      <!-- 0.84 -->\n",
              "      <g transform=\"translate(7.2 267.434419) scale(0.1 -0.1)\">\n",
              "       <defs>\n",
              "        <path id=\"DejaVuSans-34\" d=\"M 2419 4116 \n",
              "L 825 1625 \n",
              "L 2419 1625 \n",
              "L 2419 4116 \n",
              "z\n",
              "M 2253 4666 \n",
              "L 3047 4666 \n",
              "L 3047 1625 \n",
              "L 3713 1625 \n",
              "L 3713 1100 \n",
              "L 3047 1100 \n",
              "L 3047 0 \n",
              "L 2419 0 \n",
              "L 2419 1100 \n",
              "L 313 1100 \n",
              "L 313 1709 \n",
              "L 2253 4666 \n",
              "z\n",
              "\" transform=\"scale(0.015625)\"/>\n",
              "       </defs>\n",
              "       <use xlink:href=\"#DejaVuSans-30\"/>\n",
              "       <use xlink:href=\"#DejaVuSans-2e\" x=\"63.623047\"/>\n",
              "       <use xlink:href=\"#DejaVuSans-38\" x=\"95.410156\"/>\n",
              "       <use xlink:href=\"#DejaVuSans-34\" x=\"159.033203\"/>\n",
              "      </g>\n",
              "     </g>\n",
              "    </g>\n",
              "    <g id=\"ytick_2\">\n",
              "     <g id=\"line2d_11\">\n",
              "      <g>\n",
              "       <use xlink:href=\"#m8517988edd\" x=\"36.465625\" y=\"233.0928\" style=\"stroke: #000000; stroke-width: 0.8\"/>\n",
              "      </g>\n",
              "     </g>\n",
              "     <g id=\"text_11\">\n",
              "      <!-- 0.86 -->\n",
              "      <g transform=\"translate(7.2 236.892019) scale(0.1 -0.1)\">\n",
              "       <defs>\n",
              "        <path id=\"DejaVuSans-36\" d=\"M 2113 2584 \n",
              "Q 1688 2584 1439 2293 \n",
              "Q 1191 2003 1191 1497 \n",
              "Q 1191 994 1439 701 \n",
              "Q 1688 409 2113 409 \n",
              "Q 2538 409 2786 701 \n",
              "Q 3034 994 3034 1497 \n",
              "Q 3034 2003 2786 2293 \n",
              "Q 2538 2584 2113 2584 \n",
              "z\n",
              "M 3366 4563 \n",
              "L 3366 3988 \n",
              "Q 3128 4100 2886 4159 \n",
              "Q 2644 4219 2406 4219 \n",
              "Q 1781 4219 1451 3797 \n",
              "Q 1122 3375 1075 2522 \n",
              "Q 1259 2794 1537 2939 \n",
              "Q 1816 3084 2150 3084 \n",
              "Q 2853 3084 3261 2657 \n",
              "Q 3669 2231 3669 1497 \n",
              "Q 3669 778 3244 343 \n",
              "Q 2819 -91 2113 -91 \n",
              "Q 1303 -91 875 529 \n",
              "Q 447 1150 447 2328 \n",
              "Q 447 3434 972 4092 \n",
              "Q 1497 4750 2381 4750 \n",
              "Q 2619 4750 2861 4703 \n",
              "Q 3103 4656 3366 4563 \n",
              "z\n",
              "\" transform=\"scale(0.015625)\"/>\n",
              "       </defs>\n",
              "       <use xlink:href=\"#DejaVuSans-30\"/>\n",
              "       <use xlink:href=\"#DejaVuSans-2e\" x=\"63.623047\"/>\n",
              "       <use xlink:href=\"#DejaVuSans-38\" x=\"95.410156\"/>\n",
              "       <use xlink:href=\"#DejaVuSans-36\" x=\"159.033203\"/>\n",
              "      </g>\n",
              "     </g>\n",
              "    </g>\n",
              "    <g id=\"ytick_3\">\n",
              "     <g id=\"line2d_12\">\n",
              "      <g>\n",
              "       <use xlink:href=\"#m8517988edd\" x=\"36.465625\" y=\"202.5504\" style=\"stroke: #000000; stroke-width: 0.8\"/>\n",
              "      </g>\n",
              "     </g>\n",
              "     <g id=\"text_12\">\n",
              "      <!-- 0.88 -->\n",
              "      <g transform=\"translate(7.2 206.349619) scale(0.1 -0.1)\">\n",
              "       <use xlink:href=\"#DejaVuSans-30\"/>\n",
              "       <use xlink:href=\"#DejaVuSans-2e\" x=\"63.623047\"/>\n",
              "       <use xlink:href=\"#DejaVuSans-38\" x=\"95.410156\"/>\n",
              "       <use xlink:href=\"#DejaVuSans-38\" x=\"159.033203\"/>\n",
              "      </g>\n",
              "     </g>\n",
              "    </g>\n",
              "    <g id=\"ytick_4\">\n",
              "     <g id=\"line2d_13\">\n",
              "      <g>\n",
              "       <use xlink:href=\"#m8517988edd\" x=\"36.465625\" y=\"172.008\" style=\"stroke: #000000; stroke-width: 0.8\"/>\n",
              "      </g>\n",
              "     </g>\n",
              "     <g id=\"text_13\">\n",
              "      <!-- 0.90 -->\n",
              "      <g transform=\"translate(7.2 175.807219) scale(0.1 -0.1)\">\n",
              "       <use xlink:href=\"#DejaVuSans-30\"/>\n",
              "       <use xlink:href=\"#DejaVuSans-2e\" x=\"63.623047\"/>\n",
              "       <use xlink:href=\"#DejaVuSans-39\" x=\"95.410156\"/>\n",
              "       <use xlink:href=\"#DejaVuSans-30\" x=\"159.033203\"/>\n",
              "      </g>\n",
              "     </g>\n",
              "    </g>\n",
              "    <g id=\"ytick_5\">\n",
              "     <g id=\"line2d_14\">\n",
              "      <g>\n",
              "       <use xlink:href=\"#m8517988edd\" x=\"36.465625\" y=\"141.4656\" style=\"stroke: #000000; stroke-width: 0.8\"/>\n",
              "      </g>\n",
              "     </g>\n",
              "     <g id=\"text_14\">\n",
              "      <!-- 0.92 -->\n",
              "      <g transform=\"translate(7.2 145.264819) scale(0.1 -0.1)\">\n",
              "       <use xlink:href=\"#DejaVuSans-30\"/>\n",
              "       <use xlink:href=\"#DejaVuSans-2e\" x=\"63.623047\"/>\n",
              "       <use xlink:href=\"#DejaVuSans-39\" x=\"95.410156\"/>\n",
              "       <use xlink:href=\"#DejaVuSans-32\" x=\"159.033203\"/>\n",
              "      </g>\n",
              "     </g>\n",
              "    </g>\n",
              "    <g id=\"ytick_6\">\n",
              "     <g id=\"line2d_15\">\n",
              "      <g>\n",
              "       <use xlink:href=\"#m8517988edd\" x=\"36.465625\" y=\"110.9232\" style=\"stroke: #000000; stroke-width: 0.8\"/>\n",
              "      </g>\n",
              "     </g>\n",
              "     <g id=\"text_15\">\n",
              "      <!-- 0.94 -->\n",
              "      <g transform=\"translate(7.2 114.722419) scale(0.1 -0.1)\">\n",
              "       <use xlink:href=\"#DejaVuSans-30\"/>\n",
              "       <use xlink:href=\"#DejaVuSans-2e\" x=\"63.623047\"/>\n",
              "       <use xlink:href=\"#DejaVuSans-39\" x=\"95.410156\"/>\n",
              "       <use xlink:href=\"#DejaVuSans-34\" x=\"159.033203\"/>\n",
              "      </g>\n",
              "     </g>\n",
              "    </g>\n",
              "    <g id=\"ytick_7\">\n",
              "     <g id=\"line2d_16\">\n",
              "      <g>\n",
              "       <use xlink:href=\"#m8517988edd\" x=\"36.465625\" y=\"80.3808\" style=\"stroke: #000000; stroke-width: 0.8\"/>\n",
              "      </g>\n",
              "     </g>\n",
              "     <g id=\"text_16\">\n",
              "      <!-- 0.96 -->\n",
              "      <g transform=\"translate(7.2 84.180019) scale(0.1 -0.1)\">\n",
              "       <use xlink:href=\"#DejaVuSans-30\"/>\n",
              "       <use xlink:href=\"#DejaVuSans-2e\" x=\"63.623047\"/>\n",
              "       <use xlink:href=\"#DejaVuSans-39\" x=\"95.410156\"/>\n",
              "       <use xlink:href=\"#DejaVuSans-36\" x=\"159.033203\"/>\n",
              "      </g>\n",
              "     </g>\n",
              "    </g>\n",
              "    <g id=\"ytick_8\">\n",
              "     <g id=\"line2d_17\">\n",
              "      <g>\n",
              "       <use xlink:href=\"#m8517988edd\" x=\"36.465625\" y=\"49.8384\" style=\"stroke: #000000; stroke-width: 0.8\"/>\n",
              "      </g>\n",
              "     </g>\n",
              "     <g id=\"text_17\">\n",
              "      <!-- 0.98 -->\n",
              "      <g transform=\"translate(7.2 53.637619) scale(0.1 -0.1)\">\n",
              "       <use xlink:href=\"#DejaVuSans-30\"/>\n",
              "       <use xlink:href=\"#DejaVuSans-2e\" x=\"63.623047\"/>\n",
              "       <use xlink:href=\"#DejaVuSans-39\" x=\"95.410156\"/>\n",
              "       <use xlink:href=\"#DejaVuSans-38\" x=\"159.033203\"/>\n",
              "      </g>\n",
              "     </g>\n",
              "    </g>\n",
              "    <g id=\"ytick_9\">\n",
              "     <g id=\"line2d_18\">\n",
              "      <g>\n",
              "       <use xlink:href=\"#m8517988edd\" x=\"36.465625\" y=\"19.296\" style=\"stroke: #000000; stroke-width: 0.8\"/>\n",
              "      </g>\n",
              "     </g>\n",
              "     <g id=\"text_18\">\n",
              "      <!-- 1.00 -->\n",
              "      <g transform=\"translate(7.2 23.095219) scale(0.1 -0.1)\">\n",
              "       <defs>\n",
              "        <path id=\"DejaVuSans-31\" d=\"M 794 531 \n",
              "L 1825 531 \n",
              "L 1825 4091 \n",
              "L 703 3866 \n",
              "L 703 4441 \n",
              "L 1819 4666 \n",
              "L 2450 4666 \n",
              "L 2450 531 \n",
              "L 3481 531 \n",
              "L 3481 0 \n",
              "L 794 0 \n",
              "L 794 531 \n",
              "z\n",
              "\" transform=\"scale(0.015625)\"/>\n",
              "       </defs>\n",
              "       <use xlink:href=\"#DejaVuSans-31\"/>\n",
              "       <use xlink:href=\"#DejaVuSans-2e\" x=\"63.623047\"/>\n",
              "       <use xlink:href=\"#DejaVuSans-30\" x=\"95.410156\"/>\n",
              "       <use xlink:href=\"#DejaVuSans-30\" x=\"159.033203\"/>\n",
              "      </g>\n",
              "     </g>\n",
              "    </g>\n",
              "   </g>\n",
              "   <g id=\"patch_3\">\n",
              "    <path d=\"M 36.465625 273.312 \n",
              "L 36.465625 7.2 \n",
              "\" style=\"fill: none; stroke: #000000; stroke-width: 0.8; stroke-linejoin: miter; stroke-linecap: square\"/>\n",
              "   </g>\n",
              "   <g id=\"patch_4\">\n",
              "    <path d=\"M 393.585625 273.312 \n",
              "L 393.585625 7.2 \n",
              "\" style=\"fill: none; stroke: #000000; stroke-width: 0.8; stroke-linejoin: miter; stroke-linecap: square\"/>\n",
              "   </g>\n",
              "   <g id=\"patch_5\">\n",
              "    <path d=\"M 36.465625 273.312 \n",
              "L 393.585625 273.312 \n",
              "\" style=\"fill: none; stroke: #000000; stroke-width: 0.8; stroke-linejoin: miter; stroke-linecap: square\"/>\n",
              "   </g>\n",
              "   <g id=\"patch_6\">\n",
              "    <path d=\"M 36.465625 7.2 \n",
              "L 393.585625 7.2 \n",
              "\" style=\"fill: none; stroke: #000000; stroke-width: 0.8; stroke-linejoin: miter; stroke-linecap: square\"/>\n",
              "   </g>\n",
              "   <g id=\"text_19\">\n",
              "    <!-- 1 -->\n",
              "    <g transform=\"translate(57.624776 14.71464) scale(0.09 -0.09)\">\n",
              "     <use xlink:href=\"#DejaVuSans-31\"/>\n",
              "    </g>\n",
              "   </g>\n",
              "   <g id=\"text_20\">\n",
              "    <!-- 2 -->\n",
              "    <g transform=\"translate(222.468961 256.63464) scale(0.09 -0.09)\">\n",
              "     <use xlink:href=\"#DejaVuSans-32\"/>\n",
              "    </g>\n",
              "   </g>\n",
              "   <g id=\"text_21\">\n",
              "    <!-- 3 -->\n",
              "    <g transform=\"translate(222.468961 256.63464) scale(0.09 -0.09)\">\n",
              "     <defs>\n",
              "      <path id=\"DejaVuSans-33\" d=\"M 2597 2516 \n",
              "Q 3050 2419 3304 2112 \n",
              "Q 3559 1806 3559 1356 \n",
              "Q 3559 666 3084 287 \n",
              "Q 2609 -91 1734 -91 \n",
              "Q 1441 -91 1130 -33 \n",
              "Q 819 25 488 141 \n",
              "L 488 750 \n",
              "Q 750 597 1062 519 \n",
              "Q 1375 441 1716 441 \n",
              "Q 2309 441 2620 675 \n",
              "Q 2931 909 2931 1356 \n",
              "Q 2931 1769 2642 2001 \n",
              "Q 2353 2234 1838 2234 \n",
              "L 1294 2234 \n",
              "L 1294 2753 \n",
              "L 1863 2753 \n",
              "Q 2328 2753 2575 2939 \n",
              "Q 2822 3125 2822 3475 \n",
              "Q 2822 3834 2567 4026 \n",
              "Q 2313 4219 1838 4219 \n",
              "Q 1578 4219 1281 4162 \n",
              "Q 984 4106 628 3988 \n",
              "L 628 4550 \n",
              "Q 988 4650 1302 4700 \n",
              "Q 1616 4750 1894 4750 \n",
              "Q 2613 4750 3031 4423 \n",
              "Q 3450 4097 3450 3541 \n",
              "Q 3450 3153 3228 2886 \n",
              "Q 3006 2619 2597 2516 \n",
              "z\n",
              "\" transform=\"scale(0.015625)\"/>\n",
              "     </defs>\n",
              "     <use xlink:href=\"#DejaVuSans-33\"/>\n",
              "    </g>\n",
              "   </g>\n",
              "   <g id=\"text_22\">\n",
              "    <!-- 4 -->\n",
              "    <g transform=\"translate(367.329103 97.87464) scale(0.09 -0.09)\">\n",
              "     <use xlink:href=\"#DejaVuSans-34\"/>\n",
              "    </g>\n",
              "   </g>\n",
              "   <g id=\"text_23\">\n",
              "    <!-- 5 -->\n",
              "    <g transform=\"translate(378.618634 218.83464) scale(0.09 -0.09)\">\n",
              "     <use xlink:href=\"#DejaVuSans-35\"/>\n",
              "    </g>\n",
              "   </g>\n",
              "   <g id=\"text_24\">\n",
              "    <!-- 6 -->\n",
              "    <g transform=\"translate(361.640335 124.33464) scale(0.09 -0.09)\">\n",
              "     <use xlink:href=\"#DejaVuSans-36\"/>\n",
              "    </g>\n",
              "   </g>\n",
              "   <g id=\"text_25\">\n",
              "    <!-- 7 -->\n",
              "    <g transform=\"translate(382.279321 226.39464) scale(0.09 -0.09)\">\n",
              "     <use xlink:href=\"#DejaVuSans-37\"/>\n",
              "    </g>\n",
              "   </g>\n",
              "   <g id=\"text_26\">\n",
              "    <!-- 8 -->\n",
              "    <g transform=\"translate(376.210803 18.49464) scale(0.09 -0.09)\">\n",
              "     <use xlink:href=\"#DejaVuSans-38\"/>\n",
              "    </g>\n",
              "   </g>\n",
              "  </g>\n",
              " </g>\n",
              " <defs>\n",
              "  <clipPath id=\"pfeb3f751d6\">\n",
              "   <rect x=\"36.465625\" y=\"7.2\" width=\"357.12\" height=\"266.112\"/>\n",
              "  </clipPath>\n",
              " </defs>\n",
              "</svg>\n"
            ],
            "text/plain": [
              "<Figure size 640x480 with 1 Axes>"
            ]
          },
          "metadata": {},
          "output_type": "display_data"
        }
      ],
      "source": [
        "projet.mapClassifiers({\"1\":projet.APrioriClassifier(),\n",
        "                \"2\":projet.ML2DClassifier(train,\"exang\"),\n",
        "                \"3\":projet.MAP2DClassifier(train,\"exang\"),\n",
        "                \"4\":projet.MAPNaiveBayesClassifier(train),\n",
        "                \"5\":projet.MLNaiveBayesClassifier(train),\n",
        "                \"6\":projet.ReducedMAPNaiveBayesClassifier(train,0.01),\n",
        "                \"7\":projet.ReducedMLNaiveBayesClassifier(train,0.01),\n",
        "                \"8\":projet.MAPTANClassifier(train),\n",
        "               },train)"
      ]
    },
    {
      "cell_type": "code",
      "execution_count": null,
      "metadata": {
        "ExecuteTime": {
          "end_time": "2019-03-20T14:35:19.554086Z",
          "start_time": "2019-03-20T14:35:12.790875Z"
        },
        "id": "rCMgh9jN2IZ1",
        "outputId": "dd27c3ca-af72-4260-ace0-5bbc50358ee0"
      },
      "outputs": [
        {
          "name": "stdout",
          "output_type": "stream",
          "text": [
            "ca chol\n",
            "chol trestbps\n",
            "trestbps age\n",
            "age thalach\n",
            "chol oldpeak\n",
            "oldpeak slope\n"
          ]
        },
        {
          "data": {
            "image/svg+xml": [
              "<?xml version=\"1.0\" encoding=\"utf-8\" standalone=\"no\"?>\n",
              "<!DOCTYPE svg PUBLIC \"-//W3C//DTD SVG 1.1//EN\"\n",
              "  \"http://www.w3.org/Graphics/SVG/1.1/DTD/svg11.dtd\">\n",
              "<svg xmlns:xlink=\"http://www.w3.org/1999/xlink\" width=\"394.423125pt\" height=\"297.190125pt\" viewBox=\"0 0 394.423125 297.190125\" xmlns=\"http://www.w3.org/2000/svg\" version=\"1.1\">\n",
              " <metadata>\n",
              "  <rdf:RDF xmlns:dc=\"http://purl.org/dc/elements/1.1/\" xmlns:cc=\"http://creativecommons.org/ns#\" xmlns:rdf=\"http://www.w3.org/1999/02/22-rdf-syntax-ns#\">\n",
              "   <cc:Work>\n",
              "    <dc:type rdf:resource=\"http://purl.org/dc/dcmitype/StillImage\"/>\n",
              "    <dc:date>2022-10-17T14:42:08.181664</dc:date>\n",
              "    <dc:format>image/svg+xml</dc:format>\n",
              "    <dc:creator>\n",
              "     <cc:Agent>\n",
              "      <dc:title>Matplotlib v3.6.1, https://matplotlib.org/</dc:title>\n",
              "     </cc:Agent>\n",
              "    </dc:creator>\n",
              "   </cc:Work>\n",
              "  </rdf:RDF>\n",
              " </metadata>\n",
              " <defs>\n",
              "  <style type=\"text/css\">*{stroke-linejoin: round; stroke-linecap: butt}</style>\n",
              " </defs>\n",
              " <g id=\"figure_1\">\n",
              "  <g id=\"patch_1\">\n",
              "   <path d=\"M 0 297.190125 \n",
              "L 394.423125 297.190125 \n",
              "L 394.423125 0 \n",
              "L 0 0 \n",
              "z\n",
              "\" style=\"fill: #e0e0e0\"/>\n",
              "  </g>\n",
              "  <g id=\"axes_1\">\n",
              "   <g id=\"patch_2\">\n",
              "    <path d=\"M 30.103125 273.312 \n",
              "L 387.223125 273.312 \n",
              "L 387.223125 7.2 \n",
              "L 30.103125 7.2 \n",
              "z\n",
              "\" style=\"fill: #ffffff\"/>\n",
              "   </g>\n",
              "   <g id=\"PathCollection_1\">\n",
              "    <defs>\n",
              "     <path id=\"m9fce338338\" d=\"M -3 3 \n",
              "L 3 -3 \n",
              "M -3 -3 \n",
              "L 3 3 \n",
              "\" style=\"stroke: #ff0000; stroke-width: 1.5\"/>\n",
              "    </defs>\n",
              "    <g clip-path=\"url(#pc9a64ffe6b)\">\n",
              "     <use xlink:href=\"#m9fce338338\" x=\"46.335852\" y=\"19.296\" style=\"fill: #ff0000; stroke: #ff0000; stroke-width: 1.5\"/>\n",
              "    </g>\n",
              "   </g>\n",
              "   <g id=\"PathCollection_2\">\n",
              "    <g clip-path=\"url(#pc9a64ffe6b)\">\n",
              "     <use xlink:href=\"#m9fce338338\" x=\"176.944003\" y=\"65.505438\" style=\"fill: #ff0000; stroke: #ff0000; stroke-width: 1.5\"/>\n",
              "    </g>\n",
              "   </g>\n",
              "   <g id=\"PathCollection_3\">\n",
              "    <g clip-path=\"url(#pc9a64ffe6b)\">\n",
              "     <use xlink:href=\"#m9fce338338\" x=\"176.944003\" y=\"65.505438\" style=\"fill: #ff0000; stroke: #ff0000; stroke-width: 1.5\"/>\n",
              "    </g>\n",
              "   </g>\n",
              "   <g id=\"PathCollection_4\">\n",
              "    <g clip-path=\"url(#pc9a64ffe6b)\">\n",
              "     <use xlink:href=\"#m9fce338338\" x=\"296.871881\" y=\"250.343191\" style=\"fill: #ff0000; stroke: #ff0000; stroke-width: 1.5\"/>\n",
              "    </g>\n",
              "   </g>\n",
              "   <g id=\"PathCollection_5\">\n",
              "    <g clip-path=\"url(#pc9a64ffe6b)\">\n",
              "     <use xlink:href=\"#m9fce338338\" x=\"349.478467\" y=\"261.216\" style=\"fill: #ff0000; stroke: #ff0000; stroke-width: 1.5\"/>\n",
              "    </g>\n",
              "   </g>\n",
              "   <g id=\"PathCollection_6\">\n",
              "    <g clip-path=\"url(#pc9a64ffe6b)\">\n",
              "     <use xlink:href=\"#m9fce338338\" x=\"279.533068\" y=\"250.343191\" style=\"fill: #ff0000; stroke: #ff0000; stroke-width: 1.5\"/>\n",
              "    </g>\n",
              "   </g>\n",
              "   <g id=\"PathCollection_7\">\n",
              "    <g clip-path=\"url(#pc9a64ffe6b)\">\n",
              "     <use xlink:href=\"#m9fce338338\" x=\"370.990398\" y=\"261.216\" style=\"fill: #ff0000; stroke: #ff0000; stroke-width: 1.5\"/>\n",
              "    </g>\n",
              "   </g>\n",
              "   <g id=\"PathCollection_8\">\n",
              "    <g clip-path=\"url(#pc9a64ffe6b)\">\n",
              "     <use xlink:href=\"#m9fce338338\" x=\"311.665152\" y=\"49.196225\" style=\"fill: #ff0000; stroke: #ff0000; stroke-width: 1.5\"/>\n",
              "    </g>\n",
              "   </g>\n",
              "   <g id=\"matplotlib.axis_1\">\n",
              "    <g id=\"xtick_1\">\n",
              "     <g id=\"line2d_1\">\n",
              "      <defs>\n",
              "       <path id=\"mf30d1afdbf\" d=\"M 0 0 \n",
              "L 0 3.5 \n",
              "\" style=\"stroke: #000000; stroke-width: 0.8\"/>\n",
              "      </defs>\n",
              "      <g>\n",
              "       <use xlink:href=\"#mf30d1afdbf\" x=\"57.530837\" y=\"273.312\" style=\"stroke: #000000; stroke-width: 0.8\"/>\n",
              "      </g>\n",
              "     </g>\n",
              "     <g id=\"text_1\">\n",
              "      <!-- 0.70 -->\n",
              "      <g transform=\"translate(46.398024 287.910437) scale(0.1 -0.1)\">\n",
              "       <defs>\n",
              "        <path id=\"DejaVuSans-30\" d=\"M 2034 4250 \n",
              "Q 1547 4250 1301 3770 \n",
              "Q 1056 3291 1056 2328 \n",
              "Q 1056 1369 1301 889 \n",
              "Q 1547 409 2034 409 \n",
              "Q 2525 409 2770 889 \n",
              "Q 3016 1369 3016 2328 \n",
              "Q 3016 3291 2770 3770 \n",
              "Q 2525 4250 2034 4250 \n",
              "z\n",
              "M 2034 4750 \n",
              "Q 2819 4750 3233 4129 \n",
              "Q 3647 3509 3647 2328 \n",
              "Q 3647 1150 3233 529 \n",
              "Q 2819 -91 2034 -91 \n",
              "Q 1250 -91 836 529 \n",
              "Q 422 1150 422 2328 \n",
              "Q 422 3509 836 4129 \n",
              "Q 1250 4750 2034 4750 \n",
              "z\n",
              "\" transform=\"scale(0.015625)\"/>\n",
              "        <path id=\"DejaVuSans-2e\" d=\"M 684 794 \n",
              "L 1344 794 \n",
              "L 1344 0 \n",
              "L 684 0 \n",
              "L 684 794 \n",
              "z\n",
              "\" transform=\"scale(0.015625)\"/>\n",
              "        <path id=\"DejaVuSans-37\" d=\"M 525 4666 \n",
              "L 3525 4666 \n",
              "L 3525 4397 \n",
              "L 1831 0 \n",
              "L 1172 0 \n",
              "L 2766 4134 \n",
              "L 525 4134 \n",
              "L 525 4666 \n",
              "z\n",
              "\" transform=\"scale(0.015625)\"/>\n",
              "       </defs>\n",
              "       <use xlink:href=\"#DejaVuSans-30\"/>\n",
              "       <use xlink:href=\"#DejaVuSans-2e\" x=\"63.623047\"/>\n",
              "       <use xlink:href=\"#DejaVuSans-37\" x=\"95.410156\"/>\n",
              "       <use xlink:href=\"#DejaVuSans-30\" x=\"159.033203\"/>\n",
              "      </g>\n",
              "     </g>\n",
              "    </g>\n",
              "    <g id=\"xtick_2\">\n",
              "     <g id=\"line2d_2\">\n",
              "      <g>\n",
              "       <use xlink:href=\"#mf30d1afdbf\" x=\"113.505758\" y=\"273.312\" style=\"stroke: #000000; stroke-width: 0.8\"/>\n",
              "      </g>\n",
              "     </g>\n",
              "     <g id=\"text_2\">\n",
              "      <!-- 0.75 -->\n",
              "      <g transform=\"translate(102.372946 287.910437) scale(0.1 -0.1)\">\n",
              "       <defs>\n",
              "        <path id=\"DejaVuSans-35\" d=\"M 691 4666 \n",
              "L 3169 4666 \n",
              "L 3169 4134 \n",
              "L 1269 4134 \n",
              "L 1269 2991 \n",
              "Q 1406 3038 1543 3061 \n",
              "Q 1681 3084 1819 3084 \n",
              "Q 2600 3084 3056 2656 \n",
              "Q 3513 2228 3513 1497 \n",
              "Q 3513 744 3044 326 \n",
              "Q 2575 -91 1722 -91 \n",
              "Q 1428 -91 1123 -41 \n",
              "Q 819 9 494 109 \n",
              "L 494 744 \n",
              "Q 775 591 1075 516 \n",
              "Q 1375 441 1709 441 \n",
              "Q 2250 441 2565 725 \n",
              "Q 2881 1009 2881 1497 \n",
              "Q 2881 1984 2565 2268 \n",
              "Q 2250 2553 1709 2553 \n",
              "Q 1456 2553 1204 2497 \n",
              "Q 953 2441 691 2322 \n",
              "L 691 4666 \n",
              "z\n",
              "\" transform=\"scale(0.015625)\"/>\n",
              "       </defs>\n",
              "       <use xlink:href=\"#DejaVuSans-30\"/>\n",
              "       <use xlink:href=\"#DejaVuSans-2e\" x=\"63.623047\"/>\n",
              "       <use xlink:href=\"#DejaVuSans-37\" x=\"95.410156\"/>\n",
              "       <use xlink:href=\"#DejaVuSans-35\" x=\"159.033203\"/>\n",
              "      </g>\n",
              "     </g>\n",
              "    </g>\n",
              "    <g id=\"xtick_3\">\n",
              "     <g id=\"line2d_3\">\n",
              "      <g>\n",
              "       <use xlink:href=\"#mf30d1afdbf\" x=\"169.48068\" y=\"273.312\" style=\"stroke: #000000; stroke-width: 0.8\"/>\n",
              "      </g>\n",
              "     </g>\n",
              "     <g id=\"text_3\">\n",
              "      <!-- 0.80 -->\n",
              "      <g transform=\"translate(158.347867 287.910437) scale(0.1 -0.1)\">\n",
              "       <defs>\n",
              "        <path id=\"DejaVuSans-38\" d=\"M 2034 2216 \n",
              "Q 1584 2216 1326 1975 \n",
              "Q 1069 1734 1069 1313 \n",
              "Q 1069 891 1326 650 \n",
              "Q 1584 409 2034 409 \n",
              "Q 2484 409 2743 651 \n",
              "Q 3003 894 3003 1313 \n",
              "Q 3003 1734 2745 1975 \n",
              "Q 2488 2216 2034 2216 \n",
              "z\n",
              "M 1403 2484 \n",
              "Q 997 2584 770 2862 \n",
              "Q 544 3141 544 3541 \n",
              "Q 544 4100 942 4425 \n",
              "Q 1341 4750 2034 4750 \n",
              "Q 2731 4750 3128 4425 \n",
              "Q 3525 4100 3525 3541 \n",
              "Q 3525 3141 3298 2862 \n",
              "Q 3072 2584 2669 2484 \n",
              "Q 3125 2378 3379 2068 \n",
              "Q 3634 1759 3634 1313 \n",
              "Q 3634 634 3220 271 \n",
              "Q 2806 -91 2034 -91 \n",
              "Q 1263 -91 848 271 \n",
              "Q 434 634 434 1313 \n",
              "Q 434 1759 690 2068 \n",
              "Q 947 2378 1403 2484 \n",
              "z\n",
              "M 1172 3481 \n",
              "Q 1172 3119 1398 2916 \n",
              "Q 1625 2713 2034 2713 \n",
              "Q 2441 2713 2670 2916 \n",
              "Q 2900 3119 2900 3481 \n",
              "Q 2900 3844 2670 4047 \n",
              "Q 2441 4250 2034 4250 \n",
              "Q 1625 4250 1398 4047 \n",
              "Q 1172 3844 1172 3481 \n",
              "z\n",
              "\" transform=\"scale(0.015625)\"/>\n",
              "       </defs>\n",
              "       <use xlink:href=\"#DejaVuSans-30\"/>\n",
              "       <use xlink:href=\"#DejaVuSans-2e\" x=\"63.623047\"/>\n",
              "       <use xlink:href=\"#DejaVuSans-38\" x=\"95.410156\"/>\n",
              "       <use xlink:href=\"#DejaVuSans-30\" x=\"159.033203\"/>\n",
              "      </g>\n",
              "     </g>\n",
              "    </g>\n",
              "    <g id=\"xtick_4\">\n",
              "     <g id=\"line2d_4\">\n",
              "      <g>\n",
              "       <use xlink:href=\"#mf30d1afdbf\" x=\"225.455601\" y=\"273.312\" style=\"stroke: #000000; stroke-width: 0.8\"/>\n",
              "      </g>\n",
              "     </g>\n",
              "     <g id=\"text_4\">\n",
              "      <!-- 0.85 -->\n",
              "      <g transform=\"translate(214.322789 287.910437) scale(0.1 -0.1)\">\n",
              "       <use xlink:href=\"#DejaVuSans-30\"/>\n",
              "       <use xlink:href=\"#DejaVuSans-2e\" x=\"63.623047\"/>\n",
              "       <use xlink:href=\"#DejaVuSans-38\" x=\"95.410156\"/>\n",
              "       <use xlink:href=\"#DejaVuSans-35\" x=\"159.033203\"/>\n",
              "      </g>\n",
              "     </g>\n",
              "    </g>\n",
              "    <g id=\"xtick_5\">\n",
              "     <g id=\"line2d_5\">\n",
              "      <g>\n",
              "       <use xlink:href=\"#mf30d1afdbf\" x=\"281.430523\" y=\"273.312\" style=\"stroke: #000000; stroke-width: 0.8\"/>\n",
              "      </g>\n",
              "     </g>\n",
              "     <g id=\"text_5\">\n",
              "      <!-- 0.90 -->\n",
              "      <g transform=\"translate(270.297711 287.910437) scale(0.1 -0.1)\">\n",
              "       <defs>\n",
              "        <path id=\"DejaVuSans-39\" d=\"M 703 97 \n",
              "L 703 672 \n",
              "Q 941 559 1184 500 \n",
              "Q 1428 441 1663 441 \n",
              "Q 2288 441 2617 861 \n",
              "Q 2947 1281 2994 2138 \n",
              "Q 2813 1869 2534 1725 \n",
              "Q 2256 1581 1919 1581 \n",
              "Q 1219 1581 811 2004 \n",
              "Q 403 2428 403 3163 \n",
              "Q 403 3881 828 4315 \n",
              "Q 1253 4750 1959 4750 \n",
              "Q 2769 4750 3195 4129 \n",
              "Q 3622 3509 3622 2328 \n",
              "Q 3622 1225 3098 567 \n",
              "Q 2575 -91 1691 -91 \n",
              "Q 1453 -91 1209 -44 \n",
              "Q 966 3 703 97 \n",
              "z\n",
              "M 1959 2075 \n",
              "Q 2384 2075 2632 2365 \n",
              "Q 2881 2656 2881 3163 \n",
              "Q 2881 3666 2632 3958 \n",
              "Q 2384 4250 1959 4250 \n",
              "Q 1534 4250 1286 3958 \n",
              "Q 1038 3666 1038 3163 \n",
              "Q 1038 2656 1286 2365 \n",
              "Q 1534 2075 1959 2075 \n",
              "z\n",
              "\" transform=\"scale(0.015625)\"/>\n",
              "       </defs>\n",
              "       <use xlink:href=\"#DejaVuSans-30\"/>\n",
              "       <use xlink:href=\"#DejaVuSans-2e\" x=\"63.623047\"/>\n",
              "       <use xlink:href=\"#DejaVuSans-39\" x=\"95.410156\"/>\n",
              "       <use xlink:href=\"#DejaVuSans-30\" x=\"159.033203\"/>\n",
              "      </g>\n",
              "     </g>\n",
              "    </g>\n",
              "    <g id=\"xtick_6\">\n",
              "     <g id=\"line2d_6\">\n",
              "      <g>\n",
              "       <use xlink:href=\"#mf30d1afdbf\" x=\"337.405445\" y=\"273.312\" style=\"stroke: #000000; stroke-width: 0.8\"/>\n",
              "      </g>\n",
              "     </g>\n",
              "     <g id=\"text_6\">\n",
              "      <!-- 0.95 -->\n",
              "      <g transform=\"translate(326.272632 287.910437) scale(0.1 -0.1)\">\n",
              "       <use xlink:href=\"#DejaVuSans-30\"/>\n",
              "       <use xlink:href=\"#DejaVuSans-2e\" x=\"63.623047\"/>\n",
              "       <use xlink:href=\"#DejaVuSans-39\" x=\"95.410156\"/>\n",
              "       <use xlink:href=\"#DejaVuSans-35\" x=\"159.033203\"/>\n",
              "      </g>\n",
              "     </g>\n",
              "    </g>\n",
              "   </g>\n",
              "   <g id=\"matplotlib.axis_2\">\n",
              "    <g id=\"ytick_1\">\n",
              "     <g id=\"line2d_7\">\n",
              "      <defs>\n",
              "       <path id=\"m5efef51a31\" d=\"M 0 0 \n",
              "L -3.5 0 \n",
              "\" style=\"stroke: #000000; stroke-width: 0.8\"/>\n",
              "      </defs>\n",
              "      <g>\n",
              "       <use xlink:href=\"#m5efef51a31\" x=\"30.103125\" y=\"244.363146\" style=\"stroke: #000000; stroke-width: 0.8\"/>\n",
              "      </g>\n",
              "     </g>\n",
              "     <g id=\"text_7\">\n",
              "      <!-- 0.4 -->\n",
              "      <g transform=\"translate(7.2 248.162365) scale(0.1 -0.1)\">\n",
              "       <defs>\n",
              "        <path id=\"DejaVuSans-34\" d=\"M 2419 4116 \n",
              "L 825 1625 \n",
              "L 2419 1625 \n",
              "L 2419 4116 \n",
              "z\n",
              "M 2253 4666 \n",
              "L 3047 4666 \n",
              "L 3047 1625 \n",
              "L 3713 1625 \n",
              "L 3713 1100 \n",
              "L 3047 1100 \n",
              "L 3047 0 \n",
              "L 2419 0 \n",
              "L 2419 1100 \n",
              "L 313 1100 \n",
              "L 313 1709 \n",
              "L 2253 4666 \n",
              "z\n",
              "\" transform=\"scale(0.015625)\"/>\n",
              "       </defs>\n",
              "       <use xlink:href=\"#DejaVuSans-30\"/>\n",
              "       <use xlink:href=\"#DejaVuSans-2e\" x=\"63.623047\"/>\n",
              "       <use xlink:href=\"#DejaVuSans-34\" x=\"95.410156\"/>\n",
              "      </g>\n",
              "     </g>\n",
              "    </g>\n",
              "    <g id=\"ytick_2\">\n",
              "     <g id=\"line2d_8\">\n",
              "      <g>\n",
              "       <use xlink:href=\"#m5efef51a31\" x=\"30.103125\" y=\"206.851955\" style=\"stroke: #000000; stroke-width: 0.8\"/>\n",
              "      </g>\n",
              "     </g>\n",
              "     <g id=\"text_8\">\n",
              "      <!-- 0.5 -->\n",
              "      <g transform=\"translate(7.2 210.651174) scale(0.1 -0.1)\">\n",
              "       <use xlink:href=\"#DejaVuSans-30\"/>\n",
              "       <use xlink:href=\"#DejaVuSans-2e\" x=\"63.623047\"/>\n",
              "       <use xlink:href=\"#DejaVuSans-35\" x=\"95.410156\"/>\n",
              "      </g>\n",
              "     </g>\n",
              "    </g>\n",
              "    <g id=\"ytick_3\">\n",
              "     <g id=\"line2d_9\">\n",
              "      <g>\n",
              "       <use xlink:href=\"#m5efef51a31\" x=\"30.103125\" y=\"169.340764\" style=\"stroke: #000000; stroke-width: 0.8\"/>\n",
              "      </g>\n",
              "     </g>\n",
              "     <g id=\"text_9\">\n",
              "      <!-- 0.6 -->\n",
              "      <g transform=\"translate(7.2 173.139983) scale(0.1 -0.1)\">\n",
              "       <defs>\n",
              "        <path id=\"DejaVuSans-36\" d=\"M 2113 2584 \n",
              "Q 1688 2584 1439 2293 \n",
              "Q 1191 2003 1191 1497 \n",
              "Q 1191 994 1439 701 \n",
              "Q 1688 409 2113 409 \n",
              "Q 2538 409 2786 701 \n",
              "Q 3034 994 3034 1497 \n",
              "Q 3034 2003 2786 2293 \n",
              "Q 2538 2584 2113 2584 \n",
              "z\n",
              "M 3366 4563 \n",
              "L 3366 3988 \n",
              "Q 3128 4100 2886 4159 \n",
              "Q 2644 4219 2406 4219 \n",
              "Q 1781 4219 1451 3797 \n",
              "Q 1122 3375 1075 2522 \n",
              "Q 1259 2794 1537 2939 \n",
              "Q 1816 3084 2150 3084 \n",
              "Q 2853 3084 3261 2657 \n",
              "Q 3669 2231 3669 1497 \n",
              "Q 3669 778 3244 343 \n",
              "Q 2819 -91 2113 -91 \n",
              "Q 1303 -91 875 529 \n",
              "Q 447 1150 447 2328 \n",
              "Q 447 3434 972 4092 \n",
              "Q 1497 4750 2381 4750 \n",
              "Q 2619 4750 2861 4703 \n",
              "Q 3103 4656 3366 4563 \n",
              "z\n",
              "\" transform=\"scale(0.015625)\"/>\n",
              "       </defs>\n",
              "       <use xlink:href=\"#DejaVuSans-30\"/>\n",
              "       <use xlink:href=\"#DejaVuSans-2e\" x=\"63.623047\"/>\n",
              "       <use xlink:href=\"#DejaVuSans-36\" x=\"95.410156\"/>\n",
              "      </g>\n",
              "     </g>\n",
              "    </g>\n",
              "    <g id=\"ytick_4\">\n",
              "     <g id=\"line2d_10\">\n",
              "      <g>\n",
              "       <use xlink:href=\"#m5efef51a31\" x=\"30.103125\" y=\"131.829573\" style=\"stroke: #000000; stroke-width: 0.8\"/>\n",
              "      </g>\n",
              "     </g>\n",
              "     <g id=\"text_10\">\n",
              "      <!-- 0.7 -->\n",
              "      <g transform=\"translate(7.2 135.628792) scale(0.1 -0.1)\">\n",
              "       <use xlink:href=\"#DejaVuSans-30\"/>\n",
              "       <use xlink:href=\"#DejaVuSans-2e\" x=\"63.623047\"/>\n",
              "       <use xlink:href=\"#DejaVuSans-37\" x=\"95.410156\"/>\n",
              "      </g>\n",
              "     </g>\n",
              "    </g>\n",
              "    <g id=\"ytick_5\">\n",
              "     <g id=\"line2d_11\">\n",
              "      <g>\n",
              "       <use xlink:href=\"#m5efef51a31\" x=\"30.103125\" y=\"94.318382\" style=\"stroke: #000000; stroke-width: 0.8\"/>\n",
              "      </g>\n",
              "     </g>\n",
              "     <g id=\"text_11\">\n",
              "      <!-- 0.8 -->\n",
              "      <g transform=\"translate(7.2 98.117601) scale(0.1 -0.1)\">\n",
              "       <use xlink:href=\"#DejaVuSans-30\"/>\n",
              "       <use xlink:href=\"#DejaVuSans-2e\" x=\"63.623047\"/>\n",
              "       <use xlink:href=\"#DejaVuSans-38\" x=\"95.410156\"/>\n",
              "      </g>\n",
              "     </g>\n",
              "    </g>\n",
              "    <g id=\"ytick_6\">\n",
              "     <g id=\"line2d_12\">\n",
              "      <g>\n",
              "       <use xlink:href=\"#m5efef51a31\" x=\"30.103125\" y=\"56.807191\" style=\"stroke: #000000; stroke-width: 0.8\"/>\n",
              "      </g>\n",
              "     </g>\n",
              "     <g id=\"text_12\">\n",
              "      <!-- 0.9 -->\n",
              "      <g transform=\"translate(7.2 60.60641) scale(0.1 -0.1)\">\n",
              "       <use xlink:href=\"#DejaVuSans-30\"/>\n",
              "       <use xlink:href=\"#DejaVuSans-2e\" x=\"63.623047\"/>\n",
              "       <use xlink:href=\"#DejaVuSans-39\" x=\"95.410156\"/>\n",
              "      </g>\n",
              "     </g>\n",
              "    </g>\n",
              "    <g id=\"ytick_7\">\n",
              "     <g id=\"line2d_13\">\n",
              "      <g>\n",
              "       <use xlink:href=\"#m5efef51a31\" x=\"30.103125\" y=\"19.296\" style=\"stroke: #000000; stroke-width: 0.8\"/>\n",
              "      </g>\n",
              "     </g>\n",
              "     <g id=\"text_13\">\n",
              "      <!-- 1.0 -->\n",
              "      <g transform=\"translate(7.2 23.095219) scale(0.1 -0.1)\">\n",
              "       <defs>\n",
              "        <path id=\"DejaVuSans-31\" d=\"M 794 531 \n",
              "L 1825 531 \n",
              "L 1825 4091 \n",
              "L 703 3866 \n",
              "L 703 4441 \n",
              "L 1819 4666 \n",
              "L 2450 4666 \n",
              "L 2450 531 \n",
              "L 3481 531 \n",
              "L 3481 0 \n",
              "L 794 0 \n",
              "L 794 531 \n",
              "z\n",
              "\" transform=\"scale(0.015625)\"/>\n",
              "       </defs>\n",
              "       <use xlink:href=\"#DejaVuSans-31\"/>\n",
              "       <use xlink:href=\"#DejaVuSans-2e\" x=\"63.623047\"/>\n",
              "       <use xlink:href=\"#DejaVuSans-30\" x=\"95.410156\"/>\n",
              "      </g>\n",
              "     </g>\n",
              "    </g>\n",
              "   </g>\n",
              "   <g id=\"patch_3\">\n",
              "    <path d=\"M 30.103125 273.312 \n",
              "L 30.103125 7.2 \n",
              "\" style=\"fill: none; stroke: #000000; stroke-width: 0.8; stroke-linejoin: miter; stroke-linecap: square\"/>\n",
              "   </g>\n",
              "   <g id=\"patch_4\">\n",
              "    <path d=\"M 387.223125 273.312 \n",
              "L 387.223125 7.2 \n",
              "\" style=\"fill: none; stroke: #000000; stroke-width: 0.8; stroke-linejoin: miter; stroke-linecap: square\"/>\n",
              "   </g>\n",
              "   <g id=\"patch_5\">\n",
              "    <path d=\"M 30.103125 273.312 \n",
              "L 387.223125 273.312 \n",
              "\" style=\"fill: none; stroke: #000000; stroke-width: 0.8; stroke-linejoin: miter; stroke-linecap: square\"/>\n",
              "   </g>\n",
              "   <g id=\"patch_6\">\n",
              "    <path d=\"M 30.103125 7.2 \n",
              "L 387.223125 7.2 \n",
              "\" style=\"fill: none; stroke: #000000; stroke-width: 0.8; stroke-linejoin: miter; stroke-linecap: square\"/>\n",
              "   </g>\n",
              "   <g id=\"text_14\">\n",
              "    <!-- 1 -->\n",
              "    <g transform=\"translate(49.694348 18.170664) scale(0.09 -0.09)\">\n",
              "     <use xlink:href=\"#DejaVuSans-31\"/>\n",
              "    </g>\n",
              "   </g>\n",
              "   <g id=\"text_15\">\n",
              "    <!-- 2 -->\n",
              "    <g transform=\"translate(180.302498 64.380102) scale(0.09 -0.09)\">\n",
              "     <defs>\n",
              "      <path id=\"DejaVuSans-32\" d=\"M 1228 531 \n",
              "L 3431 531 \n",
              "L 3431 0 \n",
              "L 469 0 \n",
              "L 469 531 \n",
              "Q 828 903 1448 1529 \n",
              "Q 2069 2156 2228 2338 \n",
              "Q 2531 2678 2651 2914 \n",
              "Q 2772 3150 2772 3378 \n",
              "Q 2772 3750 2511 3984 \n",
              "Q 2250 4219 1831 4219 \n",
              "Q 1534 4219 1204 4116 \n",
              "Q 875 4013 500 3803 \n",
              "L 500 4441 \n",
              "Q 881 4594 1212 4672 \n",
              "Q 1544 4750 1819 4750 \n",
              "Q 2544 4750 2975 4387 \n",
              "Q 3406 4025 3406 3419 \n",
              "Q 3406 3131 3298 2873 \n",
              "Q 3191 2616 2906 2266 \n",
              "Q 2828 2175 2409 1742 \n",
              "Q 1991 1309 1228 531 \n",
              "z\n",
              "\" transform=\"scale(0.015625)\"/>\n",
              "     </defs>\n",
              "     <use xlink:href=\"#DejaVuSans-32\"/>\n",
              "    </g>\n",
              "   </g>\n",
              "   <g id=\"text_16\">\n",
              "    <!-- 3 -->\n",
              "    <g transform=\"translate(180.302498 64.380102) scale(0.09 -0.09)\">\n",
              "     <defs>\n",
              "      <path id=\"DejaVuSans-33\" d=\"M 2597 2516 \n",
              "Q 3050 2419 3304 2112 \n",
              "Q 3559 1806 3559 1356 \n",
              "Q 3559 666 3084 287 \n",
              "Q 2609 -91 1734 -91 \n",
              "Q 1441 -91 1130 -33 \n",
              "Q 819 25 488 141 \n",
              "L 488 750 \n",
              "Q 750 597 1062 519 \n",
              "Q 1375 441 1716 441 \n",
              "Q 2309 441 2620 675 \n",
              "Q 2931 909 2931 1356 \n",
              "Q 2931 1769 2642 2001 \n",
              "Q 2353 2234 1838 2234 \n",
              "L 1294 2234 \n",
              "L 1294 2753 \n",
              "L 1863 2753 \n",
              "Q 2328 2753 2575 2939 \n",
              "Q 2822 3125 2822 3475 \n",
              "Q 2822 3834 2567 4026 \n",
              "Q 2313 4219 1838 4219 \n",
              "Q 1578 4219 1281 4162 \n",
              "Q 984 4106 628 3988 \n",
              "L 628 4550 \n",
              "Q 988 4650 1302 4700 \n",
              "Q 1616 4750 1894 4750 \n",
              "Q 2613 4750 3031 4423 \n",
              "Q 3450 4097 3450 3541 \n",
              "Q 3450 3153 3228 2886 \n",
              "Q 3006 2619 2597 2516 \n",
              "z\n",
              "\" transform=\"scale(0.015625)\"/>\n",
              "     </defs>\n",
              "     <use xlink:href=\"#DejaVuSans-33\"/>\n",
              "    </g>\n",
              "   </g>\n",
              "   <g id=\"text_17\">\n",
              "    <!-- 4 -->\n",
              "    <g transform=\"translate(300.230376 249.217855) scale(0.09 -0.09)\">\n",
              "     <use xlink:href=\"#DejaVuSans-34\"/>\n",
              "    </g>\n",
              "   </g>\n",
              "   <g id=\"text_18\">\n",
              "    <!-- 5 -->\n",
              "    <g transform=\"translate(352.836962 260.090664) scale(0.09 -0.09)\">\n",
              "     <use xlink:href=\"#DejaVuSans-35\"/>\n",
              "    </g>\n",
              "   </g>\n",
              "   <g id=\"text_19\">\n",
              "    <!-- 6 -->\n",
              "    <g transform=\"translate(282.891563 249.217855) scale(0.09 -0.09)\">\n",
              "     <use xlink:href=\"#DejaVuSans-36\"/>\n",
              "    </g>\n",
              "   </g>\n",
              "   <g id=\"text_20\">\n",
              "    <!-- 7 -->\n",
              "    <g transform=\"translate(374.348893 260.090664) scale(0.09 -0.09)\">\n",
              "     <use xlink:href=\"#DejaVuSans-37\"/>\n",
              "    </g>\n",
              "   </g>\n",
              "   <g id=\"text_21\">\n",
              "    <!-- 8 -->\n",
              "    <g transform=\"translate(315.023648 48.070889) scale(0.09 -0.09)\">\n",
              "     <use xlink:href=\"#DejaVuSans-38\"/>\n",
              "    </g>\n",
              "   </g>\n",
              "  </g>\n",
              " </g>\n",
              " <defs>\n",
              "  <clipPath id=\"pc9a64ffe6b\">\n",
              "   <rect x=\"30.103125\" y=\"7.2\" width=\"357.12\" height=\"266.112\"/>\n",
              "  </clipPath>\n",
              " </defs>\n",
              "</svg>\n"
            ],
            "text/plain": [
              "<Figure size 640x480 with 1 Axes>"
            ]
          },
          "metadata": {},
          "output_type": "display_data"
        }
      ],
      "source": [
        "projet.mapClassifiers({\"1\":projet.APrioriClassifier(),\n",
        "                \"2\":projet.ML2DClassifier(train,\"exang\"),\n",
        "                \"3\":projet.MAP2DClassifier(train,\"exang\"),\n",
        "                \"4\":projet.MAPNaiveBayesClassifier(train),\n",
        "                \"5\":projet.MLNaiveBayesClassifier(train),\n",
        "                \"6\":projet.ReducedMAPNaiveBayesClassifier(train,0.01),\n",
        "                \"7\":projet.ReducedMLNaiveBayesClassifier(train,0.01),\n",
        "                \"8\":projet.MAPTANClassifier(train),\n",
        "               },test)"
      ]
    },
    {
      "cell_type": "markdown",
      "metadata": {
        "id": "AHzm5vvW2IZ1"
      },
      "source": [
        "# Question 9\n",
        "\n",
        "<div style=\"float:left;margin:0 10px 10px 0\">\n",
        "    <img src=\"question.png\">\n",
        "</div>\n",
        "Quelle leçons & conclusion tirez-vous de ces expériences sur les classifieurs bayésiens ?"
      ]
    },
    {
      "cell_type": "markdown",
      "metadata": {
        "id": "nxl2eR6Y2IZ1"
      },
      "source": [
        "<br>\n",
        "La classification bayésienne est basés sur le théorème de Bayes <br>\n",
        "**Nous utiliserons principalement les formules suivantes**:\n",
        "$${{p(\\text{Classe|Paramètres})}={\\frac {{p(\\text{Paramètres|Classe)}}\\times {\\text{p(Classe)}}}{\\text{p(Paramètres)}}}\\,}$$\n",
        "<br>\n",
        "Dans la classification bayésienne classique considére que toutes les caractéristiques sont **indépendantes** les unes des autres. On note également que le dénominateur est **constante :** $\\prod p(a_i)$, donc lorsque le nombre de l'échantillon est suffisamment grande (suivi la loi normale), on peut parler de fréquences comme la probabilités directement.\n",
        "\n",
        "<u>Avantages:</u>\n",
        "\n",
        "(1) Logique algorithmique simple, facile à mettre en œuvre.\n",
        "\n",
        "(2) Faible surcharge de l'espace et temporelle dans le processus de classification\n",
        "\n",
        "<u>Désavantages:</u>\n",
        "\n",
        "Théoriquement, le modèle bayésien simple présente le taux d'erreur le plus faible par rapport aux autres méthodes de classification. Toutefois, ce n'est pas toujours le cas dans la pratique, car l'hypothèse selon laquelle les attributs sont indépendants les uns des autres n'est souvent pas valable dans la pratique, et la classification n'est pas efficace lorsque le nombre d'attributs est important ou que la corrélation entre les attributs est élevée.\n",
        "\n",
        "En revanche, la méthode bayésienne ordinaire donne de meilleurs résultats lorsque les attributs sont moins corrélés. "
      ]
    },
    {
      "cell_type": "code",
      "execution_count": null,
      "metadata": {
        "id": "n24K-Kxm2IZ1"
      },
      "outputs": [],
      "source": []
    }
  ],
  "metadata": {
    "hide_input": false,
    "kernelspec": {
      "display_name": "Python 3 (ipykernel)",
      "language": "python",
      "name": "python3"
    },
    "language_info": {
      "codemirror_mode": {
        "name": "ipython",
        "version": 3
      },
      "file_extension": ".py",
      "mimetype": "text/x-python",
      "name": "python",
      "nbconvert_exporter": "python",
      "pygments_lexer": "ipython3",
      "version": "3.10.7"
    },
    "colab": {
      "provenance": [],
      "collapsed_sections": [
        "4K9KmDaU2IZ0",
        "rCFRv-zZ2IZ0"
      ]
    }
  },
  "nbformat": 4,
  "nbformat_minor": 0
}